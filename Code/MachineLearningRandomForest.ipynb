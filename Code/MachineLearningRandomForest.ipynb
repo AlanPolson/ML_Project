{
 "cells": [
  {
   "cell_type": "code",
   "execution_count": 3,
   "metadata": {
    "collapsed": false
   },
   "outputs": [],
   "source": [
    "import pandas as pd\n",
    "import numpy as np\n",
    "from sklearn.ensemble import RandomForestClassifier\n",
    "from sklearn.ensemble import RandomForestRegressor\n",
    "from sklearn.metrics import roc_auc_score\n",
    "from sklearn.metrics import accuracy_score\n",
    "from sklearn.metrics import classification_report\n",
    "import random\n",
    "import matplotlib\n",
    "%matplotlib inline\n",
    "import matplotlib.pyplot as plt\n",
    "matplotlib.style.use('ggplot')\n",
    "from scipy import stats"
   ]
  },
  {
   "cell_type": "markdown",
   "metadata": {},
   "source": [
    "# Block Level Data "
   ]
  },
  {
   "cell_type": "code",
   "execution_count": 4,
   "metadata": {
    "collapsed": true
   },
   "outputs": [],
   "source": [
    "blocks = pd.read_csv(\"blocks50.csv\")"
   ]
  },
  {
   "cell_type": "code",
   "execution_count": 5,
   "metadata": {
    "collapsed": false
   },
   "outputs": [
    {
     "data": {
      "text/html": [
       "<div style=\"max-height:1000px;max-width:1500px;overflow:auto;\">\n",
       "<table border=\"1\" class=\"dataframe\">\n",
       "  <thead>\n",
       "    <tr style=\"text-align: right;\">\n",
       "      <th></th>\n",
       "      <th>LOGRECNO</th>\n",
       "      <th>our2</th>\n",
       "      <th>our3</th>\n",
       "      <th>our4</th>\n",
       "      <th>our5</th>\n",
       "      <th>our6</th>\n",
       "      <th>our7</th>\n",
       "      <th>our8</th>\n",
       "      <th>our9</th>\n",
       "      <th>our10</th>\n",
       "      <th>...</th>\n",
       "      <th>our42075</th>\n",
       "      <th>our42152</th>\n",
       "      <th>our42153</th>\n",
       "      <th>our42154</th>\n",
       "      <th>our42155</th>\n",
       "      <th>our42156</th>\n",
       "      <th>our42157</th>\n",
       "      <th>our42158</th>\n",
       "      <th>our42159</th>\n",
       "      <th>our42160</th>\n",
       "    </tr>\n",
       "  </thead>\n",
       "  <tbody>\n",
       "    <tr>\n",
       "      <th>0</th>\n",
       "      <td>8303</td>\n",
       "      <td>1102</td>\n",
       "      <td>389</td>\n",
       "      <td>26</td>\n",
       "      <td>9</td>\n",
       "      <td>34</td>\n",
       "      <td>0</td>\n",
       "      <td>27</td>\n",
       "      <td>0</td>\n",
       "      <td>19</td>\n",
       "      <td>...</td>\n",
       "      <td>0</td>\n",
       "      <td>81</td>\n",
       "      <td>0</td>\n",
       "      <td>38</td>\n",
       "      <td>4</td>\n",
       "      <td>21</td>\n",
       "      <td>0</td>\n",
       "      <td>0</td>\n",
       "      <td>18</td>\n",
       "      <td>0</td>\n",
       "    </tr>\n",
       "    <tr>\n",
       "      <th>1</th>\n",
       "      <td>8304</td>\n",
       "      <td>1061</td>\n",
       "      <td>470</td>\n",
       "      <td>33</td>\n",
       "      <td>31</td>\n",
       "      <td>43</td>\n",
       "      <td>20</td>\n",
       "      <td>31</td>\n",
       "      <td>0</td>\n",
       "      <td>15</td>\n",
       "      <td>...</td>\n",
       "      <td>0</td>\n",
       "      <td>103</td>\n",
       "      <td>0</td>\n",
       "      <td>56</td>\n",
       "      <td>23</td>\n",
       "      <td>9</td>\n",
       "      <td>0</td>\n",
       "      <td>0</td>\n",
       "      <td>15</td>\n",
       "      <td>0</td>\n",
       "    </tr>\n",
       "  </tbody>\n",
       "</table>\n",
       "<p>2 rows × 1966 columns</p>\n",
       "</div>"
      ],
      "text/plain": [
       "   LOGRECNO  our2  our3  our4  our5  our6  our7  our8  our9  our10    ...     \\\n",
       "0      8303  1102   389    26     9    34     0    27     0     19    ...      \n",
       "1      8304  1061   470    33    31    43    20    31     0     15    ...      \n",
       "\n",
       "   our42075  our42152  our42153  our42154  our42155  our42156  our42157  \\\n",
       "0         0        81         0        38         4        21         0   \n",
       "1         0       103         0        56        23         9         0   \n",
       "\n",
       "   our42158  our42159  our42160  \n",
       "0         0        18         0  \n",
       "1         0        15         0  \n",
       "\n",
       "[2 rows x 1966 columns]"
      ]
     },
     "execution_count": 5,
     "metadata": {},
     "output_type": "execute_result"
    }
   ],
   "source": [
    "blocks.head(2)"
   ]
  },
  {
   "cell_type": "code",
   "execution_count": 6,
   "metadata": {
    "collapsed": false
   },
   "outputs": [
    {
     "data": {
      "text/plain": [
       "(15463, 1966)"
      ]
     },
     "execution_count": 6,
     "metadata": {},
     "output_type": "execute_result"
    }
   ],
   "source": [
    "blocks.shape"
   ]
  },
  {
   "cell_type": "code",
   "execution_count": 7,
   "metadata": {
    "collapsed": true
   },
   "outputs": [],
   "source": [
    "attr = pd.read_csv(\"attr_interconn.csv\")"
   ]
  },
  {
   "cell_type": "code",
   "execution_count": 8,
   "metadata": {
    "collapsed": false
   },
   "outputs": [
    {
     "data": {
      "text/html": [
       "<div style=\"max-height:1000px;max-width:1500px;overflow:auto;\">\n",
       "<table border=\"1\" class=\"dataframe\">\n",
       "  <thead>\n",
       "    <tr style=\"text-align: right;\">\n",
       "      <th></th>\n",
       "      <th>Unnamed: 0</th>\n",
       "      <th>Q_name</th>\n",
       "      <th>puma_attr</th>\n",
       "      <th>block_attr</th>\n",
       "      <th>ourID</th>\n",
       "    </tr>\n",
       "  </thead>\n",
       "  <tbody>\n",
       "    <tr>\n",
       "      <th>0</th>\n",
       "      <td>0</td>\n",
       "      <td>B01001_sex by age_Total:_total:</td>\n",
       "      <td>0002_1</td>\n",
       "      <td>0002_1</td>\n",
       "      <td>our2</td>\n",
       "    </tr>\n",
       "    <tr>\n",
       "      <th>1</th>\n",
       "      <td>1</td>\n",
       "      <td>B01001_sex by age_Male:_male:</td>\n",
       "      <td>0002_2</td>\n",
       "      <td>0002_2</td>\n",
       "      <td>our3</td>\n",
       "    </tr>\n",
       "  </tbody>\n",
       "</table>\n",
       "</div>"
      ],
      "text/plain": [
       "   Unnamed: 0                           Q_name puma_attr block_attr ourID\n",
       "0           0  B01001_sex by age_Total:_total:    0002_1     0002_1  our2\n",
       "1           1    B01001_sex by age_Male:_male:    0002_2     0002_2  our3"
      ]
     },
     "execution_count": 8,
     "metadata": {},
     "output_type": "execute_result"
    }
   ],
   "source": [
    "attr.head(2)"
   ]
  },
  {
   "cell_type": "code",
   "execution_count": 9,
   "metadata": {
    "collapsed": false
   },
   "outputs": [
    {
     "data": {
      "text/plain": [
       "(42796, 5)"
      ]
     },
     "execution_count": 9,
     "metadata": {},
     "output_type": "execute_result"
    }
   ],
   "source": [
    "attr.shape"
   ]
  },
  {
   "cell_type": "code",
   "execution_count": 10,
   "metadata": {
    "collapsed": false
   },
   "outputs": [],
   "source": [
    "features = pd.read_csv(\"features_we_use.csv\")"
   ]
  },
  {
   "cell_type": "code",
   "execution_count": 11,
   "metadata": {
    "collapsed": false
   },
   "outputs": [
    {
     "data": {
      "text/html": [
       "<div style=\"max-height:1000px;max-width:1500px;overflow:auto;\">\n",
       "<table border=\"1\" class=\"dataframe\">\n",
       "  <thead>\n",
       "    <tr style=\"text-align: right;\">\n",
       "      <th></th>\n",
       "      <th>Unnamed: 0</th>\n",
       "      <th>Q_name</th>\n",
       "      <th>puma_attr</th>\n",
       "      <th>block_attr</th>\n",
       "      <th>ourID</th>\n",
       "    </tr>\n",
       "  </thead>\n",
       "  <tbody>\n",
       "    <tr>\n",
       "      <th>0</th>\n",
       "      <td>0</td>\n",
       "      <td>B01001_sex by age_Total:_total:</td>\n",
       "      <td>0002_1</td>\n",
       "      <td>0002_1</td>\n",
       "      <td>our2</td>\n",
       "    </tr>\n",
       "    <tr>\n",
       "      <th>1</th>\n",
       "      <td>1</td>\n",
       "      <td>B01001_sex by age_Male:_male:</td>\n",
       "      <td>0002_2</td>\n",
       "      <td>0002_2</td>\n",
       "      <td>our3</td>\n",
       "    </tr>\n",
       "  </tbody>\n",
       "</table>\n",
       "</div>"
      ],
      "text/plain": [
       "   Unnamed: 0                           Q_name puma_attr block_attr ourID\n",
       "0           0  B01001_sex by age_Total:_total:    0002_1     0002_1  our2\n",
       "1           1    B01001_sex by age_Male:_male:    0002_2     0002_2  our3"
      ]
     },
     "execution_count": 11,
     "metadata": {},
     "output_type": "execute_result"
    }
   ],
   "source": [
    "features.head(2)"
   ]
  },
  {
   "cell_type": "code",
   "execution_count": 12,
   "metadata": {
    "collapsed": false
   },
   "outputs": [
    {
     "data": {
      "text/plain": [
       "(1965, 5)"
      ]
     },
     "execution_count": 12,
     "metadata": {},
     "output_type": "execute_result"
    }
   ],
   "source": [
    "features.shape"
   ]
  },
  {
   "cell_type": "code",
   "execution_count": 13,
   "metadata": {
    "collapsed": true
   },
   "outputs": [],
   "source": [
    "predict = pd.read_csv(\"predict.csv\")"
   ]
  },
  {
   "cell_type": "code",
   "execution_count": 14,
   "metadata": {
    "collapsed": false
   },
   "outputs": [
    {
     "data": {
      "text/html": [
       "<div style=\"max-height:1000px;max-width:1500px;overflow:auto;\">\n",
       "<table border=\"1\" class=\"dataframe\">\n",
       "  <thead>\n",
       "    <tr style=\"text-align: right;\">\n",
       "      <th></th>\n",
       "      <th>st</th>\n",
       "      <th>0165_10</th>\n",
       "      <th>0165_11</th>\n",
       "      <th>0165_12</th>\n",
       "      <th>0165_13</th>\n",
       "      <th>0165_14</th>\n",
       "      <th>0165_15</th>\n",
       "      <th>0165_16</th>\n",
       "      <th>0165_17</th>\n",
       "      <th>0165_18</th>\n",
       "      <th>...</th>\n",
       "      <th>0165_23</th>\n",
       "      <th>0165_24</th>\n",
       "      <th>0165_25</th>\n",
       "      <th>0165_26</th>\n",
       "      <th>0165_27</th>\n",
       "      <th>0165_28</th>\n",
       "      <th>0165_29</th>\n",
       "      <th>0165_30</th>\n",
       "      <th>internetP</th>\n",
       "      <th>label</th>\n",
       "    </tr>\n",
       "  </thead>\n",
       "  <tbody>\n",
       "    <tr>\n",
       "      <th>0</th>\n",
       "      <td>il_129</td>\n",
       "      <td>284747</td>\n",
       "      <td>192327</td>\n",
       "      <td>3587</td>\n",
       "      <td>43965</td>\n",
       "      <td>13861</td>\n",
       "      <td>30104</td>\n",
       "      <td>90127</td>\n",
       "      <td>35810</td>\n",
       "      <td>54317</td>\n",
       "      <td>...</td>\n",
       "      <td>3133</td>\n",
       "      <td>6751</td>\n",
       "      <td>18757</td>\n",
       "      <td>7717</td>\n",
       "      <td>11040</td>\n",
       "      <td>23425</td>\n",
       "      <td>11487</td>\n",
       "      <td>80933</td>\n",
       "      <td>67.543117</td>\n",
       "      <td>train</td>\n",
       "    </tr>\n",
       "    <tr>\n",
       "      <th>1</th>\n",
       "      <td>wi_57</td>\n",
       "      <td>231386</td>\n",
       "      <td>143848</td>\n",
       "      <td>1469</td>\n",
       "      <td>29031</td>\n",
       "      <td>11311</td>\n",
       "      <td>17720</td>\n",
       "      <td>80797</td>\n",
       "      <td>38049</td>\n",
       "      <td>42748</td>\n",
       "      <td>...</td>\n",
       "      <td>562</td>\n",
       "      <td>1340</td>\n",
       "      <td>12964</td>\n",
       "      <td>5787</td>\n",
       "      <td>7177</td>\n",
       "      <td>12422</td>\n",
       "      <td>15409</td>\n",
       "      <td>72129</td>\n",
       "      <td>62.167979</td>\n",
       "      <td>train</td>\n",
       "    </tr>\n",
       "  </tbody>\n",
       "</table>\n",
       "<p>2 rows × 24 columns</p>\n",
       "</div>"
      ],
      "text/plain": [
       "       st  0165_10  0165_11  0165_12  0165_13  0165_14  0165_15  0165_16  \\\n",
       "0  il_129   284747   192327     3587    43965    13861    30104    90127   \n",
       "1   wi_57   231386   143848     1469    29031    11311    17720    80797   \n",
       "\n",
       "   0165_17  0165_18  ...    0165_23  0165_24  0165_25  0165_26  0165_27  \\\n",
       "0    35810    54317  ...       3133     6751    18757     7717    11040   \n",
       "1    38049    42748  ...        562     1340    12964     5787     7177   \n",
       "\n",
       "   0165_28  0165_29  0165_30  internetP  label  \n",
       "0    23425    11487    80933  67.543117  train  \n",
       "1    12422    15409    72129  62.167979  train  \n",
       "\n",
       "[2 rows x 24 columns]"
      ]
     },
     "execution_count": 14,
     "metadata": {},
     "output_type": "execute_result"
    }
   ],
   "source": [
    "predict.head(2)"
   ]
  },
  {
   "cell_type": "code",
   "execution_count": 15,
   "metadata": {
    "collapsed": false
   },
   "outputs": [
    {
     "data": {
      "text/plain": [
       "(5777, 24)"
      ]
     },
     "execution_count": 15,
     "metadata": {},
     "output_type": "execute_result"
    }
   ],
   "source": [
    "predict.shape"
   ]
  },
  {
   "cell_type": "markdown",
   "metadata": {},
   "source": [
    "# Reading Puma Data"
   ]
  },
  {
   "cell_type": "code",
   "execution_count": 16,
   "metadata": {
    "collapsed": false
   },
   "outputs": [],
   "source": [
    "puma = pd.read_csv(\"puma50.csv\")"
   ]
  },
  {
   "cell_type": "code",
   "execution_count": 17,
   "metadata": {
    "collapsed": false
   },
   "outputs": [
    {
     "data": {
      "text/html": [
       "<div style=\"max-height:1000px;max-width:1500px;overflow:auto;\">\n",
       "<table border=\"1\" class=\"dataframe\">\n",
       "  <thead>\n",
       "    <tr style=\"text-align: right;\">\n",
       "      <th></th>\n",
       "      <th>st</th>\n",
       "      <th>our2</th>\n",
       "      <th>our3</th>\n",
       "      <th>our4</th>\n",
       "      <th>our5</th>\n",
       "      <th>our6</th>\n",
       "      <th>our7</th>\n",
       "      <th>our8</th>\n",
       "      <th>our9</th>\n",
       "      <th>our10</th>\n",
       "      <th>...</th>\n",
       "      <th>our42152</th>\n",
       "      <th>our42153</th>\n",
       "      <th>our42154</th>\n",
       "      <th>our42155</th>\n",
       "      <th>our42156</th>\n",
       "      <th>our42157</th>\n",
       "      <th>our42158</th>\n",
       "      <th>our42159</th>\n",
       "      <th>our42160</th>\n",
       "      <th>label</th>\n",
       "    </tr>\n",
       "  </thead>\n",
       "  <tbody>\n",
       "    <tr>\n",
       "      <th>0</th>\n",
       "      <td>il_129</td>\n",
       "      <td>710667</td>\n",
       "      <td>351639</td>\n",
       "      <td>22906</td>\n",
       "      <td>23456</td>\n",
       "      <td>24982</td>\n",
       "      <td>14097</td>\n",
       "      <td>8870</td>\n",
       "      <td>5073</td>\n",
       "      <td>4804</td>\n",
       "      <td>...</td>\n",
       "      <td>85878</td>\n",
       "      <td>0</td>\n",
       "      <td>25100</td>\n",
       "      <td>29949</td>\n",
       "      <td>7047</td>\n",
       "      <td>74</td>\n",
       "      <td>2341</td>\n",
       "      <td>21367</td>\n",
       "      <td>768</td>\n",
       "      <td>train</td>\n",
       "    </tr>\n",
       "    <tr>\n",
       "      <th>1</th>\n",
       "      <td>wi_57</td>\n",
       "      <td>599168</td>\n",
       "      <td>288604</td>\n",
       "      <td>22838</td>\n",
       "      <td>22923</td>\n",
       "      <td>21190</td>\n",
       "      <td>12728</td>\n",
       "      <td>10750</td>\n",
       "      <td>7433</td>\n",
       "      <td>5315</td>\n",
       "      <td>...</td>\n",
       "      <td>39792</td>\n",
       "      <td>39</td>\n",
       "      <td>12252</td>\n",
       "      <td>8283</td>\n",
       "      <td>8970</td>\n",
       "      <td>0</td>\n",
       "      <td>1870</td>\n",
       "      <td>8378</td>\n",
       "      <td>363</td>\n",
       "      <td>train</td>\n",
       "    </tr>\n",
       "  </tbody>\n",
       "</table>\n",
       "<p>2 rows × 1967 columns</p>\n",
       "</div>"
      ],
      "text/plain": [
       "       st    our2    our3   our4   our5   our6   our7   our8  our9  our10  \\\n",
       "0  il_129  710667  351639  22906  23456  24982  14097   8870  5073   4804   \n",
       "1   wi_57  599168  288604  22838  22923  21190  12728  10750  7433   5315   \n",
       "\n",
       "   ...    our42152  our42153  our42154  our42155  our42156  our42157  \\\n",
       "0  ...       85878         0     25100     29949      7047        74   \n",
       "1  ...       39792        39     12252      8283      8970         0   \n",
       "\n",
       "   our42158  our42159  our42160  label  \n",
       "0      2341     21367       768  train  \n",
       "1      1870      8378       363  train  \n",
       "\n",
       "[2 rows x 1967 columns]"
      ]
     },
     "execution_count": 17,
     "metadata": {},
     "output_type": "execute_result"
    }
   ],
   "source": [
    "puma.head(2)"
   ]
  },
  {
   "cell_type": "code",
   "execution_count": 18,
   "metadata": {
    "collapsed": false
   },
   "outputs": [
    {
     "data": {
      "text/plain": [
       "train    3696\n",
       "test     1156\n",
       "valid     925\n",
       "dtype: int64"
      ]
     },
     "execution_count": 18,
     "metadata": {},
     "output_type": "execute_result"
    }
   ],
   "source": [
    "puma['label'].value_counts()"
   ]
  },
  {
   "cell_type": "code",
   "execution_count": 19,
   "metadata": {
    "collapsed": true
   },
   "outputs": [],
   "source": [
    "pumadata=puma.copy()"
   ]
  },
  {
   "cell_type": "markdown",
   "metadata": {},
   "source": [
    "# Percentages of internet Users"
   ]
  },
  {
   "cell_type": "code",
   "execution_count": 20,
   "metadata": {
    "collapsed": false
   },
   "outputs": [],
   "source": [
    "internetper = predict['0165_11']/(predict['0165_10'])"
   ]
  },
  {
   "cell_type": "markdown",
   "metadata": {},
   "source": [
    "### Defining threshhold to divide data between 0 and 1 i.e. no internet connection or internet connection. percentage of internet users > median is 1 and less than median 0\n"
   ]
  },
  {
   "cell_type": "code",
   "execution_count": 22,
   "metadata": {
    "collapsed": false
   },
   "outputs": [],
   "source": [
    "pumadata['internet']= internetper.apply(lambda x: 1 if x>=internetper.median() else 0)"
   ]
  },
  {
   "cell_type": "markdown",
   "metadata": {},
   "source": [
    "## Giving dummy value to \"st\" id"
   ]
  },
  {
   "cell_type": "code",
   "execution_count": 23,
   "metadata": {
    "collapsed": false
   },
   "outputs": [],
   "source": [
    "pumadata['st'] = pd.get_dummies(data=pumadata, columns=['st'], sparse=True)"
   ]
  },
  {
   "cell_type": "markdown",
   "metadata": {},
   "source": [
    "### Dividing Data in Test Train and validation based on predifined labels. \n",
    "### And dropping labels"
   ]
  },
  {
   "cell_type": "code",
   "execution_count": 24,
   "metadata": {
    "collapsed": true
   },
   "outputs": [],
   "source": [
    "train = pumadata.loc[pumadata['label'] == 'train']\n",
    "train = train.drop(['label'], axis=1)\n",
    "test = pumadata.loc[pumadata['label'] == 'test']\n",
    "test = test.drop(['label'], axis=1)"
   ]
  },
  {
   "cell_type": "code",
   "execution_count": 25,
   "metadata": {
    "collapsed": true
   },
   "outputs": [],
   "source": [
    "valid= pumadata.loc[pumadata['label'] == 'valid']\n",
    "valid = valid.drop(['label'], axis=1)"
   ]
  },
  {
   "cell_type": "markdown",
   "metadata": {},
   "source": [
    "Seperating Labels from each of training, testing and validation data sets so we are only left with features and labels stored in different variables.  \n",
    "\n",
    "Converting each of the string nan values to numpy int nan values and converting all the features to numpy array"
   ]
  },
  {
   "cell_type": "code",
   "execution_count": 26,
   "metadata": {
    "collapsed": false
   },
   "outputs": [],
   "source": [
    "label_train = np.ravel(train[['internet']].values)\n",
    "pred_train = train.drop(['internet'], axis=1)\n",
    "pred_train = np.int64(pred_train.fillna(np.nan))"
   ]
  },
  {
   "cell_type": "code",
   "execution_count": 27,
   "metadata": {
    "collapsed": false
   },
   "outputs": [],
   "source": [
    "results = test.copy()\n",
    "label_test = np.ravel(test[['internet']].values)\n",
    "pred_test = test.drop(['internet'], axis=1)\n",
    "feature_names = list(pred_test.columns.values)\n",
    "pred_test = np.int64(pred_test.fillna(np.nan))"
   ]
  },
  {
   "cell_type": "code",
   "execution_count": 28,
   "metadata": {
    "collapsed": true
   },
   "outputs": [],
   "source": [
    "results1 = valid.copy()\n",
    "label_valid = np.ravel(valid[['internet']].values)\n",
    "pred_valid = valid.drop(['internet'], axis=1)\n",
    "feature_names = list(pred_valid.columns.values)\n",
    "pred_valid = np.int64(pred_valid.fillna(np.nan))"
   ]
  },
  {
   "cell_type": "code",
   "execution_count": 29,
   "metadata": {
    "collapsed": false
   },
   "outputs": [],
   "source": [
    "import multiprocessing\n",
    "jobs=multiprocessing.cpu_count()"
   ]
  },
  {
   "cell_type": "code",
   "execution_count": 30,
   "metadata": {
    "collapsed": false
   },
   "outputs": [
    {
     "data": {
      "text/plain": [
       "64"
      ]
     },
     "execution_count": 30,
     "metadata": {},
     "output_type": "execute_result"
    }
   ],
   "source": [
    "jobs"
   ]
  },
  {
   "cell_type": "markdown",
   "metadata": {},
   "source": [
    "## Building Random Forest Classifier and training is over training data set. \n",
    "## Calculating Area Under Curve (AUC) score and accuracy "
   ]
  },
  {
   "cell_type": "code",
   "execution_count": 31,
   "metadata": {
    "collapsed": false
   },
   "outputs": [
    {
     "name": "stderr",
     "output_type": "stream",
     "text": [
      "[Parallel(n_jobs=64)]: Done   1 out of 100 | elapsed:    0.2s remaining:   18.4s\n",
      "[Parallel(n_jobs=64)]: Done  51 out of 100 | elapsed:    0.5s remaining:    0.4s\n",
      "[Parallel(n_jobs=64)]: Done 100 out of 100 | elapsed:    0.7s finished\n"
     ]
    },
    {
     "name": "stdout",
     "output_type": "stream",
     "text": [
      "building tree 1 of 100\n",
      "building tree 2 of 100\n",
      "building tree 3 of 100\n",
      "building tree 4 of 100\n",
      "building tree 5 of 100\n",
      "building tree 6 of 100\n",
      "building tree 7 of 100\n",
      "building tree 8 of 100\n",
      "building tree 9 of 100\n",
      "building tree 10 of 100\n",
      "building tree 11 of 100\n",
      "building tree 12 of 100\n",
      "building tree 13 of 100\n",
      "building tree 14 of 100\n",
      "building tree 15 of 100\n",
      "building tree 16 of 100\n",
      "building tree 17 of 100\n",
      "building tree 18 of 100\n",
      "building tree 20 of 100\n",
      "building tree 19 of 100\n",
      "building tree 21 of 100\n",
      "building tree 22 of 100building tree 23 of 100building tree 24 of 100building tree 25 of 100\n",
      "\n",
      " building tree 27 of 100building tree 28 of 100\n",
      "\n",
      "building tree 26 of 100\n",
      "\n",
      "\n",
      "building tree 29 of 100\n",
      "building tree 30 of 100\n",
      "building tree 31 of 100\n",
      "building tree 32 of 100building tree 33 of 100\n",
      " \n",
      " building tree 36 of 100building tree 37 of 100building tree 35 of 100building tree 34 of 100building tree 38 of 100building tree 39 of 100building tree 40 of 100\n",
      "\n",
      "\n",
      " \n",
      "\n",
      " \n",
      "building tree 41 of 100\n",
      "building tree 42 of 100\n",
      "\n",
      "building tree 43 of 100\n",
      "building tree 44 of 100\n",
      "building tree 45 of 100\n",
      "building tree 46 of 100\n",
      "building tree 47 of 100\n",
      "building tree 48 of 100\n",
      "building tree 49 of 100\n",
      "building tree 50 of 100\n",
      "building tree 51 of 100\n",
      "building tree 52 of 100\n",
      "building tree 53 of 100\n",
      "building tree 54 of 100\n",
      "building tree 55 of 100\n",
      "building tree 56 of 100\n",
      "building tree 57 of 100\n",
      "building tree 58 of 100\n",
      "building tree 59 of 100\n",
      "building tree 60 of 100\n",
      "building tree 61 of 100\n",
      "building tree 62 of 100\n",
      "building tree 63 of 100\n",
      "building tree 64 of 100\n",
      "building tree 65 of 100\n",
      "building tree 66 of 100\n",
      "building tree 67 of 100\n",
      "building tree 68 of 100\n",
      "building tree 69 of 100\n",
      "building tree 70 of 100\n",
      "building tree 71 of 100\n",
      "building tree 72 of 100building tree 73 of 100\n",
      "building tree 74 of 100\n",
      "building tree 75 of 100building tree 76 of 100\n",
      "\n",
      "building tree 77 of 100building tree 78 of 100\n",
      "\n",
      "\n",
      "building tree 79 of 100\n",
      "building tree 80 of 100\n",
      "building tree 81 of 100\n",
      "building tree 82 of 100\n",
      "building tree 83 of 100\n",
      "building tree 84 of 100\n",
      " building tree 85 of 100\n",
      "building tree 86 of 100\n",
      "building tree 87 of 100\n",
      "building tree 88 of 100\n",
      "building tree 89 of 100\n",
      "building tree 90 of 100\n",
      "building tree 91 of 100\n",
      "building tree 92 of 100\n",
      "building tree 93 of 100\n",
      "building tree 94 of 100\n",
      "building tree 95 of 100\n",
      "building tree 96 of 100\n",
      "building tree 97 of 100\n",
      "building tree 98 of 100\n",
      "building tree 99 of 100\n",
      "building tree 100 of 100\n",
      "0.984636050709"
     ]
    },
    {
     "name": "stderr",
     "output_type": "stream",
     "text": [
      "[Parallel(n_jobs=64)]: Done   1 out of  16 | elapsed:    0.0s remaining:    0.0s\n",
      "[Parallel(n_jobs=64)]: Done  51 out of 100 | elapsed:    0.0s remaining:    0.0s\n",
      "[Parallel(n_jobs=64)]: Done 100 out of 100 | elapsed:    0.0s finished\n",
      "[Parallel(n_jobs=64)]: Done   1 out of   5 | elapsed:    0.0s remaining:    0.0s\n",
      "[Parallel(n_jobs=64)]: Done   6 out of   9 | elapsed:    0.0s remaining:    0.0s\n",
      "[Parallel(n_jobs=64)]: Done   8 out of  13 | elapsed:    0.0s remaining:    0.0s\n",
      "[Parallel(n_jobs=64)]: Done  15 out of  27 | elapsed:    0.0s remaining:    0.0s\n",
      "[Parallel(n_jobs=64)]: Done  16 out of  30 | elapsed:    0.0s remaining:    0.0s\n",
      "[Parallel(n_jobs=64)]: Done  19 out of  36 | elapsed:    0.0s remaining:    0.0s\n",
      "[Parallel(n_jobs=64)]: Done  21 out of  40 | elapsed:    0.0s remaining:    0.0s\n",
      "[Parallel(n_jobs=64)]: Done  41 out of  80 | elapsed:    0.0s remaining:    0.0s\n",
      "[Parallel(n_jobs=64)]: Done  51 out of 100 | elapsed:    0.0s remaining:    0.0s\n",
      "[Parallel(n_jobs=64)]: Done 100 out of 100 | elapsed:    0.0s finished\n"
     ]
    },
    {
     "name": "stdout",
     "output_type": "stream",
     "text": [
      "\n",
      "0.939446366782\n"
     ]
    }
   ],
   "source": [
    "num_trees = 100\n",
    "rf = RandomForestClassifier(n_estimators=num_trees, n_jobs=jobs, min_samples_split=10, verbose=2, oob_score = True)\n",
    "rf.fit(X=pred_train, y=label_train)\n",
    "\n",
    "# generate predictions and add them to 'results'\n",
    "rf_predictions = rf.predict_proba(pred_test)[:, 1]\n",
    "results['preds'] = rf_predictions\n",
    "# get AUC score (produce probabilistic predictions)\n",
    "print (roc_auc_score(label_test, rf_predictions))\n",
    "\n",
    "# get accuracy (predict the class)\n",
    "rf_predictions_class = rf.predict(pred_test)\n",
    "print (accuracy_score(label_test, rf_predictions_class, normalize=True))"
   ]
  },
  {
   "cell_type": "markdown",
   "metadata": {},
   "source": [
    "### Running same model on validation set calculate AUC score"
   ]
  },
  {
   "cell_type": "code",
   "execution_count": 32,
   "metadata": {
    "collapsed": false
   },
   "outputs": [
    {
     "name": "stdout",
     "output_type": "stream",
     "text": [
      "0.985181823286\n"
     ]
    },
    {
     "name": "stderr",
     "output_type": "stream",
     "text": [
      "[Parallel(n_jobs=64)]: Done   1 out of  12 | elapsed:    0.0s remaining:    0.0s\n",
      "[Parallel(n_jobs=64)]: Done  51 out of 100 | elapsed:    0.0s remaining:    0.0s\n",
      "[Parallel(n_jobs=64)]: Done 100 out of 100 | elapsed:    0.0s finished\n"
     ]
    }
   ],
   "source": [
    "rf_predictions = rf.predict_proba(pred_valid)[:, 1]\n",
    "results1['v_pred'] = rf_predictions\n",
    "print (roc_auc_score(label_valid, rf_predictions))"
   ]
  },
  {
   "cell_type": "markdown",
   "metadata": {},
   "source": [
    "### Finding Accuracy of the score"
   ]
  },
  {
   "cell_type": "code",
   "execution_count": 33,
   "metadata": {
    "collapsed": false
   },
   "outputs": [
    {
     "name": "stdout",
     "output_type": "stream",
     "text": [
      "0.936216216216\n"
     ]
    },
    {
     "name": "stderr",
     "output_type": "stream",
     "text": [
      "[Parallel(n_jobs=64)]: Done   1 out of  26 | elapsed:    0.0s remaining:    0.1s\n",
      "[Parallel(n_jobs=64)]: Done  51 out of 100 | elapsed:    0.0s remaining:    0.0s\n",
      "[Parallel(n_jobs=64)]: Done 100 out of 100 | elapsed:    0.0s finished\n"
     ]
    }
   ],
   "source": [
    "rf_predictions_class = rf.predict(pred_valid)\n",
    "print (accuracy_score(label_valid, rf_predictions_class, normalize=True))"
   ]
  },
  {
   "cell_type": "markdown",
   "metadata": {},
   "source": [
    "### Cleaning block level data in same way as train, test and valid data set above"
   ]
  },
  {
   "cell_type": "code",
   "execution_count": 34,
   "metadata": {
    "collapsed": false
   },
   "outputs": [],
   "source": [
    "results2 = blocks.copy()\n",
    "feature_names = list(blocks.columns.values)\n",
    "pred_block = np.int64(blocks.fillna(np.nan))"
   ]
  },
  {
   "cell_type": "code",
   "execution_count": 35,
   "metadata": {
    "collapsed": false
   },
   "outputs": [
    {
     "data": {
      "text/plain": [
       "(15463, 1966)"
      ]
     },
     "execution_count": 35,
     "metadata": {},
     "output_type": "execute_result"
    }
   ],
   "source": [
    "pred_block.shape"
   ]
  },
  {
   "cell_type": "markdown",
   "metadata": {},
   "source": [
    "### Storing prediction probability in results 2"
   ]
  },
  {
   "cell_type": "code",
   "execution_count": 36,
   "metadata": {
    "collapsed": false
   },
   "outputs": [
    {
     "name": "stderr",
     "output_type": "stream",
     "text": [
      "[Parallel(n_jobs=64)]: Done   1 out of  19 | elapsed:    0.0s remaining:    0.1s\n",
      "[Parallel(n_jobs=64)]: Done  51 out of 100 | elapsed:    0.1s remaining:    0.0s\n",
      "[Parallel(n_jobs=64)]: Done 100 out of 100 | elapsed:    0.1s finished\n"
     ]
    }
   ],
   "source": [
    "rf_predictions = rf.predict_proba(pred_block)[:, 1]\n",
    "results2['preds'] = rf_predictions"
   ]
  },
  {
   "cell_type": "markdown",
   "metadata": {},
   "source": [
    "# Using Random Forest Regressor"
   ]
  },
  {
   "cell_type": "code",
   "execution_count": 37,
   "metadata": {
    "collapsed": true
   },
   "outputs": [],
   "source": [
    "pumadata1=puma.copy()\n",
    "pumadata1['internet']= predict['0165_11']/predict['0165_10']\n",
    "pumadata1['st'] = pd.get_dummies(data=pumadata, columns=['st'], sparse=True)\n"
   ]
  },
  {
   "cell_type": "code",
   "execution_count": 38,
   "metadata": {
    "collapsed": false
   },
   "outputs": [],
   "source": [
    "trainr = pumadata1.loc[pumadata1['label'] == 'train']\n",
    "trainr = trainr.drop(['label'], axis=1)\n",
    "testr = pumadata1.loc[pumadata1['label'] == 'test']\n",
    "testr = testr.drop(['label'], axis=1)"
   ]
  },
  {
   "cell_type": "code",
   "execution_count": 39,
   "metadata": {
    "collapsed": true
   },
   "outputs": [],
   "source": [
    "validr= pumadata1.loc[pumadata1['label'] == 'valid']\n",
    "validr = validr.drop(['label'], axis=1)"
   ]
  },
  {
   "cell_type": "code",
   "execution_count": 40,
   "metadata": {
    "collapsed": true
   },
   "outputs": [],
   "source": [
    "label_trainr = np.ravel(trainr[['internet']].values)\n",
    "pred_trainr = trainr.drop(['internet'], axis=1)\n",
    "pred_trainr = np.int64(pred_trainr.fillna(np.nan))"
   ]
  },
  {
   "cell_type": "code",
   "execution_count": 41,
   "metadata": {
    "collapsed": true
   },
   "outputs": [],
   "source": [
    "resultsValues = testr.copy()\n",
    "label_testr = np.ravel(testr[['internet']].values)\n",
    "pred_testr = testr.drop(['internet'], axis=1)\n",
    "feature_namesr = list(pred_testr.columns.values)\n",
    "pred_testr = np.int64(pred_testr.fillna(np.nan))"
   ]
  },
  {
   "cell_type": "code",
   "execution_count": 42,
   "metadata": {
    "collapsed": true
   },
   "outputs": [],
   "source": [
    "resultsValuesValid = validr.copy()\n",
    "label_validr = np.ravel(validr[['internet']].values)\n",
    "pred_validr = validr.drop(['internet'], axis=1)\n",
    "feature_namesvr = list(pred_validr.columns.values)\n",
    "pred_validr = np.int64(pred_validr.fillna(np.nan))"
   ]
  },
  {
   "cell_type": "code",
   "execution_count": 43,
   "metadata": {
    "collapsed": false,
    "scrolled": true
   },
   "outputs": [
    {
     "name": "stdout",
     "output_type": "stream",
     "text": [
      "building tree 1 of 500\n",
      "building tree 2 of 500\n",
      "building tree 3 of 500\n",
      "building tree 4 of 500\n",
      "building tree 5 of 500\n",
      "building tree 6 of 500\n",
      "building tree 7 of 500\n",
      "building tree 8 of 500\n",
      "building tree 9 of 500\n",
      "building tree 10 of 500\n",
      "building tree 11 of 500\n",
      "building tree 12 of 500\n",
      "building tree 13 of 500\n",
      "building tree 14 of 500\n",
      "building tree 15 of 500\n",
      "building tree 16 of 500\n",
      "building tree 17 of 500\n",
      "building tree 18 of 500\n",
      "building tree 19 of 500\n",
      "building tree 20 of 500\n",
      "building tree 21 of 500\n",
      "building tree 22 of 500\n",
      "building tree 23 of 500\n",
      "building tree 24 of 500\n",
      "building tree 25 of 500\n",
      "building tree 26 of 500\n",
      "building tree 27 of 500\n",
      "building tree 28 of 500\n",
      "building tree 29 of 500\n",
      "building tree 30 of 500\n",
      "building tree 31 of 500\n",
      "building tree 32 of 500\n",
      "building tree 33 of 500\n",
      "building tree 34 of 500\n",
      "building tree 35 of 500\n",
      "building tree 36 of 500\n",
      "building tree 37 of 500\n",
      "building tree 38 of 500\n",
      "building tree 39 of 500\n",
      "building tree 40 of 500\n",
      "building tree 41 of 500"
     ]
    },
    {
     "name": "stderr",
     "output_type": "stream",
     "text": [
      "[Parallel(n_jobs=1)]: Done   1 jobs       | elapsed:    5.8s\n",
      "[Parallel(n_jobs=1)]: Done  41 jobs       | elapsed:  3.9min\n"
     ]
    },
    {
     "name": "stdout",
     "output_type": "stream",
     "text": [
      "\n",
      "building tree 42 of 500\n",
      "building tree 43 of 500\n",
      "building tree 44 of 500\n",
      "building tree 45 of 500\n",
      "building tree 46 of 500\n",
      "building tree 47 of 500\n",
      "building tree 48 of 500\n",
      "building tree 49 of 500\n",
      "building tree 50 of 500\n",
      "building tree 51 of 500\n",
      "building tree 52 of 500\n",
      "building tree 53 of 500\n",
      "building tree 54 of 500\n",
      "building tree 55 of 500\n",
      "building tree 56 of 500\n",
      "building tree 57 of 500\n",
      "building tree 58 of 500\n",
      "building tree 59 of 500\n",
      "building tree 60 of 500\n",
      "building tree 61 of 500\n",
      "building tree 62 of 500\n",
      "building tree 63 of 500\n",
      "building tree 64 of 500\n",
      "building tree 65 of 500\n",
      "building tree 66 of 500\n",
      "building tree 67 of 500\n",
      "building tree 68 of 500\n",
      "building tree 69 of 500\n",
      "building tree 70 of 500\n",
      "building tree 71 of 500\n",
      "building tree 72 of 500\n",
      "building tree 73 of 500\n",
      "building tree 74 of 500\n",
      "building tree 75 of 500\n",
      "building tree 76 of 500\n",
      "building tree 77 of 500\n",
      "building tree 78 of 500\n",
      "building tree 79 of 500\n",
      "building tree 80 of 500\n",
      "building tree 81 of 500\n",
      "building tree 82 of 500\n",
      "building tree 83 of 500\n",
      "building tree 84 of 500\n",
      "building tree 85 of 500\n",
      "building tree 86 of 500\n",
      "building tree 87 of 500\n",
      "building tree 88 of 500\n",
      "building tree 89 of 500\n",
      "building tree 90 of 500\n",
      "building tree 91 of 500\n",
      "building tree 92 of 500\n",
      "building tree 93 of 500\n",
      "building tree 94 of 500\n",
      "building tree 95 of 500\n",
      "building tree 96 of 500\n",
      "building tree 97 of 500\n",
      "building tree 98 of 500\n",
      "building tree 99 of 500\n",
      "building tree 100 of 500\n",
      "building tree 101 of 500\n",
      "building tree 102 of 500\n",
      "building tree 103 of 500\n",
      "building tree 104 of 500\n",
      "building tree 105 of 500\n",
      "building tree 106 of 500\n",
      "building tree 107 of 500\n",
      "building tree 108 of 500\n",
      "building tree 109 of 500\n",
      "building tree 110 of 500\n",
      "building tree 111 of 500\n",
      "building tree 112 of 500\n",
      "building tree 113 of 500\n",
      "building tree 114 of 500\n",
      "building tree 115 of 500\n",
      "building tree 116 of 500\n",
      "building tree 117 of 500\n",
      "building tree 118 of 500\n",
      "building tree 119 of 500\n",
      "building tree 120 of 500\n",
      "building tree 121 of 500\n",
      "building tree 122 of 500\n",
      "building tree 123 of 500\n",
      "building tree 124 of 500\n",
      "building tree 125 of 500\n",
      "building tree 126 of 500\n",
      "building tree 127 of 500\n",
      "building tree 128 of 500\n",
      "building tree 129 of 500\n",
      "building tree 130 of 500\n",
      "building tree 131 of 500\n",
      "building tree 132 of 500\n",
      "building tree 133 of 500\n",
      "building tree 134 of 500\n",
      "building tree 135 of 500\n",
      "building tree 136 of 500\n",
      "building tree 137 of 500\n",
      "building tree 138 of 500\n",
      "building tree 139 of 500\n",
      "building tree 140 of 500\n",
      "building tree 141 of 500\n",
      "building tree 142 of 500\n",
      "building tree 143 of 500\n",
      "building tree 144 of 500\n",
      "building tree 145 of 500\n",
      "building tree 146 of 500\n",
      "building tree 147 of 500\n",
      "building tree 148 of 500\n",
      "building tree 149 of 500\n",
      "building tree 150 of 500\n",
      "building tree 151 of 500\n",
      "building tree 152 of 500\n",
      "building tree 153 of 500\n",
      "building tree 154 of 500\n",
      "building tree 155 of 500\n",
      "building tree 156 of 500\n",
      "building tree 157 of 500\n",
      "building tree 158 of 500\n",
      "building tree 159 of 500\n",
      "building tree 160 of 500\n",
      "building tree 161 of 500\n",
      "building tree 162 of 500\n",
      "building tree 163 of 500\n",
      "building tree 164 of 500\n",
      "building tree 165 of 500\n",
      "building tree 166 of 500\n",
      "building tree 167 of 500\n",
      "building tree 168 of 500\n",
      "building tree 169 of 500\n",
      "building tree 170 of 500\n",
      "building tree 171 of 500\n",
      "building tree 172 of 500\n",
      "building tree 173 of 500\n",
      "building tree 174 of 500\n",
      "building tree 175 of 500\n",
      "building tree 176 of 500\n",
      "building tree 177 of 500\n",
      "building tree 178 of 500\n",
      "building tree 179 of 500\n",
      "building tree 180 of 500\n",
      "building tree 181 of 500\n",
      "building tree 182 of 500\n",
      "building tree 183 of 500\n",
      "building tree 184 of 500\n",
      "building tree 185 of 500\n",
      "building tree 186 of 500\n",
      "building tree 187 of 500\n",
      "building tree 188 of 500\n",
      "building tree 189 of 500\n",
      "building tree 190 of 500\n",
      "building tree 191 of 500\n",
      "building tree 192 of 500\n",
      "building tree 193 of 500\n",
      "building tree 194 of 500\n",
      "building tree 195 of 500\n",
      "building tree 196 of 500\n",
      "building tree 197 of 500\n",
      "building tree 198 of 500\n",
      "building tree 199 of 500\n",
      "building tree 200 of 500\n",
      "building tree 201 of 500\n",
      "building tree 202 of 500\n",
      "building tree 203 of 500\n",
      "building tree 204 of 500\n",
      "building tree 205 of 500\n",
      "building tree 206 of 500\n",
      "building tree 207 of 500\n",
      "building tree 208 of 500\n",
      "building tree 209 of 500\n",
      "building tree 210 of 500\n",
      "building tree 211 of 500\n",
      "building tree 212 of 500\n",
      "building tree 213 of 500\n",
      "building tree 214 of 500\n",
      "building tree 215 of 500\n",
      "building tree 216 of 500\n",
      "building tree 217 of 500\n",
      "building tree 218 of 500\n",
      "building tree 219 of 500\n",
      "building tree 220 of 500\n",
      "building tree 221 of 500\n",
      "building tree 222 of 500\n",
      "building tree 223 of 500\n",
      "building tree 224 of 500\n",
      "building tree 225 of 500\n",
      "building tree 226 of 500\n",
      "building tree 227 of 500\n",
      "building tree 228 of 500\n",
      "building tree 229 of 500\n",
      "building tree 230 of 500\n",
      "building tree 231 of 500\n",
      "building tree 232 of 500\n",
      "building tree 233 of 500\n",
      "building tree 234 of 500\n",
      "building tree 235 of 500\n",
      "building tree 236 of 500\n",
      "building tree 237 of 500\n",
      "building tree 238 of 500\n",
      "building tree 239 of 500\n",
      "building tree 240 of 500\n",
      "building tree 241 of 500\n",
      "building tree 242 of 500\n",
      "building tree 243 of 500\n",
      "building tree 244 of 500\n",
      "building tree 245 of 500\n",
      "building tree 246 of 500\n",
      "building tree 247 of 500\n",
      "building tree 248 of 500\n",
      "building tree 249 of 500\n",
      "building tree 250 of 500\n",
      "building tree 251 of 500\n",
      "building tree 252 of 500\n",
      "building tree 253 of 500\n",
      "building tree 254 of 500\n",
      "building tree 255 of 500\n",
      "building tree 256 of 500\n",
      "building tree 257 of 500\n",
      "building tree 258 of 500\n",
      "building tree 259 of 500\n",
      "building tree 260 of 500\n",
      "building tree 261 of 500\n",
      "building tree 262 of 500\n",
      "building tree 263 of 500\n",
      "building tree 264 of 500\n",
      "building tree 265 of 500\n",
      "building tree 266 of 500\n",
      "building tree 267 of 500\n",
      "building tree 268 of 500\n",
      "building tree 269 of 500\n",
      "building tree 270 of 500\n",
      "building tree 271 of 500\n",
      "building tree 272 of 500\n",
      "building tree 273 of 500\n",
      "building tree 274 of 500\n",
      "building tree 275 of 500\n",
      "building tree 276 of 500\n",
      "building tree 277 of 500\n",
      "building tree 278 of 500\n",
      "building tree 279 of 500\n",
      "building tree 280 of 500\n",
      "building tree 281 of 500\n",
      "building tree 282 of 500\n",
      "building tree 283 of 500\n",
      "building tree 284 of 500\n",
      "building tree 285 of 500\n",
      "building tree 286 of 500\n",
      "building tree 287 of 500\n",
      "building tree 288 of 500\n",
      "building tree 289 of 500\n",
      "building tree 290 of 500\n",
      "building tree 291 of 500\n",
      "building tree 292 of 500\n",
      "building tree 293 of 500\n",
      "building tree 294 of 500\n",
      "building tree 295 of 500\n",
      "building tree 296 of 500\n",
      "building tree 297 of 500\n",
      "building tree 298 of 500\n",
      "building tree 299 of 500\n",
      "building tree 300 of 500\n",
      "building tree 301 of 500\n",
      "building tree 302 of 500\n",
      "building tree 303 of 500\n",
      "building tree 304 of 500\n",
      "building tree 305 of 500\n",
      "building tree 306 of 500\n",
      "building tree 307 of 500\n",
      "building tree 308 of 500\n",
      "building tree 309 of 500\n",
      "building tree 310 of 500\n",
      "building tree 311 of 500\n",
      "building tree 312 of 500\n",
      "building tree 313 of 500\n",
      "building tree 314 of 500\n",
      "building tree 315 of 500\n",
      "building tree 316 of 500\n",
      "building tree 317 of 500\n",
      "building tree 318 of 500\n",
      "building tree 319 of 500\n",
      "building tree 320 of 500\n",
      "building tree 321 of 500\n",
      "building tree 322 of 500\n",
      "building tree 323 of 500\n",
      "building tree 324 of 500\n",
      "building tree 325 of 500\n",
      "building tree 326 of 500\n",
      "building tree 327 of 500\n",
      "building tree 328 of 500\n",
      "building tree 329 of 500\n",
      "building tree 330 of 500\n",
      "building tree 331 of 500\n",
      "building tree 332 of 500\n",
      "building tree 333 of 500\n",
      "building tree 334 of 500\n",
      "building tree 335 of 500\n",
      "building tree 336 of 500\n",
      "building tree 337 of 500\n",
      "building tree 338 of 500\n",
      "building tree 339 of 500\n",
      "building tree 340 of 500\n",
      "building tree 341 of 500\n",
      "building tree 342 of 500\n",
      "building tree 343 of 500\n",
      "building tree 344 of 500\n",
      "building tree 345 of 500\n",
      "building tree 346 of 500\n",
      "building tree 347 of 500\n",
      "building tree 348 of 500\n",
      "building tree 349 of 500\n",
      "building tree 350 of 500\n",
      "building tree 351 of 500\n",
      "building tree 352 of 500\n",
      "building tree 353 of 500\n",
      "building tree 354 of 500\n",
      "building tree 355 of 500\n",
      "building tree 356 of 500\n",
      "building tree 357 of 500\n",
      "building tree 358 of 500\n",
      "building tree 359 of 500\n",
      "building tree 360 of 500\n",
      "building tree 361 of 500\n",
      "building tree 362 of 500\n",
      "building tree 363 of 500\n",
      "building tree 364 of 500\n",
      "building tree 365 of 500"
     ]
    },
    {
     "name": "stderr",
     "output_type": "stream",
     "text": [
      "[Parallel(n_jobs=1)]: Done 162 jobs       | elapsed: 15.4min\n",
      "[Parallel(n_jobs=1)]: Done 365 jobs       | elapsed: 35.0min\n"
     ]
    },
    {
     "name": "stdout",
     "output_type": "stream",
     "text": [
      "\n",
      "building tree 366 of 500\n",
      "building tree 367 of 500\n",
      "building tree 368 of 500\n",
      "building tree 369 of 500\n",
      "building tree 370 of 500\n",
      "building tree 371 of 500\n",
      "building tree 372 of 500\n",
      "building tree 373 of 500\n",
      "building tree 374 of 500\n",
      "building tree 375 of 500\n",
      "building tree 376 of 500\n",
      "building tree 377 of 500\n",
      "building tree 378 of 500\n",
      "building tree 379 of 500\n",
      "building tree 380 of 500\n",
      "building tree 381 of 500\n",
      "building tree 382 of 500\n",
      "building tree 383 of 500\n",
      "building tree 384 of 500\n",
      "building tree 385 of 500\n",
      "building tree 386 of 500\n",
      "building tree 387 of 500\n",
      "building tree 388 of 500\n",
      "building tree 389 of 500\n",
      "building tree 390 of 500\n",
      "building tree 391 of 500\n",
      "building tree 392 of 500\n",
      "building tree 393 of 500\n",
      "building tree 394 of 500\n",
      "building tree 395 of 500\n",
      "building tree 396 of 500\n",
      "building tree 397 of 500\n",
      "building tree 398 of 500\n",
      "building tree 399 of 500\n",
      "building tree 400 of 500\n",
      "building tree 401 of 500\n",
      "building tree 402 of 500\n",
      "building tree 403 of 500\n",
      "building tree 404 of 500\n",
      "building tree 405 of 500\n",
      "building tree 406 of 500\n",
      "building tree 407 of 500\n",
      "building tree 408 of 500\n",
      "building tree 409 of 500\n",
      "building tree 410 of 500\n",
      "building tree 411 of 500\n",
      "building tree 412 of 500\n",
      "building tree 413 of 500\n",
      "building tree 414 of 500\n",
      "building tree 415 of 500\n",
      "building tree 416 of 500\n",
      "building tree 417 of 500\n",
      "building tree 418 of 500\n",
      "building tree 419 of 500\n",
      "building tree 420 of 500\n",
      "building tree 421 of 500\n",
      "building tree 422 of 500\n",
      "building tree 423 of 500\n",
      "building tree 424 of 500\n",
      "building tree 425 of 500\n",
      "building tree 426 of 500\n",
      "building tree 427 of 500\n",
      "building tree 428 of 500\n",
      "building tree 429 of 500\n",
      "building tree 430 of 500\n",
      "building tree 431 of 500\n",
      "building tree 432 of 500\n",
      "building tree 433 of 500\n",
      "building tree 434 of 500\n",
      "building tree 435 of 500\n",
      "building tree 436 of 500\n",
      "building tree 437 of 500\n",
      "building tree 438 of 500\n",
      "building tree 439 of 500\n",
      "building tree 440 of 500\n",
      "building tree 441 of 500\n",
      "building tree 442 of 500\n",
      "building tree 443 of 500\n",
      "building tree 444 of 500\n",
      "building tree 445 of 500\n",
      "building tree 446 of 500\n",
      "building tree 447 of 500\n",
      "building tree 448 of 500\n",
      "building tree 449 of 500\n",
      "building tree 450 of 500\n",
      "building tree 451 of 500\n",
      "building tree 452 of 500\n",
      "building tree 453 of 500\n",
      "building tree 454 of 500\n",
      "building tree 455 of 500\n",
      "building tree 456 of 500\n",
      "building tree 457 of 500\n",
      "building tree 458 of 500\n",
      "building tree 459 of 500\n",
      "building tree 460 of 500\n",
      "building tree 461 of 500\n",
      "building tree 462 of 500\n",
      "building tree 463 of 500\n",
      "building tree 464 of 500\n",
      "building tree 465 of 500\n",
      "building tree 466 of 500\n",
      "building tree 467 of 500\n",
      "building tree 468 of 500\n",
      "building tree 469 of 500\n",
      "building tree 470 of 500\n",
      "building tree 471 of 500\n",
      "building tree 472 of 500\n",
      "building tree 473 of 500\n",
      "building tree 474 of 500\n",
      "building tree 475 of 500\n",
      "building tree 476 of 500\n",
      "building tree 477 of 500\n",
      "building tree 478 of 500\n",
      "building tree 479 of 500\n",
      "building tree 480 of 500\n",
      "building tree 481 of 500\n",
      "building tree 482 of 500\n",
      "building tree 483 of 500\n",
      "building tree 484 of 500\n",
      "building tree 485 of 500\n",
      "building tree 486 of 500\n",
      "building tree 487 of 500\n",
      "building tree 488 of 500\n",
      "building tree 489 of 500\n",
      "building tree 490 of 500\n",
      "building tree 491 of 500\n",
      "building tree 492 of 500\n",
      "building tree 493 of 500\n",
      "building tree 494 of 500\n",
      "building tree 495 of 500\n",
      "building tree 496 of 500\n",
      "building tree 497 of 500\n",
      "building tree 498 of 500\n",
      "building tree 499 of 500\n",
      "building tree 500 of 500\n"
     ]
    },
    {
     "name": "stderr",
     "output_type": "stream",
     "text": [
      "[Parallel(n_jobs=1)]: Done 500 out of 500 | elapsed: 48.1min finished\n"
     ]
    },
    {
     "data": {
      "text/plain": [
       "RandomForestRegressor(bootstrap=True, criterion='mse', max_depth=None,\n",
       "           max_features='auto', max_leaf_nodes=None, min_samples_leaf=1,\n",
       "           min_samples_split=10, min_weight_fraction_leaf=0.0,\n",
       "           n_estimators=500, n_jobs=1, oob_score=True, random_state=None,\n",
       "           verbose=2, warm_start=False)"
      ]
     },
     "execution_count": 43,
     "metadata": {},
     "output_type": "execute_result"
    }
   ],
   "source": [
    "rfr = RandomForestRegressor(n_estimators=500, criterion='mse', min_samples_split=10, verbose=2, oob_score = True)\n",
    "rfr.fit(X=pred_trainr, y=label_trainr)\n",
    "\n"
   ]
  },
  {
   "cell_type": "code",
   "execution_count": 44,
   "metadata": {
    "collapsed": false
   },
   "outputs": [
    {
     "name": "stderr",
     "output_type": "stream",
     "text": [
      "[Parallel(n_jobs=1)]: Done   1 jobs       | elapsed:    0.0s\n",
      "[Parallel(n_jobs=1)]: Done  41 jobs       | elapsed:    0.0s\n",
      "[Parallel(n_jobs=1)]: Done 162 jobs       | elapsed:    0.1s\n",
      "[Parallel(n_jobs=1)]: Done 365 jobs       | elapsed:    0.1s\n",
      "[Parallel(n_jobs=1)]: Done 500 out of 500 | elapsed:    0.2s finished\n",
      "[Parallel(n_jobs=1)]: Done   1 jobs       | elapsed:    0.0s\n",
      "[Parallel(n_jobs=1)]: Done  41 jobs       | elapsed:    0.0s\n",
      "[Parallel(n_jobs=1)]: Done 162 jobs       | elapsed:    0.1s\n",
      "[Parallel(n_jobs=1)]: Done 365 jobs       | elapsed:    0.2s\n",
      "[Parallel(n_jobs=1)]: Done 500 out of 500 | elapsed:    0.2s finished\n",
      "[Parallel(n_jobs=1)]: Done   1 jobs       | elapsed:    0.0s\n",
      "[Parallel(n_jobs=1)]: Done  41 jobs       | elapsed:    0.0s\n",
      "[Parallel(n_jobs=1)]: Done 162 jobs       | elapsed:    0.1s\n"
     ]
    },
    {
     "name": "stdout",
     "output_type": "stream",
     "text": [
      "('test set r score : ', 0.92362083855544874)\n",
      "('validation set r score: ', 0.90407110497418619)\n"
     ]
    },
    {
     "name": "stderr",
     "output_type": "stream",
     "text": [
      "[Parallel(n_jobs=1)]: Done 365 jobs       | elapsed:    0.1s\n",
      "[Parallel(n_jobs=1)]: Done 500 out of 500 | elapsed:    0.2s finished\n"
     ]
    }
   ],
   "source": [
    "# get accuracy (predict the class)\n",
    "rfr_predictions_class = rfr.predict(pred_testr)\n",
    "rfr_score = rfr.score(X=pred_testr, y=label_testr)\n",
    "rfr_scoreV = rfr.score(X=pred_validr, y=label_validr)\n",
    "#print (accuracy_score(label_testr, np.round(rfr_predictions_class)))\n",
    "print (\"test set r score : \", rfr_score)\n",
    "print (\"validation set r score: \",rfr_scoreV  )"
   ]
  },
  {
   "cell_type": "code",
   "execution_count": 45,
   "metadata": {
    "collapsed": false
   },
   "outputs": [],
   "source": [
    "feature_importance= list(rfr.feature_importances_)\n",
    "feature_list = []\n",
    "for i in range(0,len(feature_names)):\n",
    "    feature_list.append((feature_names[i],feature_importance[i]))\n",
    "k= (sorted(feature_list,reverse=True,key=lambda x:x[1]))"
   ]
  },
  {
   "cell_type": "code",
   "execution_count": 46,
   "metadata": {
    "collapsed": false
   },
   "outputs": [],
   "source": [
    "df= pd.DataFrame(k,columns=['ourID','ImportanceValue'])"
   ]
  },
  {
   "cell_type": "code",
   "execution_count": 47,
   "metadata": {
    "collapsed": false
   },
   "outputs": [],
   "source": [
    "attimp=df.merge(attr,on='ourID')"
   ]
  },
  {
   "cell_type": "code",
   "execution_count": 48,
   "metadata": {
    "collapsed": true
   },
   "outputs": [],
   "source": [
    "attimp.to_csv(\"important_AttributesRF.csv\")"
   ]
  },
  {
   "cell_type": "code",
   "execution_count": 49,
   "metadata": {
    "collapsed": false
   },
   "outputs": [
    {
     "name": "stderr",
     "output_type": "stream",
     "text": [
      "[Parallel(n_jobs=1)]: Done   1 jobs       | elapsed:    0.0s\n",
      "[Parallel(n_jobs=1)]: Done  41 jobs       | elapsed:    0.0s\n",
      "[Parallel(n_jobs=1)]: Done 162 jobs       | elapsed:    0.1s\n",
      "[Parallel(n_jobs=1)]: Done 365 jobs       | elapsed:    0.1s\n",
      "[Parallel(n_jobs=1)]: Done 500 out of 500 | elapsed:    0.2s finished\n",
      "[Parallel(n_jobs=1)]: Done   1 jobs       | elapsed:    0.0s\n",
      "[Parallel(n_jobs=1)]: Done  41 jobs       | elapsed:    0.0s\n",
      "[Parallel(n_jobs=1)]: Done 162 jobs       | elapsed:    0.1s\n",
      "[Parallel(n_jobs=1)]: Done 365 jobs       | elapsed:    0.1s\n",
      "[Parallel(n_jobs=1)]: Done 500 out of 500 | elapsed:    0.2s finished\n"
     ]
    }
   ],
   "source": [
    "resultsValues['preds']=rfr.predict(pred_testr)\n",
    "resultsValuesValid['preds']=rfr.predict(pred_validr)"
   ]
  },
  {
   "cell_type": "code",
   "execution_count": 50,
   "metadata": {
    "collapsed": false
   },
   "outputs": [
    {
     "data": {
      "text/html": [
       "<div style=\"max-height:1000px;max-width:1500px;overflow:auto;\">\n",
       "<table border=\"1\" class=\"dataframe\">\n",
       "  <thead>\n",
       "    <tr style=\"text-align: right;\">\n",
       "      <th></th>\n",
       "      <th>st</th>\n",
       "      <th>our2</th>\n",
       "      <th>our3</th>\n",
       "      <th>our4</th>\n",
       "      <th>our5</th>\n",
       "      <th>our6</th>\n",
       "      <th>our7</th>\n",
       "      <th>our8</th>\n",
       "      <th>our9</th>\n",
       "      <th>our10</th>\n",
       "      <th>...</th>\n",
       "      <th>our42153</th>\n",
       "      <th>our42154</th>\n",
       "      <th>our42155</th>\n",
       "      <th>our42156</th>\n",
       "      <th>our42157</th>\n",
       "      <th>our42158</th>\n",
       "      <th>our42159</th>\n",
       "      <th>our42160</th>\n",
       "      <th>internet</th>\n",
       "      <th>preds</th>\n",
       "    </tr>\n",
       "  </thead>\n",
       "  <tbody>\n",
       "    <tr>\n",
       "      <th>4621</th>\n",
       "      <td>102165</td>\n",
       "      <td>102165</td>\n",
       "      <td>51565</td>\n",
       "      <td>4658</td>\n",
       "      <td>3566</td>\n",
       "      <td>3083</td>\n",
       "      <td>1769</td>\n",
       "      <td>1821</td>\n",
       "      <td>775</td>\n",
       "      <td>615</td>\n",
       "      <td>...</td>\n",
       "      <td>0</td>\n",
       "      <td>2939</td>\n",
       "      <td>3270</td>\n",
       "      <td>848</td>\n",
       "      <td>0</td>\n",
       "      <td>383</td>\n",
       "      <td>2766</td>\n",
       "      <td>31</td>\n",
       "      <td>0.694395</td>\n",
       "      <td>0.727479</td>\n",
       "    </tr>\n",
       "    <tr>\n",
       "      <th>4622</th>\n",
       "      <td>101763</td>\n",
       "      <td>101763</td>\n",
       "      <td>51212</td>\n",
       "      <td>3158</td>\n",
       "      <td>3941</td>\n",
       "      <td>3091</td>\n",
       "      <td>2948</td>\n",
       "      <td>1408</td>\n",
       "      <td>611</td>\n",
       "      <td>224</td>\n",
       "      <td>...</td>\n",
       "      <td>54</td>\n",
       "      <td>4210</td>\n",
       "      <td>2240</td>\n",
       "      <td>985</td>\n",
       "      <td>0</td>\n",
       "      <td>620</td>\n",
       "      <td>3949</td>\n",
       "      <td>74</td>\n",
       "      <td>0.548435</td>\n",
       "      <td>0.641514</td>\n",
       "    </tr>\n",
       "    <tr>\n",
       "      <th>4623</th>\n",
       "      <td>144007</td>\n",
       "      <td>144007</td>\n",
       "      <td>75625</td>\n",
       "      <td>5435</td>\n",
       "      <td>5259</td>\n",
       "      <td>5319</td>\n",
       "      <td>2681</td>\n",
       "      <td>2077</td>\n",
       "      <td>1176</td>\n",
       "      <td>1321</td>\n",
       "      <td>...</td>\n",
       "      <td>0</td>\n",
       "      <td>7677</td>\n",
       "      <td>2894</td>\n",
       "      <td>1235</td>\n",
       "      <td>0</td>\n",
       "      <td>126</td>\n",
       "      <td>8331</td>\n",
       "      <td>0</td>\n",
       "      <td>0.818265</td>\n",
       "      <td>0.850510</td>\n",
       "    </tr>\n",
       "    <tr>\n",
       "      <th>4624</th>\n",
       "      <td>99220</td>\n",
       "      <td>99220</td>\n",
       "      <td>48773</td>\n",
       "      <td>3011</td>\n",
       "      <td>2953</td>\n",
       "      <td>3762</td>\n",
       "      <td>1759</td>\n",
       "      <td>1569</td>\n",
       "      <td>481</td>\n",
       "      <td>591</td>\n",
       "      <td>...</td>\n",
       "      <td>0</td>\n",
       "      <td>3010</td>\n",
       "      <td>4636</td>\n",
       "      <td>745</td>\n",
       "      <td>0</td>\n",
       "      <td>465</td>\n",
       "      <td>4414</td>\n",
       "      <td>200</td>\n",
       "      <td>0.660278</td>\n",
       "      <td>0.656499</td>\n",
       "    </tr>\n",
       "    <tr>\n",
       "      <th>4625</th>\n",
       "      <td>110369</td>\n",
       "      <td>110369</td>\n",
       "      <td>55156</td>\n",
       "      <td>3149</td>\n",
       "      <td>3625</td>\n",
       "      <td>2197</td>\n",
       "      <td>2767</td>\n",
       "      <td>1513</td>\n",
       "      <td>284</td>\n",
       "      <td>1345</td>\n",
       "      <td>...</td>\n",
       "      <td>0</td>\n",
       "      <td>3348</td>\n",
       "      <td>2626</td>\n",
       "      <td>905</td>\n",
       "      <td>0</td>\n",
       "      <td>449</td>\n",
       "      <td>2224</td>\n",
       "      <td>126</td>\n",
       "      <td>0.758393</td>\n",
       "      <td>0.759546</td>\n",
       "    </tr>\n",
       "  </tbody>\n",
       "</table>\n",
       "<p>5 rows × 1968 columns</p>\n",
       "</div>"
      ],
      "text/plain": [
       "          st    our2   our3  our4  our5  our6  our7  our8  our9  our10  \\\n",
       "4621  102165  102165  51565  4658  3566  3083  1769  1821   775    615   \n",
       "4622  101763  101763  51212  3158  3941  3091  2948  1408   611    224   \n",
       "4623  144007  144007  75625  5435  5259  5319  2681  2077  1176   1321   \n",
       "4624   99220   99220  48773  3011  2953  3762  1759  1569   481    591   \n",
       "4625  110369  110369  55156  3149  3625  2197  2767  1513   284   1345   \n",
       "\n",
       "        ...     our42153  our42154  our42155  our42156  our42157  our42158  \\\n",
       "4621    ...            0      2939      3270       848         0       383   \n",
       "4622    ...           54      4210      2240       985         0       620   \n",
       "4623    ...            0      7677      2894      1235         0       126   \n",
       "4624    ...            0      3010      4636       745         0       465   \n",
       "4625    ...            0      3348      2626       905         0       449   \n",
       "\n",
       "      our42159  our42160  internet     preds  \n",
       "4621      2766        31  0.694395  0.727479  \n",
       "4622      3949        74  0.548435  0.641514  \n",
       "4623      8331         0  0.818265  0.850510  \n",
       "4624      4414       200  0.660278  0.656499  \n",
       "4625      2224       126  0.758393  0.759546  \n",
       "\n",
       "[5 rows x 1968 columns]"
      ]
     },
     "execution_count": 50,
     "metadata": {},
     "output_type": "execute_result"
    }
   ],
   "source": [
    "##Head of predicted test set\n",
    "resultsValues.head()"
   ]
  },
  {
   "cell_type": "code",
   "execution_count": 51,
   "metadata": {
    "collapsed": false
   },
   "outputs": [
    {
     "data": {
      "text/html": [
       "<div style=\"max-height:1000px;max-width:1500px;overflow:auto;\">\n",
       "<table border=\"1\" class=\"dataframe\">\n",
       "  <thead>\n",
       "    <tr style=\"text-align: right;\">\n",
       "      <th></th>\n",
       "      <th>st</th>\n",
       "      <th>our2</th>\n",
       "      <th>our3</th>\n",
       "      <th>our4</th>\n",
       "      <th>our5</th>\n",
       "      <th>our6</th>\n",
       "      <th>our7</th>\n",
       "      <th>our8</th>\n",
       "      <th>our9</th>\n",
       "      <th>our10</th>\n",
       "      <th>...</th>\n",
       "      <th>our42153</th>\n",
       "      <th>our42154</th>\n",
       "      <th>our42155</th>\n",
       "      <th>our42156</th>\n",
       "      <th>our42157</th>\n",
       "      <th>our42158</th>\n",
       "      <th>our42159</th>\n",
       "      <th>our42160</th>\n",
       "      <th>internet</th>\n",
       "      <th>preds</th>\n",
       "    </tr>\n",
       "  </thead>\n",
       "  <tbody>\n",
       "    <tr>\n",
       "      <th>3696</th>\n",
       "      <td>142577</td>\n",
       "      <td>142577</td>\n",
       "      <td>70443</td>\n",
       "      <td>4276</td>\n",
       "      <td>6029</td>\n",
       "      <td>4276</td>\n",
       "      <td>3146</td>\n",
       "      <td>1117</td>\n",
       "      <td>1210</td>\n",
       "      <td>1253</td>\n",
       "      <td>...</td>\n",
       "      <td>0</td>\n",
       "      <td>3051</td>\n",
       "      <td>3570</td>\n",
       "      <td>2529</td>\n",
       "      <td>0</td>\n",
       "      <td>514</td>\n",
       "      <td>3198</td>\n",
       "      <td>152</td>\n",
       "      <td>0.637713</td>\n",
       "      <td>0.653809</td>\n",
       "    </tr>\n",
       "    <tr>\n",
       "      <th>3697</th>\n",
       "      <td>114712</td>\n",
       "      <td>114712</td>\n",
       "      <td>56329</td>\n",
       "      <td>5500</td>\n",
       "      <td>4145</td>\n",
       "      <td>4643</td>\n",
       "      <td>2057</td>\n",
       "      <td>2006</td>\n",
       "      <td>499</td>\n",
       "      <td>1059</td>\n",
       "      <td>...</td>\n",
       "      <td>0</td>\n",
       "      <td>1811</td>\n",
       "      <td>858</td>\n",
       "      <td>931</td>\n",
       "      <td>0</td>\n",
       "      <td>458</td>\n",
       "      <td>2670</td>\n",
       "      <td>0</td>\n",
       "      <td>0.752615</td>\n",
       "      <td>0.735581</td>\n",
       "    </tr>\n",
       "    <tr>\n",
       "      <th>3698</th>\n",
       "      <td>104489</td>\n",
       "      <td>104489</td>\n",
       "      <td>53074</td>\n",
       "      <td>4286</td>\n",
       "      <td>3672</td>\n",
       "      <td>2450</td>\n",
       "      <td>1920</td>\n",
       "      <td>1931</td>\n",
       "      <td>1659</td>\n",
       "      <td>944</td>\n",
       "      <td>...</td>\n",
       "      <td>0</td>\n",
       "      <td>3584</td>\n",
       "      <td>3493</td>\n",
       "      <td>1070</td>\n",
       "      <td>0</td>\n",
       "      <td>279</td>\n",
       "      <td>5147</td>\n",
       "      <td>0</td>\n",
       "      <td>0.754562</td>\n",
       "      <td>0.744062</td>\n",
       "    </tr>\n",
       "    <tr>\n",
       "      <th>3699</th>\n",
       "      <td>140780</td>\n",
       "      <td>140780</td>\n",
       "      <td>68822</td>\n",
       "      <td>3264</td>\n",
       "      <td>4021</td>\n",
       "      <td>5030</td>\n",
       "      <td>3291</td>\n",
       "      <td>4604</td>\n",
       "      <td>1481</td>\n",
       "      <td>1887</td>\n",
       "      <td>...</td>\n",
       "      <td>0</td>\n",
       "      <td>3468</td>\n",
       "      <td>1942</td>\n",
       "      <td>1175</td>\n",
       "      <td>0</td>\n",
       "      <td>168</td>\n",
       "      <td>3849</td>\n",
       "      <td>173</td>\n",
       "      <td>0.622128</td>\n",
       "      <td>0.702665</td>\n",
       "    </tr>\n",
       "    <tr>\n",
       "      <th>3700</th>\n",
       "      <td>108222</td>\n",
       "      <td>108222</td>\n",
       "      <td>51738</td>\n",
       "      <td>2849</td>\n",
       "      <td>3699</td>\n",
       "      <td>2808</td>\n",
       "      <td>2039</td>\n",
       "      <td>929</td>\n",
       "      <td>661</td>\n",
       "      <td>408</td>\n",
       "      <td>...</td>\n",
       "      <td>0</td>\n",
       "      <td>3556</td>\n",
       "      <td>4114</td>\n",
       "      <td>883</td>\n",
       "      <td>0</td>\n",
       "      <td>523</td>\n",
       "      <td>3093</td>\n",
       "      <td>0</td>\n",
       "      <td>0.864155</td>\n",
       "      <td>0.867009</td>\n",
       "    </tr>\n",
       "  </tbody>\n",
       "</table>\n",
       "<p>5 rows × 1968 columns</p>\n",
       "</div>"
      ],
      "text/plain": [
       "          st    our2   our3  our4  our5  our6  our7  our8  our9  our10  \\\n",
       "3696  142577  142577  70443  4276  6029  4276  3146  1117  1210   1253   \n",
       "3697  114712  114712  56329  5500  4145  4643  2057  2006   499   1059   \n",
       "3698  104489  104489  53074  4286  3672  2450  1920  1931  1659    944   \n",
       "3699  140780  140780  68822  3264  4021  5030  3291  4604  1481   1887   \n",
       "3700  108222  108222  51738  2849  3699  2808  2039   929   661    408   \n",
       "\n",
       "        ...     our42153  our42154  our42155  our42156  our42157  our42158  \\\n",
       "3696    ...            0      3051      3570      2529         0       514   \n",
       "3697    ...            0      1811       858       931         0       458   \n",
       "3698    ...            0      3584      3493      1070         0       279   \n",
       "3699    ...            0      3468      1942      1175         0       168   \n",
       "3700    ...            0      3556      4114       883         0       523   \n",
       "\n",
       "      our42159  our42160  internet     preds  \n",
       "3696      3198       152  0.637713  0.653809  \n",
       "3697      2670         0  0.752615  0.735581  \n",
       "3698      5147         0  0.754562  0.744062  \n",
       "3699      3849       173  0.622128  0.702665  \n",
       "3700      3093         0  0.864155  0.867009  \n",
       "\n",
       "[5 rows x 1968 columns]"
      ]
     },
     "execution_count": 51,
     "metadata": {},
     "output_type": "execute_result"
    }
   ],
   "source": [
    "## Head of predicted validation set\n",
    "resultsValuesValid.head()"
   ]
  },
  {
   "cell_type": "markdown",
   "metadata": {},
   "source": [
    "## Applying Model at Block Level"
   ]
  },
  {
   "cell_type": "code",
   "execution_count": null,
   "metadata": {
    "collapsed": true
   },
   "outputs": [],
   "source": []
  },
  {
   "cell_type": "code",
   "execution_count": 52,
   "metadata": {
    "collapsed": false
   },
   "outputs": [],
   "source": [
    "resultsblock = blocks.copy()\n",
    "feature_names = list(resultsblock.columns.values)\n",
    "pred_block = np.int64(resultsblock.fillna(np.nan))"
   ]
  },
  {
   "cell_type": "code",
   "execution_count": 53,
   "metadata": {
    "collapsed": false
   },
   "outputs": [
    {
     "name": "stderr",
     "output_type": "stream",
     "text": [
      "[Parallel(n_jobs=1)]: Done   1 jobs       | elapsed:    0.0s\n",
      "[Parallel(n_jobs=1)]: Done  41 jobs       | elapsed:    0.1s\n",
      "[Parallel(n_jobs=1)]: Done 162 jobs       | elapsed:    0.4s\n",
      "[Parallel(n_jobs=1)]: Done 365 jobs       | elapsed:    0.9s\n",
      "[Parallel(n_jobs=1)]: Done 500 out of 500 | elapsed:    1.2s finished\n"
     ]
    }
   ],
   "source": [
    "resultsblock['pred_blck']=rfr.predict(pred_block)"
   ]
  },
  {
   "cell_type": "code",
   "execution_count": 54,
   "metadata": {
    "collapsed": false
   },
   "outputs": [
    {
     "data": {
      "text/html": [
       "<div style=\"max-height:1000px;max-width:1500px;overflow:auto;\">\n",
       "<table border=\"1\" class=\"dataframe\">\n",
       "  <thead>\n",
       "    <tr style=\"text-align: right;\">\n",
       "      <th></th>\n",
       "      <th>LOGRECNO</th>\n",
       "      <th>our2</th>\n",
       "      <th>our3</th>\n",
       "      <th>our4</th>\n",
       "      <th>our5</th>\n",
       "      <th>our6</th>\n",
       "      <th>our7</th>\n",
       "      <th>our8</th>\n",
       "      <th>our9</th>\n",
       "      <th>our10</th>\n",
       "      <th>...</th>\n",
       "      <th>our42152</th>\n",
       "      <th>our42153</th>\n",
       "      <th>our42154</th>\n",
       "      <th>our42155</th>\n",
       "      <th>our42156</th>\n",
       "      <th>our42157</th>\n",
       "      <th>our42158</th>\n",
       "      <th>our42159</th>\n",
       "      <th>our42160</th>\n",
       "      <th>pred_blck</th>\n",
       "    </tr>\n",
       "  </thead>\n",
       "  <tbody>\n",
       "    <tr>\n",
       "      <th>0</th>\n",
       "      <td>8303</td>\n",
       "      <td>1102</td>\n",
       "      <td>389</td>\n",
       "      <td>26</td>\n",
       "      <td>9</td>\n",
       "      <td>34</td>\n",
       "      <td>0</td>\n",
       "      <td>27</td>\n",
       "      <td>0</td>\n",
       "      <td>19</td>\n",
       "      <td>...</td>\n",
       "      <td>81</td>\n",
       "      <td>0</td>\n",
       "      <td>38</td>\n",
       "      <td>4</td>\n",
       "      <td>21</td>\n",
       "      <td>0</td>\n",
       "      <td>0</td>\n",
       "      <td>18</td>\n",
       "      <td>0</td>\n",
       "      <td>0.694650</td>\n",
       "    </tr>\n",
       "    <tr>\n",
       "      <th>1</th>\n",
       "      <td>8304</td>\n",
       "      <td>1061</td>\n",
       "      <td>470</td>\n",
       "      <td>33</td>\n",
       "      <td>31</td>\n",
       "      <td>43</td>\n",
       "      <td>20</td>\n",
       "      <td>31</td>\n",
       "      <td>0</td>\n",
       "      <td>15</td>\n",
       "      <td>...</td>\n",
       "      <td>103</td>\n",
       "      <td>0</td>\n",
       "      <td>56</td>\n",
       "      <td>23</td>\n",
       "      <td>9</td>\n",
       "      <td>0</td>\n",
       "      <td>0</td>\n",
       "      <td>15</td>\n",
       "      <td>0</td>\n",
       "      <td>0.632793</td>\n",
       "    </tr>\n",
       "    <tr>\n",
       "      <th>2</th>\n",
       "      <td>8305</td>\n",
       "      <td>2828</td>\n",
       "      <td>1344</td>\n",
       "      <td>217</td>\n",
       "      <td>93</td>\n",
       "      <td>141</td>\n",
       "      <td>137</td>\n",
       "      <td>0</td>\n",
       "      <td>35</td>\n",
       "      <td>51</td>\n",
       "      <td>...</td>\n",
       "      <td>119</td>\n",
       "      <td>0</td>\n",
       "      <td>38</td>\n",
       "      <td>0</td>\n",
       "      <td>77</td>\n",
       "      <td>0</td>\n",
       "      <td>0</td>\n",
       "      <td>4</td>\n",
       "      <td>0</td>\n",
       "      <td>0.586193</td>\n",
       "    </tr>\n",
       "    <tr>\n",
       "      <th>3</th>\n",
       "      <td>8306</td>\n",
       "      <td>764</td>\n",
       "      <td>341</td>\n",
       "      <td>31</td>\n",
       "      <td>0</td>\n",
       "      <td>21</td>\n",
       "      <td>14</td>\n",
       "      <td>0</td>\n",
       "      <td>21</td>\n",
       "      <td>14</td>\n",
       "      <td>...</td>\n",
       "      <td>44</td>\n",
       "      <td>0</td>\n",
       "      <td>29</td>\n",
       "      <td>0</td>\n",
       "      <td>0</td>\n",
       "      <td>0</td>\n",
       "      <td>0</td>\n",
       "      <td>15</td>\n",
       "      <td>0</td>\n",
       "      <td>0.635761</td>\n",
       "    </tr>\n",
       "    <tr>\n",
       "      <th>4</th>\n",
       "      <td>8307</td>\n",
       "      <td>1365</td>\n",
       "      <td>751</td>\n",
       "      <td>81</td>\n",
       "      <td>56</td>\n",
       "      <td>168</td>\n",
       "      <td>36</td>\n",
       "      <td>81</td>\n",
       "      <td>0</td>\n",
       "      <td>0</td>\n",
       "      <td>...</td>\n",
       "      <td>157</td>\n",
       "      <td>0</td>\n",
       "      <td>92</td>\n",
       "      <td>36</td>\n",
       "      <td>14</td>\n",
       "      <td>0</td>\n",
       "      <td>0</td>\n",
       "      <td>15</td>\n",
       "      <td>0</td>\n",
       "      <td>0.539422</td>\n",
       "    </tr>\n",
       "  </tbody>\n",
       "</table>\n",
       "<p>5 rows × 1967 columns</p>\n",
       "</div>"
      ],
      "text/plain": [
       "   LOGRECNO  our2  our3  our4  our5  our6  our7  our8  our9  our10    ...      \\\n",
       "0      8303  1102   389    26     9    34     0    27     0     19    ...       \n",
       "1      8304  1061   470    33    31    43    20    31     0     15    ...       \n",
       "2      8305  2828  1344   217    93   141   137     0    35     51    ...       \n",
       "3      8306   764   341    31     0    21    14     0    21     14    ...       \n",
       "4      8307  1365   751    81    56   168    36    81     0      0    ...       \n",
       "\n",
       "   our42152  our42153  our42154  our42155  our42156  our42157  our42158  \\\n",
       "0        81         0        38         4        21         0         0   \n",
       "1       103         0        56        23         9         0         0   \n",
       "2       119         0        38         0        77         0         0   \n",
       "3        44         0        29         0         0         0         0   \n",
       "4       157         0        92        36        14         0         0   \n",
       "\n",
       "   our42159  our42160  pred_blck  \n",
       "0        18         0   0.694650  \n",
       "1        15         0   0.632793  \n",
       "2         4         0   0.586193  \n",
       "3        15         0   0.635761  \n",
       "4        15         0   0.539422  \n",
       "\n",
       "[5 rows x 1967 columns]"
      ]
     },
     "execution_count": 54,
     "metadata": {},
     "output_type": "execute_result"
    }
   ],
   "source": [
    "resultsblock.head()"
   ]
  },
  {
   "cell_type": "code",
   "execution_count": 55,
   "metadata": {
    "collapsed": false
   },
   "outputs": [
    {
     "data": {
      "text/plain": [
       "<matplotlib.axes._subplots.AxesSubplot at 0x7fed20b4d2d0>"
      ]
     },
     "execution_count": 55,
     "metadata": {},
     "output_type": "execute_result"
    },
    {
     "data": {
      "image/png": "[encoded data removed]",
      "text/plain": [
       "<matplotlib.figure.Figure at 0x7fed2126b5d0>"
      ]
     },
     "metadata": {},
     "output_type": "display_data"
    }
   ],
   "source": [
    "#plt.hist(resultsValues['preds'])\n",
    "(resultsValues['preds']).hist(bins=100,figsize=(12,12))"
   ]
  },
  {
   "cell_type": "code",
   "execution_count": 64,
   "metadata": {
    "collapsed": false
   },
   "outputs": [
    {
     "data": {
      "image/png": "[encoded data removed]",
      "text/plain": [
       "<matplotlib.figure.Figure at 0x7fed206e4f50>"
      ]
     },
     "metadata": {},
     "output_type": "display_data"
    }
   ],
   "source": [
    "plt.figure(1)\n",
    "plt.hist(label_testr,bins=100)\n",
    "resultsValues['preds'].hist(bins=100,figsize=(12,12))\n",
    "plt.title('Percentage of Predicted Internet & Actual Internet')\n",
    "plt.legend(['Actual','Predicted'])\n",
    "plt.show()"
   ]
  },
  {
   "cell_type": "code",
   "execution_count": 63,
   "metadata": {
    "collapsed": false
   },
   "outputs": [
    {
     "data": {
      "image/png": "[encoded data removed]",
      "text/plain": [
       "<matplotlib.figure.Figure at 0x7fed20d9b350>"
      ]
     },
     "metadata": {},
     "output_type": "display_data"
    }
   ],
   "source": [
    "plt.figure(1)\n",
    "plt.hist(label_validr,bins=100)\n",
    "resultsValuesValid['preds'].hist(bins=100,figsize=(12,12))\n",
    "plt.title('Percentage of Predicted Internet & Actual Internet')\n",
    "plt.legend(['Actual Validation','Predicted Validation'])\n",
    "plt.show()"
   ]
  },
  {
   "cell_type": "code",
   "execution_count": 62,
   "metadata": {
    "collapsed": false
   },
   "outputs": [
    {
     "data": {
      "text/plain": [
       "<matplotlib.legend.Legend at 0x7fed2078c250>"
      ]
     },
     "execution_count": 62,
     "metadata": {},
     "output_type": "execute_result"
    },
    {
     "data": {
      "image/png": "[encoded data removed]",
      "text/plain": [
       "<matplotlib.figure.Figure at 0x7fed20937150>"
      ]
     },
     "metadata": {},
     "output_type": "display_data"
    }
   ],
   "source": [
    "plt.figure(1)\n",
    "resultsblock['pred_blck'].hist(bins=100,figsize=(12,12))\n",
    "plt.title('Predicted Internet Usage at Percentage level at Block Level')\n",
    "plt.legend(['Predicted Blocks Percentages'])"
   ]
  },
  {
   "cell_type": "code",
   "execution_count": null,
   "metadata": {
    "collapsed": true
   },
   "outputs": [],
   "source": []
  }
 ],
 "metadata": {
  "kernelspec": {
   "display_name": "Python 2",
   "language": "python",
   "name": "python2"
  },
  "language_info": {
   "codemirror_mode": {
    "name": "ipython",
    "version": 2
   },
   "file_extension": ".py",
   "mimetype": "text/x-python",
   "name": "python",
   "nbconvert_exporter": "python",
   "pygments_lexer": "ipython2",
   "version": "2.7.10"
  }
 },
 "nbformat": 4,
 "nbformat_minor": 0
}
