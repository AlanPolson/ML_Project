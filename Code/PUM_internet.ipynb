{
 "cells": [
  {
   "cell_type": "code",
   "execution_count": 1,
   "metadata": {
    "collapsed": true
   },
   "outputs": [],
   "source": [
    "#importing dependacies\n",
    "import pandas as pd\n",
    "from DataDL import download_restful as dlr\n",
    "import geopandas as gpd"
   ]
  },
  {
   "cell_type": "markdown",
   "metadata": {},
   "source": [
    "### Downloading the Data"
   ]
  },
  {
   "cell_type": "code",
   "execution_count": 2,
   "metadata": {
    "collapsed": true
   },
   "outputs": [],
   "source": [
    "#downloading the puma13 data and reading it in\n",
    "url = \"http://www2.census.gov/acs2013_1yr/pums/csv_hny.zip\" #source url\n",
    "files = dlr(url, pth = \"PUM_Data/PUM13/\",zp=True) #calling the download function"
   ]
  },
  {
   "cell_type": "code",
   "execution_count": 3,
   "metadata": {
    "collapsed": false
   },
   "outputs": [],
   "source": [
    "#Downloading an NYC PUMA Shapefile and Documentation\n",
    "url = \"http://www1.nyc.gov/assets/planning/download/zip/data-maps/open-data/nypuma_16a.zip\"#From DCP\n",
    "# See http://www1.nyc.gov/site/planning/data-maps/open-data.page\n",
    "nyc_files = dlr(url, pth = \"PUM_Data/NYC_PUMAS/\",zp=True) #calling the download function\n",
    "\n",
    "url = \"http://www1.nyc.gov/assets/planning/download/pdf/data-maps/open-data/nypuma_metadata.pdf\"\n",
    "nyc_files = dlr(url,pth = \"PUM_Data/NYC_PUMAS/\")"
   ]
  },
  {
   "cell_type": "code",
   "execution_count": 4,
   "metadata": {
    "collapsed": false
   },
   "outputs": [],
   "source": [
    "#Downloading the Census Tracts to PUMAs Equivilancy File\n",
    "#https://www.census.gov/geo/maps-data/data/centract_rel.html\n",
    "url = \"http://www2.census.gov/geo/docs/maps-data/data/rel/2010_Census_Tract_to_2010_PUMA.txt\"\n",
    "PUM_Cens = dlr(url, pth = \"PUM_Data/NYC_PUMAS/\") #calling the download function"
   ]
  },
  {
   "cell_type": "markdown",
   "metadata": {},
   "source": [
    "### Reading in the Data"
   ]
  },
  {
   "cell_type": "code",
   "execution_count": 5,
   "metadata": {
    "collapsed": true
   },
   "outputs": [],
   "source": [
    "#reading in puma13 files into the notebook\n",
    "pums13 = pd.read_csv(\"../Data/PUM_Data/PUM13/ss13hny.csv\", usecols = ['PUMA','WGTP', 'ACCESS', 'BROADBND', \\\n",
    "        'COMPOTHX', 'DIALUP', 'DSL', 'FIBEROP','MODEM', 'SATELLITE','OTHSVCEX','HANDHELD','LAPTOP'], dtype = {'PUMA':str})"
   ]
  },
  {
   "cell_type": "code",
   "execution_count": 6,
   "metadata": {
    "collapsed": false
   },
   "outputs": [],
   "source": [
    "#reading in the NYC PUMA file\n",
    "puma_nyc = gpd.GeoDataFrame.from_file(\"../Data/PUM_Data/NYC_PUMAS/nypuma_16a/nypuma.shp\")\n",
    "puma_nyc['PUMA']='0'+puma_nyc['PUMA']"
   ]
  },
  {
   "cell_type": "code",
   "execution_count": 7,
   "metadata": {
    "collapsed": true
   },
   "outputs": [],
   "source": [
    "#Merging the datasets to yield only the records of NYC\n",
    "p13 = pd.merge(pums13,puma_nyc, how='inner', left_on='PUMA',right_on='PUMA')\n"
   ]
  },
  {
   "cell_type": "code",
   "execution_count": 8,
   "metadata": {
    "collapsed": false
   },
   "outputs": [
    {
     "data": {
      "text/html": [
       "<div>\n",
       "<table border=\"1\" class=\"dataframe\">\n",
       "  <thead>\n",
       "    <tr style=\"text-align: right;\">\n",
       "      <th></th>\n",
       "      <th>PUMA</th>\n",
       "      <th>WGTP</th>\n",
       "      <th>ACCESS</th>\n",
       "      <th>BROADBND</th>\n",
       "      <th>COMPOTHX</th>\n",
       "      <th>DIALUP</th>\n",
       "      <th>DSL</th>\n",
       "      <th>FIBEROP</th>\n",
       "      <th>HANDHELD</th>\n",
       "      <th>LAPTOP</th>\n",
       "      <th>MODEM</th>\n",
       "      <th>OTHSVCEX</th>\n",
       "      <th>SATELLITE</th>\n",
       "      <th>Shape_Area</th>\n",
       "      <th>Shape_Leng</th>\n",
       "      <th>geometry</th>\n",
       "    </tr>\n",
       "  </thead>\n",
       "  <tbody>\n",
       "    <tr>\n",
       "      <th>0</th>\n",
       "      <td>04011</td>\n",
       "      <td>95</td>\n",
       "      <td>1</td>\n",
       "      <td>2</td>\n",
       "      <td>2</td>\n",
       "      <td>2</td>\n",
       "      <td>2</td>\n",
       "      <td>2</td>\n",
       "      <td>1</td>\n",
       "      <td>1</td>\n",
       "      <td>1</td>\n",
       "      <td>2</td>\n",
       "      <td>2</td>\n",
       "      <td>47632986.0327</td>\n",
       "      <td>34983.357573</td>\n",
       "      <td>POLYGON ((1004147.387390137 180267.5375976563,...</td>\n",
       "    </tr>\n",
       "    <tr>\n",
       "      <th>1</th>\n",
       "      <td>04011</td>\n",
       "      <td>175</td>\n",
       "      <td>1</td>\n",
       "      <td>2</td>\n",
       "      <td>2</td>\n",
       "      <td>1</td>\n",
       "      <td>1</td>\n",
       "      <td>2</td>\n",
       "      <td>2</td>\n",
       "      <td>1</td>\n",
       "      <td>1</td>\n",
       "      <td>2</td>\n",
       "      <td>2</td>\n",
       "      <td>47632986.0327</td>\n",
       "      <td>34983.357573</td>\n",
       "      <td>POLYGON ((1004147.387390137 180267.5375976563,...</td>\n",
       "    </tr>\n",
       "    <tr>\n",
       "      <th>2</th>\n",
       "      <td>04011</td>\n",
       "      <td>79</td>\n",
       "      <td>1</td>\n",
       "      <td>2</td>\n",
       "      <td>2</td>\n",
       "      <td>2</td>\n",
       "      <td>2</td>\n",
       "      <td>2</td>\n",
       "      <td>1</td>\n",
       "      <td>1</td>\n",
       "      <td>1</td>\n",
       "      <td>2</td>\n",
       "      <td>2</td>\n",
       "      <td>47632986.0327</td>\n",
       "      <td>34983.357573</td>\n",
       "      <td>POLYGON ((1004147.387390137 180267.5375976563,...</td>\n",
       "    </tr>\n",
       "    <tr>\n",
       "      <th>4</th>\n",
       "      <td>04011</td>\n",
       "      <td>187</td>\n",
       "      <td>1</td>\n",
       "      <td>2</td>\n",
       "      <td>2</td>\n",
       "      <td>2</td>\n",
       "      <td>2</td>\n",
       "      <td>2</td>\n",
       "      <td>1</td>\n",
       "      <td>1</td>\n",
       "      <td>1</td>\n",
       "      <td>2</td>\n",
       "      <td>2</td>\n",
       "      <td>47632986.0327</td>\n",
       "      <td>34983.357573</td>\n",
       "      <td>POLYGON ((1004147.387390137 180267.5375976563,...</td>\n",
       "    </tr>\n",
       "    <tr>\n",
       "      <th>5</th>\n",
       "      <td>04011</td>\n",
       "      <td>87</td>\n",
       "      <td>3</td>\n",
       "      <td>NaN</td>\n",
       "      <td>2</td>\n",
       "      <td>NaN</td>\n",
       "      <td>NaN</td>\n",
       "      <td>NaN</td>\n",
       "      <td>2</td>\n",
       "      <td>2</td>\n",
       "      <td>NaN</td>\n",
       "      <td>NaN</td>\n",
       "      <td>NaN</td>\n",
       "      <td>47632986.0327</td>\n",
       "      <td>34983.357573</td>\n",
       "      <td>POLYGON ((1004147.387390137 180267.5375976563,...</td>\n",
       "    </tr>\n",
       "  </tbody>\n",
       "</table>\n",
       "</div>"
      ],
      "text/plain": [
       "    PUMA  WGTP  ACCESS  BROADBND  COMPOTHX  DIALUP  DSL  FIBEROP  HANDHELD  \\\n",
       "0  04011    95       1         2         2       2    2        2         1   \n",
       "1  04011   175       1         2         2       1    1        2         2   \n",
       "2  04011    79       1         2         2       2    2        2         1   \n",
       "4  04011   187       1         2         2       2    2        2         1   \n",
       "5  04011    87       3       NaN         2     NaN  NaN      NaN         2   \n",
       "\n",
       "   LAPTOP  MODEM  OTHSVCEX  SATELLITE     Shape_Area    Shape_Leng  \\\n",
       "0       1      1         2          2  47632986.0327  34983.357573   \n",
       "1       1      1         2          2  47632986.0327  34983.357573   \n",
       "2       1      1         2          2  47632986.0327  34983.357573   \n",
       "4       1      1         2          2  47632986.0327  34983.357573   \n",
       "5       2    NaN       NaN        NaN  47632986.0327  34983.357573   \n",
       "\n",
       "                                            geometry  \n",
       "0  POLYGON ((1004147.387390137 180267.5375976563,...  \n",
       "1  POLYGON ((1004147.387390137 180267.5375976563,...  \n",
       "2  POLYGON ((1004147.387390137 180267.5375976563,...  \n",
       "4  POLYGON ((1004147.387390137 180267.5375976563,...  \n",
       "5  POLYGON ((1004147.387390137 180267.5375976563,...  "
      ]
     },
     "execution_count": 8,
     "metadata": {},
     "output_type": "execute_result"
    }
   ],
   "source": [
    "p13 = p13.dropna(how='all',thresh=1,subset=['ACCESS','BROADBND','DIALUP','DSL','FIBEROP','MODEM','SATELLITE','OTHSVCEX'])\n",
    "p13 = p13.dropna(how='all',thresh=1,subset=['COMPOTHX','HANDHELD','LAPTOP'])\n",
    "p13.head()"
   ]
  },
  {
   "cell_type": "code",
   "execution_count": 9,
   "metadata": {
    "collapsed": false
   },
   "outputs": [
    {
     "name": "stdout",
     "output_type": "stream",
     "text": [
      "Total number of Households in NYC: 3,084,862\n"
     ]
    }
   ],
   "source": [
    "PUMAreas=p13.groupby('PUMA')\n",
    "Tot_HH = (PUMAreas.WGTP.sum()).sum()\n",
    "print \"Total number of Households in NYC: {0:,}\".format(Tot_HH) #No of HH in NYC"
   ]
  },
  {
   "cell_type": "code",
   "execution_count": 10,
   "metadata": {
    "collapsed": false
   },
   "outputs": [
    {
     "name": "stdout",
     "output_type": "stream",
     "text": [
      "ACS defines Broadband Access as Internet Access other than Dial-Up, through Mobile BB, DSL, Fiberop, Modem, or Satellite\n",
      "Number of NYC HH with High Speed Internet(HSI) access: 2,272,025 (73.65%)\n",
      "Number of NYC HH without HSI Access: 812,837 (26.35%)\n"
     ]
    }
   ],
   "source": [
    "print \"ACS defines Broadband Access as Internet Access other than Dial-Up, through Mobile BB, DSL, Fiberop, Modem, or Satellite\"\n",
    "BB= p13.ix[(p13.BROADBND==1)|(p13.DSL==1)|(p13.FIBEROP==1)|(p13.MODEM==1)|(p13.SATELLITE==1)].WGTP.sum()\n",
    "print \"Number of NYC HH with High Speed Internet(HSI) access: {0:,} ({1:.2f}%)\".format(BB,BB/float(Tot_HH)*100)\n",
    "print \"Number of NYC HH without HSI Access: {0:,} ({1:.2f}%)\".format(Tot_HH-BB,(Tot_HH-BB)/float(Tot_HH)*100)"
   ]
  },
  {
   "cell_type": "code",
   "execution_count": 11,
   "metadata": {
    "collapsed": false
   },
   "outputs": [
    {
     "name": "stdout",
     "output_type": "stream",
     "text": [
      "Number of NYC HH with computer Access: 2,548,159 (82.60%)\n",
      "Number of NYC HH without computer Access: 536,703 (17.40%)\n"
     ]
    }
   ],
   "source": [
    "Comp= p13.ix[(p13.LAPTOP==1)|(p13.HANDHELD==1)].WGTP.sum()\n",
    "print \"Number of NYC HH with computer Access: {0:,} ({1:.2f}%)\".format(Comp,Comp/float(Tot_HH)*100)\n",
    "print \"Number of NYC HH without computer Access: {0:,} ({1:.2f}%)\".format(Tot_HH-Comp,(Tot_HH-Comp)/float(Tot_HH)*100)"
   ]
  },
  {
   "cell_type": "code",
   "execution_count": 12,
   "metadata": {
    "collapsed": false
   },
   "outputs": [
    {
     "name": "stdout",
     "output_type": "stream",
     "text": [
      "length of PUMA 04011:334\n",
      "population of PUMA 04011:38793\n"
     ]
    },
    {
     "data": {
      "text/html": [
       "<div>\n",
       "<table border=\"1\" class=\"dataframe\">\n",
       "  <thead>\n",
       "    <tr style=\"text-align: right;\">\n",
       "      <th></th>\n",
       "      <th>PUMA</th>\n",
       "      <th>WGTP</th>\n",
       "      <th>ACCESS</th>\n",
       "      <th>BROADBND</th>\n",
       "      <th>COMPOTHX</th>\n",
       "      <th>DIALUP</th>\n",
       "      <th>DSL</th>\n",
       "      <th>FIBEROP</th>\n",
       "      <th>HANDHELD</th>\n",
       "      <th>LAPTOP</th>\n",
       "      <th>MODEM</th>\n",
       "      <th>OTHSVCEX</th>\n",
       "      <th>SATELLITE</th>\n",
       "      <th>Shape_Area</th>\n",
       "      <th>Shape_Leng</th>\n",
       "      <th>geometry</th>\n",
       "    </tr>\n",
       "  </thead>\n",
       "  <tbody>\n",
       "    <tr>\n",
       "      <th>0</th>\n",
       "      <td>04011</td>\n",
       "      <td>95</td>\n",
       "      <td>1</td>\n",
       "      <td>2</td>\n",
       "      <td>2</td>\n",
       "      <td>2</td>\n",
       "      <td>2</td>\n",
       "      <td>2</td>\n",
       "      <td>1</td>\n",
       "      <td>1</td>\n",
       "      <td>1</td>\n",
       "      <td>2</td>\n",
       "      <td>2</td>\n",
       "      <td>47632986.0327</td>\n",
       "      <td>34983.357573</td>\n",
       "      <td>POLYGON ((1004147.387390137 180267.5375976563,...</td>\n",
       "    </tr>\n",
       "    <tr>\n",
       "      <th>1</th>\n",
       "      <td>04011</td>\n",
       "      <td>175</td>\n",
       "      <td>1</td>\n",
       "      <td>2</td>\n",
       "      <td>2</td>\n",
       "      <td>1</td>\n",
       "      <td>1</td>\n",
       "      <td>2</td>\n",
       "      <td>2</td>\n",
       "      <td>1</td>\n",
       "      <td>1</td>\n",
       "      <td>2</td>\n",
       "      <td>2</td>\n",
       "      <td>47632986.0327</td>\n",
       "      <td>34983.357573</td>\n",
       "      <td>POLYGON ((1004147.387390137 180267.5375976563,...</td>\n",
       "    </tr>\n",
       "    <tr>\n",
       "      <th>2</th>\n",
       "      <td>04011</td>\n",
       "      <td>79</td>\n",
       "      <td>1</td>\n",
       "      <td>2</td>\n",
       "      <td>2</td>\n",
       "      <td>2</td>\n",
       "      <td>2</td>\n",
       "      <td>2</td>\n",
       "      <td>1</td>\n",
       "      <td>1</td>\n",
       "      <td>1</td>\n",
       "      <td>2</td>\n",
       "      <td>2</td>\n",
       "      <td>47632986.0327</td>\n",
       "      <td>34983.357573</td>\n",
       "      <td>POLYGON ((1004147.387390137 180267.5375976563,...</td>\n",
       "    </tr>\n",
       "    <tr>\n",
       "      <th>4</th>\n",
       "      <td>04011</td>\n",
       "      <td>187</td>\n",
       "      <td>1</td>\n",
       "      <td>2</td>\n",
       "      <td>2</td>\n",
       "      <td>2</td>\n",
       "      <td>2</td>\n",
       "      <td>2</td>\n",
       "      <td>1</td>\n",
       "      <td>1</td>\n",
       "      <td>1</td>\n",
       "      <td>2</td>\n",
       "      <td>2</td>\n",
       "      <td>47632986.0327</td>\n",
       "      <td>34983.357573</td>\n",
       "      <td>POLYGON ((1004147.387390137 180267.5375976563,...</td>\n",
       "    </tr>\n",
       "    <tr>\n",
       "      <th>5</th>\n",
       "      <td>04011</td>\n",
       "      <td>87</td>\n",
       "      <td>3</td>\n",
       "      <td>NaN</td>\n",
       "      <td>2</td>\n",
       "      <td>NaN</td>\n",
       "      <td>NaN</td>\n",
       "      <td>NaN</td>\n",
       "      <td>2</td>\n",
       "      <td>2</td>\n",
       "      <td>NaN</td>\n",
       "      <td>NaN</td>\n",
       "      <td>NaN</td>\n",
       "      <td>47632986.0327</td>\n",
       "      <td>34983.357573</td>\n",
       "      <td>POLYGON ((1004147.387390137 180267.5375976563,...</td>\n",
       "    </tr>\n",
       "  </tbody>\n",
       "</table>\n",
       "</div>"
      ],
      "text/plain": [
       "    PUMA  WGTP  ACCESS  BROADBND  COMPOTHX  DIALUP  DSL  FIBEROP  HANDHELD  \\\n",
       "0  04011    95       1         2         2       2    2        2         1   \n",
       "1  04011   175       1         2         2       1    1        2         2   \n",
       "2  04011    79       1         2         2       2    2        2         1   \n",
       "4  04011   187       1         2         2       2    2        2         1   \n",
       "5  04011    87       3       NaN         2     NaN  NaN      NaN         2   \n",
       "\n",
       "   LAPTOP  MODEM  OTHSVCEX  SATELLITE     Shape_Area    Shape_Leng  \\\n",
       "0       1      1         2          2  47632986.0327  34983.357573   \n",
       "1       1      1         2          2  47632986.0327  34983.357573   \n",
       "2       1      1         2          2  47632986.0327  34983.357573   \n",
       "4       1      1         2          2  47632986.0327  34983.357573   \n",
       "5       2    NaN       NaN        NaN  47632986.0327  34983.357573   \n",
       "\n",
       "                                            geometry  \n",
       "0  POLYGON ((1004147.387390137 180267.5375976563,...  \n",
       "1  POLYGON ((1004147.387390137 180267.5375976563,...  \n",
       "2  POLYGON ((1004147.387390137 180267.5375976563,...  \n",
       "4  POLYGON ((1004147.387390137 180267.5375976563,...  \n",
       "5  POLYGON ((1004147.387390137 180267.5375976563,...  "
      ]
     },
     "execution_count": 12,
     "metadata": {},
     "output_type": "execute_result"
    }
   ],
   "source": [
    "onepuma=p13.ix[p13.PUMA=='04011']\n",
    "print \"length of PUMA 04011:{}\".format(len(onepuma))\n",
    "print \"population of PUMA 04011:{}\".format( onepuma.WGTP.sum())\n",
    "onepuma.head()"
   ]
  },
  {
   "cell_type": "code",
   "execution_count": 13,
   "metadata": {
    "collapsed": false
   },
   "outputs": [
    {
     "data": {
      "text/html": [
       "<div>\n",
       "<table border=\"1\" class=\"dataframe\">\n",
       "  <thead>\n",
       "    <tr style=\"text-align: right;\">\n",
       "      <th></th>\n",
       "      <th>PUMA</th>\n",
       "      <th>WGTP</th>\n",
       "      <th>ACCESS</th>\n",
       "      <th>BROADBND</th>\n",
       "      <th>COMPOTHX</th>\n",
       "      <th>DIALUP</th>\n",
       "      <th>DSL</th>\n",
       "      <th>FIBEROP</th>\n",
       "      <th>HANDHELD</th>\n",
       "      <th>LAPTOP</th>\n",
       "      <th>MODEM</th>\n",
       "      <th>OTHSVCEX</th>\n",
       "      <th>SATELLITE</th>\n",
       "      <th>Shape_Area</th>\n",
       "      <th>Shape_Leng</th>\n",
       "      <th>geometry</th>\n",
       "      <th>HSI</th>\n",
       "      <th>Device</th>\n",
       "    </tr>\n",
       "  </thead>\n",
       "  <tbody>\n",
       "    <tr>\n",
       "      <th>0</th>\n",
       "      <td>04011</td>\n",
       "      <td>95</td>\n",
       "      <td>1</td>\n",
       "      <td>2</td>\n",
       "      <td>2</td>\n",
       "      <td>2</td>\n",
       "      <td>2</td>\n",
       "      <td>2</td>\n",
       "      <td>1</td>\n",
       "      <td>1</td>\n",
       "      <td>1</td>\n",
       "      <td>2</td>\n",
       "      <td>2</td>\n",
       "      <td>47632986.0327</td>\n",
       "      <td>34983.357573</td>\n",
       "      <td>POLYGON ((1004147.387390137 180267.5375976563,...</td>\n",
       "      <td>95</td>\n",
       "      <td>95</td>\n",
       "    </tr>\n",
       "    <tr>\n",
       "      <th>1</th>\n",
       "      <td>04011</td>\n",
       "      <td>175</td>\n",
       "      <td>1</td>\n",
       "      <td>2</td>\n",
       "      <td>2</td>\n",
       "      <td>1</td>\n",
       "      <td>1</td>\n",
       "      <td>2</td>\n",
       "      <td>2</td>\n",
       "      <td>1</td>\n",
       "      <td>1</td>\n",
       "      <td>2</td>\n",
       "      <td>2</td>\n",
       "      <td>47632986.0327</td>\n",
       "      <td>34983.357573</td>\n",
       "      <td>POLYGON ((1004147.387390137 180267.5375976563,...</td>\n",
       "      <td>175</td>\n",
       "      <td>175</td>\n",
       "    </tr>\n",
       "    <tr>\n",
       "      <th>2</th>\n",
       "      <td>04011</td>\n",
       "      <td>79</td>\n",
       "      <td>1</td>\n",
       "      <td>2</td>\n",
       "      <td>2</td>\n",
       "      <td>2</td>\n",
       "      <td>2</td>\n",
       "      <td>2</td>\n",
       "      <td>1</td>\n",
       "      <td>1</td>\n",
       "      <td>1</td>\n",
       "      <td>2</td>\n",
       "      <td>2</td>\n",
       "      <td>47632986.0327</td>\n",
       "      <td>34983.357573</td>\n",
       "      <td>POLYGON ((1004147.387390137 180267.5375976563,...</td>\n",
       "      <td>79</td>\n",
       "      <td>79</td>\n",
       "    </tr>\n",
       "    <tr>\n",
       "      <th>4</th>\n",
       "      <td>04011</td>\n",
       "      <td>187</td>\n",
       "      <td>1</td>\n",
       "      <td>2</td>\n",
       "      <td>2</td>\n",
       "      <td>2</td>\n",
       "      <td>2</td>\n",
       "      <td>2</td>\n",
       "      <td>1</td>\n",
       "      <td>1</td>\n",
       "      <td>1</td>\n",
       "      <td>2</td>\n",
       "      <td>2</td>\n",
       "      <td>47632986.0327</td>\n",
       "      <td>34983.357573</td>\n",
       "      <td>POLYGON ((1004147.387390137 180267.5375976563,...</td>\n",
       "      <td>187</td>\n",
       "      <td>187</td>\n",
       "    </tr>\n",
       "    <tr>\n",
       "      <th>5</th>\n",
       "      <td>04011</td>\n",
       "      <td>87</td>\n",
       "      <td>3</td>\n",
       "      <td>NaN</td>\n",
       "      <td>2</td>\n",
       "      <td>NaN</td>\n",
       "      <td>NaN</td>\n",
       "      <td>NaN</td>\n",
       "      <td>2</td>\n",
       "      <td>2</td>\n",
       "      <td>NaN</td>\n",
       "      <td>NaN</td>\n",
       "      <td>NaN</td>\n",
       "      <td>47632986.0327</td>\n",
       "      <td>34983.357573</td>\n",
       "      <td>POLYGON ((1004147.387390137 180267.5375976563,...</td>\n",
       "      <td>0</td>\n",
       "      <td>0</td>\n",
       "    </tr>\n",
       "  </tbody>\n",
       "</table>\n",
       "</div>"
      ],
      "text/plain": [
       "    PUMA  WGTP  ACCESS  BROADBND  COMPOTHX  DIALUP  DSL  FIBEROP  HANDHELD  \\\n",
       "0  04011    95       1         2         2       2    2        2         1   \n",
       "1  04011   175       1         2         2       1    1        2         2   \n",
       "2  04011    79       1         2         2       2    2        2         1   \n",
       "4  04011   187       1         2         2       2    2        2         1   \n",
       "5  04011    87       3       NaN         2     NaN  NaN      NaN         2   \n",
       "\n",
       "   LAPTOP  MODEM  OTHSVCEX  SATELLITE     Shape_Area    Shape_Leng  \\\n",
       "0       1      1         2          2  47632986.0327  34983.357573   \n",
       "1       1      1         2          2  47632986.0327  34983.357573   \n",
       "2       1      1         2          2  47632986.0327  34983.357573   \n",
       "4       1      1         2          2  47632986.0327  34983.357573   \n",
       "5       2    NaN       NaN        NaN  47632986.0327  34983.357573   \n",
       "\n",
       "                                            geometry  HSI  Device  \n",
       "0  POLYGON ((1004147.387390137 180267.5375976563,...   95      95  \n",
       "1  POLYGON ((1004147.387390137 180267.5375976563,...  175     175  \n",
       "2  POLYGON ((1004147.387390137 180267.5375976563,...   79      79  \n",
       "4  POLYGON ((1004147.387390137 180267.5375976563,...  187     187  \n",
       "5  POLYGON ((1004147.387390137 180267.5375976563,...    0       0  "
      ]
     },
     "execution_count": 13,
     "metadata": {},
     "output_type": "execute_result"
    }
   ],
   "source": [
    "p13['HSI']=0\n",
    "p13['Device']=0\n",
    "p13.ix[(p13.BROADBND==1)|(p13.DSL==1)|(p13.FIBEROP==1)|(p13.MODEM==1)|(p13.SATELLITE==1),'HSI']\\\n",
    "=p13.ix[(p13.BROADBND==1)|(p13.DSL==1)|(p13.FIBEROP==1)|(p13.MODEM==1)|(p13.SATELLITE==1),'WGTP']\n",
    "p13.ix[(p13.LAPTOP==1)|(p13.HANDHELD==1),'Device']=p13.ix[(p13.LAPTOP==1)|(p13.HANDHELD==1),'WGTP']\n",
    "p13.head()"
   ]
  },
  {
   "cell_type": "code",
   "execution_count": 14,
   "metadata": {
    "collapsed": false
   },
   "outputs": [
    {
     "data": {
      "text/html": [
       "<div>\n",
       "<table border=\"1\" class=\"dataframe\">\n",
       "  <thead>\n",
       "    <tr style=\"text-align: right;\">\n",
       "      <th></th>\n",
       "      <th>PUMA</th>\n",
       "      <th>HSI</th>\n",
       "      <th>Device</th>\n",
       "      <th>WGTP</th>\n",
       "      <th>withoutHSI</th>\n",
       "      <th>WithoutDevice</th>\n",
       "    </tr>\n",
       "  </thead>\n",
       "  <tbody>\n",
       "    <tr>\n",
       "      <th>0</th>\n",
       "      <td>03701</td>\n",
       "      <td>31768</td>\n",
       "      <td>35535</td>\n",
       "      <td>41585</td>\n",
       "      <td>23.607070</td>\n",
       "      <td>14.548515</td>\n",
       "    </tr>\n",
       "    <tr>\n",
       "      <th>1</th>\n",
       "      <td>03702</td>\n",
       "      <td>33599</td>\n",
       "      <td>39321</td>\n",
       "      <td>46196</td>\n",
       "      <td>27.268595</td>\n",
       "      <td>14.882241</td>\n",
       "    </tr>\n",
       "    <tr>\n",
       "      <th>2</th>\n",
       "      <td>03703</td>\n",
       "      <td>33958</td>\n",
       "      <td>36252</td>\n",
       "      <td>44637</td>\n",
       "      <td>23.924099</td>\n",
       "      <td>18.784865</td>\n",
       "    </tr>\n",
       "    <tr>\n",
       "      <th>3</th>\n",
       "      <td>03704</td>\n",
       "      <td>29102</td>\n",
       "      <td>33676</td>\n",
       "      <td>42571</td>\n",
       "      <td>31.638909</td>\n",
       "      <td>20.894506</td>\n",
       "    </tr>\n",
       "    <tr>\n",
       "      <th>4</th>\n",
       "      <td>03705</td>\n",
       "      <td>33164</td>\n",
       "      <td>41499</td>\n",
       "      <td>55848</td>\n",
       "      <td>40.617390</td>\n",
       "      <td>25.692952</td>\n",
       "    </tr>\n",
       "  </tbody>\n",
       "</table>\n",
       "</div>"
      ],
      "text/plain": [
       "    PUMA    HSI  Device   WGTP  withoutHSI  WithoutDevice\n",
       "0  03701  31768   35535  41585   23.607070      14.548515\n",
       "1  03702  33599   39321  46196   27.268595      14.882241\n",
       "2  03703  33958   36252  44637   23.924099      18.784865\n",
       "3  03704  29102   33676  42571   31.638909      20.894506\n",
       "4  03705  33164   41499  55848   40.617390      25.692952"
      ]
     },
     "execution_count": 14,
     "metadata": {},
     "output_type": "execute_result"
    }
   ],
   "source": [
    "HSI = PUMAreas.HSI.sum()\n",
    "Device = PUMAreas.Device.sum()\n",
    "Total = PUMAreas.WGTP.sum()\n",
    "Final = pd.concat([HSI,Device,Total],axis=1)\n",
    "Final['withoutHSI']=(Final.WGTP-Final.HSI)/Final.WGTP*100\n",
    "Final['WithoutDevice']=(Final.WGTP-Final.Device)/Final.WGTP*100\n",
    "Final = Final.reset_index()\n",
    "Final.head()"
   ]
  },
  {
   "cell_type": "markdown",
   "metadata": {},
   "source": [
    "### Joining the Data to the Census Tract Data"
   ]
  },
  {
   "cell_type": "code",
   "execution_count": 15,
   "metadata": {
    "collapsed": false
   },
   "outputs": [
    {
     "data": {
      "text/html": [
       "<div>\n",
       "<table border=\"1\" class=\"dataframe\">\n",
       "  <thead>\n",
       "    <tr style=\"text-align: right;\">\n",
       "      <th></th>\n",
       "      <th>STATEFP</th>\n",
       "      <th>COUNTYFP</th>\n",
       "      <th>TRACTCE</th>\n",
       "      <th>PUMA5CE</th>\n",
       "    </tr>\n",
       "  </thead>\n",
       "  <tbody>\n",
       "    <tr>\n",
       "      <th>0</th>\n",
       "      <td>01</td>\n",
       "      <td>001</td>\n",
       "      <td>020100</td>\n",
       "      <td>02100</td>\n",
       "    </tr>\n",
       "    <tr>\n",
       "      <th>1</th>\n",
       "      <td>01</td>\n",
       "      <td>001</td>\n",
       "      <td>020200</td>\n",
       "      <td>02100</td>\n",
       "    </tr>\n",
       "    <tr>\n",
       "      <th>2</th>\n",
       "      <td>01</td>\n",
       "      <td>001</td>\n",
       "      <td>020300</td>\n",
       "      <td>02100</td>\n",
       "    </tr>\n",
       "    <tr>\n",
       "      <th>3</th>\n",
       "      <td>01</td>\n",
       "      <td>001</td>\n",
       "      <td>020400</td>\n",
       "      <td>02100</td>\n",
       "    </tr>\n",
       "    <tr>\n",
       "      <th>4</th>\n",
       "      <td>01</td>\n",
       "      <td>001</td>\n",
       "      <td>020500</td>\n",
       "      <td>02100</td>\n",
       "    </tr>\n",
       "  </tbody>\n",
       "</table>\n",
       "</div>"
      ],
      "text/plain": [
       "  STATEFP COUNTYFP TRACTCE PUMA5CE\n",
       "0      01      001  020100   02100\n",
       "1      01      001  020200   02100\n",
       "2      01      001  020300   02100\n",
       "3      01      001  020400   02100\n",
       "4      01      001  020500   02100"
      ]
     },
     "execution_count": 15,
     "metadata": {},
     "output_type": "execute_result"
    }
   ],
   "source": [
    "# Reading in THe census Tract Lookup Table\n",
    "lookup = pd.read_csv('../Data/PUM_Data/NYC_PUMAS/2010_Census_Tract_to_2010_PUMA.txt',dtype=str, )\n",
    "lookup.head()"
   ]
  },
  {
   "cell_type": "code",
   "execution_count": 16,
   "metadata": {
    "collapsed": false
   },
   "outputs": [],
   "source": [
    "lookup = lookup[lookup['STATEFP']=='36'] # Selecting only Census Tracts of New York\n",
    "lookup['censustract']=lookup['STATEFP']+lookup['COUNTYFP']+lookup['TRACTCE'] #Creating CT Code\n",
    "lookup = lookup.drop(labels = ['STATEFP','COUNTYFP','TRACTCE'],axis=1)\n",
    "pumcensus = pd.merge(lookup,Final, how='inner', left_on='PUMA5CE',right_on='PUMA')#Merging onto PUMAs"
   ]
  },
  {
   "cell_type": "code",
   "execution_count": 17,
   "metadata": {
    "collapsed": false
   },
   "outputs": [
    {
     "data": {
      "text/html": [
       "<div>\n",
       "<table border=\"1\" class=\"dataframe\">\n",
       "  <thead>\n",
       "    <tr style=\"text-align: right;\">\n",
       "      <th></th>\n",
       "      <th>PUMA5CE</th>\n",
       "      <th>censustract</th>\n",
       "      <th>PUMA</th>\n",
       "      <th>HSI</th>\n",
       "      <th>Device</th>\n",
       "      <th>WGTP</th>\n",
       "      <th>withoutHSI</th>\n",
       "      <th>WithoutDevice</th>\n",
       "    </tr>\n",
       "  </thead>\n",
       "  <tbody>\n",
       "    <tr>\n",
       "      <th>0</th>\n",
       "      <td>03701</td>\n",
       "      <td>36005026701</td>\n",
       "      <td>03701</td>\n",
       "      <td>31768</td>\n",
       "      <td>35535</td>\n",
       "      <td>41585</td>\n",
       "      <td>23.60707</td>\n",
       "      <td>14.548515</td>\n",
       "    </tr>\n",
       "    <tr>\n",
       "      <th>1</th>\n",
       "      <td>03701</td>\n",
       "      <td>36005026702</td>\n",
       "      <td>03701</td>\n",
       "      <td>31768</td>\n",
       "      <td>35535</td>\n",
       "      <td>41585</td>\n",
       "      <td>23.60707</td>\n",
       "      <td>14.548515</td>\n",
       "    </tr>\n",
       "    <tr>\n",
       "      <th>2</th>\n",
       "      <td>03701</td>\n",
       "      <td>36005027300</td>\n",
       "      <td>03701</td>\n",
       "      <td>31768</td>\n",
       "      <td>35535</td>\n",
       "      <td>41585</td>\n",
       "      <td>23.60707</td>\n",
       "      <td>14.548515</td>\n",
       "    </tr>\n",
       "    <tr>\n",
       "      <th>3</th>\n",
       "      <td>03701</td>\n",
       "      <td>36005027700</td>\n",
       "      <td>03701</td>\n",
       "      <td>31768</td>\n",
       "      <td>35535</td>\n",
       "      <td>41585</td>\n",
       "      <td>23.60707</td>\n",
       "      <td>14.548515</td>\n",
       "    </tr>\n",
       "    <tr>\n",
       "      <th>4</th>\n",
       "      <td>03701</td>\n",
       "      <td>36005027900</td>\n",
       "      <td>03701</td>\n",
       "      <td>31768</td>\n",
       "      <td>35535</td>\n",
       "      <td>41585</td>\n",
       "      <td>23.60707</td>\n",
       "      <td>14.548515</td>\n",
       "    </tr>\n",
       "  </tbody>\n",
       "</table>\n",
       "</div>"
      ],
      "text/plain": [
       "  PUMA5CE  censustract   PUMA    HSI  Device   WGTP  withoutHSI  WithoutDevice\n",
       "0   03701  36005026701  03701  31768   35535  41585    23.60707      14.548515\n",
       "1   03701  36005026702  03701  31768   35535  41585    23.60707      14.548515\n",
       "2   03701  36005027300  03701  31768   35535  41585    23.60707      14.548515\n",
       "3   03701  36005027700  03701  31768   35535  41585    23.60707      14.548515\n",
       "4   03701  36005027900  03701  31768   35535  41585    23.60707      14.548515"
      ]
     },
     "execution_count": 17,
     "metadata": {},
     "output_type": "execute_result"
    }
   ],
   "source": [
    "pumcensus.head()"
   ]
  },
  {
   "cell_type": "code",
   "execution_count": null,
   "metadata": {
    "collapsed": true
   },
   "outputs": [],
   "source": []
  }
 ],
 "metadata": {
  "kernelspec": {
   "display_name": "Python 2",
   "language": "python",
   "name": "python2"
  },
  "language_info": {
   "codemirror_mode": {
    "name": "ipython",
    "version": 2
   },
   "file_extension": ".py",
   "mimetype": "text/x-python",
   "name": "python",
   "nbconvert_exporter": "python",
   "pygments_lexer": "ipython2",
   "version": "2.7.11"
  }
 },
 "nbformat": 4,
 "nbformat_minor": 0
}
