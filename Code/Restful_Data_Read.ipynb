{
 "cells": [
  {
   "cell_type": "markdown",
   "metadata": {
    "collapsed": true
   },
   "source": [
    "### Code to Download Data from Source\n",
    "\n",
    "The following command should download the 2013 NY Houshold PUM data and its documentation into a folder named 'trial' in an adjacent folder named 'data'."
   ]
  },
  {
   "cell_type": "code",
   "execution_count": 1,
   "metadata": {
    "collapsed": true
   },
   "outputs": [],
   "source": [
    "from DataDL import download_source as dld"
   ]
  },
  {
   "cell_type": "code",
   "execution_count": 2,
   "metadata": {
    "collapsed": false
   },
   "outputs": [],
   "source": [
    "url = \"http://www2.census.gov/acs2013_1yr/pums/csv_hny.zip\"\n",
    "files = dld(url, pth='Trial/', zp=True)"
   ]
  },
  {
   "cell_type": "code",
   "execution_count": 3,
   "metadata": {
    "collapsed": false
   },
   "outputs": [
    {
     "name": "stdout",
     "output_type": "stream",
     "text": [
      "['..\\\\Data\\\\Trial\\\\ss13hny.csv', '..\\\\Data\\\\Trial\\\\ACS2013_PUMS_README.pdf']\n"
     ]
    }
   ],
   "source": [
    "print files"
   ]
  },
  {
   "cell_type": "code",
   "execution_count": 4,
   "metadata": {
    "collapsed": true
   },
   "outputs": [],
   "source": [
    "?dld"
   ]
  },
  {
   "cell_type": "markdown",
   "metadata": {},
   "source": [
    "#### Docstring:\n",
    "\n",
    "Download data from source url to an adjacent 'Data' Folder.\n",
    "\n",
    "Args:\n",
    "    \n",
    "    url: (required) url from where data can be downloaded. can be zip archive or a single file.\n",
    "    \n",
    "    pth: (Default=\"\") Path of directories within Data where files should be deposited.\n",
    "    \n",
    "    zp: (Default = False) Accepts True or False. indicates if file is Zip archve or not.\n",
    "    Leave blank if you want the zipfiles to be downloaded zipped.\n",
    "\n",
    "Returns:\n",
    "    \n",
    "    Fie Path or List of file paths (for zip archives)\n",
    "\n",
    "Raises:\n",
    "    \n",
    "    'Unable to access zipfile' if url is wrong. Defaut python exeptions otherwise.\n",
    "\n",
    "\n",
    "Eg:\n",
    "    The following command should download the 2013 NY Houshold PUM data    \n",
    "    and its documentation into a folder named 'trial' in your data folder.\n",
    "    \n",
    "    url = \"http://www2.census.gov/acs2013_1yr/pums/csv_hny.zip\"\n",
    "    files=download_source(url,pth=\"trial/\",zp=True)\n"
   ]
  },
  {
   "cell_type": "markdown",
   "metadata": {},
   "source": [
    "### The rest of this code will delete the files we just downloaded"
   ]
  },
  {
   "cell_type": "code",
   "execution_count": 5,
   "metadata": {
    "collapsed": true
   },
   "outputs": [],
   "source": [
    "import os"
   ]
  },
  {
   "cell_type": "code",
   "execution_count": 6,
   "metadata": {
    "collapsed": true
   },
   "outputs": [],
   "source": [
    "for fil in files:\n",
    "    os.remove(fil)\n",
    "    os.removedirs(fil)"
   ]
  }
 ],
 "metadata": {
  "kernelspec": {
   "display_name": "Python 2",
   "language": "python",
   "name": "python2"
  },
  "language_info": {
   "codemirror_mode": {
    "name": "ipython",
    "version": 2
   },
   "file_extension": ".py",
   "mimetype": "text/x-python",
   "name": "python",
   "nbconvert_exporter": "python",
   "pygments_lexer": "ipython2",
   "version": "2.7.11"
  }
 },
 "nbformat": 4,
 "nbformat_minor": 0
}
