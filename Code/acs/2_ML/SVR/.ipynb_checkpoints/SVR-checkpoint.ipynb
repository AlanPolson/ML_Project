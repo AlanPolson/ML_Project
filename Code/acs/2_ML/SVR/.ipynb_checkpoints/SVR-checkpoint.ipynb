{
 "cells": [
  {
   "cell_type": "code",
   "execution_count": 1,
   "metadata": {
    "collapsed": false
   },
   "outputs": [
    {
     "name": "stdout",
     "output_type": "stream",
     "text": [
      "Populating the interactive namespace from numpy and matplotlib\n"
     ]
    }
   ],
   "source": [
    "__author__ = \"Philipp Kats\"\n",
    "__date__ = \"2016_04_23\"\n",
    "\n",
    "%pylab inline\n",
    "import pandas as pd\n",
    "import numpy as np\n",
    "import geopandas as gp\n",
    "\n",
    "import pylab as plt\n",
    "import os\n",
    "\n",
    "from sklearn.svm import SVR\n",
    "from sklearn.preprocessing import Imputer\n",
    "\n",
    "from ipynotifyer import notifyOnComplete as nf"
   ]
  },
  {
   "cell_type": "markdown",
   "metadata": {},
   "source": [
    "## Read DATA"
   ]
  },
  {
   "cell_type": "code",
   "execution_count": 2,
   "metadata": {
    "collapsed": false
   },
   "outputs": [
    {
     "data": {
      "text/plain": [
       "(5777, 1966)"
      ]
     },
     "execution_count": 2,
     "metadata": {},
     "output_type": "execute_result"
    }
   ],
   "source": [
    "path = '../../../../Data/refined_data/puma50.csv'\n",
    "puma = pd.read_csv(path, low_memory=False, index_col='st', na_values='.')\n",
    "puma.shape"
   ]
  },
  {
   "cell_type": "code",
   "execution_count": 3,
   "metadata": {
    "collapsed": false
   },
   "outputs": [
    {
     "data": {
      "text/plain": [
       "(5777, 2)"
      ]
     },
     "execution_count": 3,
     "metadata": {},
     "output_type": "execute_result"
    }
   ],
   "source": [
    "yPath = '../../../../Data/refined_data/predict.csv'\n",
    "ys = pd.read_csv(yPath, low_memory=False, index_col='st', na_values='.')[['internetP', 'label']]\n",
    "ys.shape"
   ]
  },
  {
   "cell_type": "code",
   "execution_count": 4,
   "metadata": {
    "collapsed": false
   },
   "outputs": [
    {
     "data": {
      "text/plain": [
       "float64    1516\n",
       "int64       449\n",
       "object        1\n",
       "dtype: int64"
      ]
     },
     "execution_count": 4,
     "metadata": {},
     "output_type": "execute_result"
    }
   ],
   "source": [
    "puma.dtypes.value_counts()"
   ]
  },
  {
   "cell_type": "markdown",
   "metadata": {},
   "source": [
    "## Impute data"
   ]
  },
  {
   "cell_type": "code",
   "execution_count": 5,
   "metadata": {
    "collapsed": true
   },
   "outputs": [],
   "source": [
    "def NormDF(df, axis=0, dl='label'):\n",
    "    '''normalizes dataframe by chosen axis (column by default)'''\n",
    "    L = df[dl]\n",
    "    df = df.drop(dl,1)\n",
    "    dfn = (df - df.mean(axis))/df.std(axis)\n",
    "    dfn[dl] = L\n",
    "    return dfn"
   ]
  },
  {
   "cell_type": "code",
   "execution_count": 40,
   "metadata": {
    "collapsed": true
   },
   "outputs": [],
   "source": [
    "def imputeDF(df):\n",
    "    cols = df.columns\n",
    "    L = df['label']\n",
    "    \n",
    "    imp = Imputer(missing_values='NaN', strategy='mean', axis=0)\n",
    "    puma_imp = pd.DataFrame(imp.fit_transform(df.drop('label',1)))\n",
    "    \n",
    "    puma_imp.index = df.index\n",
    "    puma_imp.columns = cols[:puma_imp.shape[1]]\n",
    "    puma_imp['label'] = L\n",
    "    print puma_imp.shape\n",
    "    \n",
    "    \n",
    "    return puma_imp\n",
    "\n",
    "    "
   ]
  },
  {
   "cell_type": "code",
   "execution_count": 41,
   "metadata": {
    "collapsed": false
   },
   "outputs": [
    {
     "name": "stdout",
     "output_type": "stream",
     "text": [
      "(5777, 1966)\n"
     ]
    }
   ],
   "source": [
    "pumaN = NormDF(puma)\n",
    "print pumaN.shape"
   ]
  },
  {
   "cell_type": "code",
   "execution_count": 42,
   "metadata": {
    "collapsed": false
   },
   "outputs": [
    {
     "name": "stdout",
     "output_type": "stream",
     "text": [
      "(5777, 1960)\n"
     ]
    }
   ],
   "source": [
    "puma_imp = imputeDF(pumaN)"
   ]
  },
  {
   "cell_type": "code",
   "execution_count": 43,
   "metadata": {
    "collapsed": false
   },
   "outputs": [
    {
     "data": {
      "text/html": [
       "<div>\n",
       "<table border=\"1\" class=\"dataframe\">\n",
       "  <thead>\n",
       "    <tr style=\"text-align: right;\">\n",
       "      <th></th>\n",
       "      <th>our2</th>\n",
       "      <th>our3</th>\n",
       "      <th>our4</th>\n",
       "      <th>our5</th>\n",
       "      <th>our6</th>\n",
       "      <th>our7</th>\n",
       "      <th>our8</th>\n",
       "      <th>our9</th>\n",
       "      <th>our10</th>\n",
       "      <th>our11</th>\n",
       "      <th>...</th>\n",
       "      <th>our41986</th>\n",
       "      <th>our42002</th>\n",
       "      <th>our42018</th>\n",
       "      <th>our42034</th>\n",
       "      <th>our42059</th>\n",
       "      <th>our42075</th>\n",
       "      <th>our42152</th>\n",
       "      <th>our42153</th>\n",
       "      <th>our42154</th>\n",
       "      <th>label</th>\n",
       "    </tr>\n",
       "    <tr>\n",
       "      <th>st</th>\n",
       "      <th></th>\n",
       "      <th></th>\n",
       "      <th></th>\n",
       "      <th></th>\n",
       "      <th></th>\n",
       "      <th></th>\n",
       "      <th></th>\n",
       "      <th></th>\n",
       "      <th></th>\n",
       "      <th></th>\n",
       "      <th></th>\n",
       "      <th></th>\n",
       "      <th></th>\n",
       "      <th></th>\n",
       "      <th></th>\n",
       "      <th></th>\n",
       "      <th></th>\n",
       "      <th></th>\n",
       "      <th></th>\n",
       "      <th></th>\n",
       "      <th></th>\n",
       "    </tr>\n",
       "  </thead>\n",
       "  <tbody>\n",
       "    <tr>\n",
       "      <th>il_129</th>\n",
       "      <td>1.212748</td>\n",
       "      <td>1.233696</td>\n",
       "      <td>1.170192</td>\n",
       "      <td>1.243225</td>\n",
       "      <td>1.355621</td>\n",
       "      <td>1.222473</td>\n",
       "      <td>0.995936</td>\n",
       "      <td>1.035781</td>\n",
       "      <td>0.967715</td>\n",
       "      <td>1.164708</td>\n",
       "      <td>...</td>\n",
       "      <td>1.541282e+00</td>\n",
       "      <td>-4.183885e-01</td>\n",
       "      <td>1.542940e+00</td>\n",
       "      <td>2.325752e+00</td>\n",
       "      <td>2.862760e-01</td>\n",
       "      <td>2.860892e+00</td>\n",
       "      <td>1.083466e+00</td>\n",
       "      <td>1.574321e+00</td>\n",
       "      <td>3.022625e-01</td>\n",
       "      <td>train</td>\n",
       "    </tr>\n",
       "    <tr>\n",
       "      <th>wi_57</th>\n",
       "      <td>0.923742</td>\n",
       "      <td>0.899020</td>\n",
       "      <td>1.164898</td>\n",
       "      <td>1.200220</td>\n",
       "      <td>1.051604</td>\n",
       "      <td>1.041713</td>\n",
       "      <td>1.346181</td>\n",
       "      <td>1.812326</td>\n",
       "      <td>1.137407</td>\n",
       "      <td>0.943402</td>\n",
       "      <td>...</td>\n",
       "      <td>3.240344e-01</td>\n",
       "      <td>6.912739e-02</td>\n",
       "      <td>3.879691e-01</td>\n",
       "      <td>8.743878e-02</td>\n",
       "      <td>4.540903e-01</td>\n",
       "      <td>-2.383729e-01</td>\n",
       "      <td>7.264407e-01</td>\n",
       "      <td>1.067058e-01</td>\n",
       "      <td>-5.888708e-02</td>\n",
       "      <td>train</td>\n",
       "    </tr>\n",
       "    <tr>\n",
       "      <th>tx_412</th>\n",
       "      <td>-0.374275</td>\n",
       "      <td>-0.382255</td>\n",
       "      <td>-0.354002</td>\n",
       "      <td>-0.280761</td>\n",
       "      <td>-0.401216</td>\n",
       "      <td>-0.327129</td>\n",
       "      <td>-0.521107</td>\n",
       "      <td>-0.321200</td>\n",
       "      <td>-0.467192</td>\n",
       "      <td>-0.293923</td>\n",
       "      <td>...</td>\n",
       "      <td>1.729015e-17</td>\n",
       "      <td>5.269378e-17</td>\n",
       "      <td>-4.940042e-18</td>\n",
       "      <td>3.046359e-17</td>\n",
       "      <td>6.586723e-18</td>\n",
       "      <td>-6.586723e-18</td>\n",
       "      <td>-9.880084e-18</td>\n",
       "      <td>-2.964025e-17</td>\n",
       "      <td>3.293361e-18</td>\n",
       "      <td>train</td>\n",
       "    </tr>\n",
       "    <tr>\n",
       "      <th>wa_14</th>\n",
       "      <td>-0.437582</td>\n",
       "      <td>-0.443403</td>\n",
       "      <td>-0.421037</td>\n",
       "      <td>-0.484573</td>\n",
       "      <td>-0.414124</td>\n",
       "      <td>-0.515680</td>\n",
       "      <td>-0.453853</td>\n",
       "      <td>-0.386680</td>\n",
       "      <td>-0.472838</td>\n",
       "      <td>-0.547727</td>\n",
       "      <td>...</td>\n",
       "      <td>1.729015e-17</td>\n",
       "      <td>5.269378e-17</td>\n",
       "      <td>-4.940042e-18</td>\n",
       "      <td>3.046359e-17</td>\n",
       "      <td>6.586723e-18</td>\n",
       "      <td>-6.586723e-18</td>\n",
       "      <td>-9.880084e-18</td>\n",
       "      <td>-2.964025e-17</td>\n",
       "      <td>3.293361e-18</td>\n",
       "      <td>train</td>\n",
       "    </tr>\n",
       "    <tr>\n",
       "      <th>tx_220</th>\n",
       "      <td>-0.307318</td>\n",
       "      <td>-0.306544</td>\n",
       "      <td>-0.374323</td>\n",
       "      <td>-0.272693</td>\n",
       "      <td>-0.242633</td>\n",
       "      <td>-0.149538</td>\n",
       "      <td>-0.239607</td>\n",
       "      <td>-0.096463</td>\n",
       "      <td>-0.460219</td>\n",
       "      <td>-0.371163</td>\n",
       "      <td>...</td>\n",
       "      <td>1.729015e-17</td>\n",
       "      <td>5.269378e-17</td>\n",
       "      <td>-4.940042e-18</td>\n",
       "      <td>3.046359e-17</td>\n",
       "      <td>6.586723e-18</td>\n",
       "      <td>-6.586723e-18</td>\n",
       "      <td>-9.880084e-18</td>\n",
       "      <td>-2.964025e-17</td>\n",
       "      <td>3.293361e-18</td>\n",
       "      <td>train</td>\n",
       "    </tr>\n",
       "  </tbody>\n",
       "</table>\n",
       "<p>5 rows × 1960 columns</p>\n",
       "</div>"
      ],
      "text/plain": [
       "            our2      our3      our4      our5      our6      our7      our8  \\\n",
       "st                                                                             \n",
       "il_129  1.212748  1.233696  1.170192  1.243225  1.355621  1.222473  0.995936   \n",
       "wi_57   0.923742  0.899020  1.164898  1.200220  1.051604  1.041713  1.346181   \n",
       "tx_412 -0.374275 -0.382255 -0.354002 -0.280761 -0.401216 -0.327129 -0.521107   \n",
       "wa_14  -0.437582 -0.443403 -0.421037 -0.484573 -0.414124 -0.515680 -0.453853   \n",
       "tx_220 -0.307318 -0.306544 -0.374323 -0.272693 -0.242633 -0.149538 -0.239607   \n",
       "\n",
       "            our9     our10     our11  ...        our41986      our42002  \\\n",
       "st                                    ...                                 \n",
       "il_129  1.035781  0.967715  1.164708  ...    1.541282e+00 -4.183885e-01   \n",
       "wi_57   1.812326  1.137407  0.943402  ...    3.240344e-01  6.912739e-02   \n",
       "tx_412 -0.321200 -0.467192 -0.293923  ...    1.729015e-17  5.269378e-17   \n",
       "wa_14  -0.386680 -0.472838 -0.547727  ...    1.729015e-17  5.269378e-17   \n",
       "tx_220 -0.096463 -0.460219 -0.371163  ...    1.729015e-17  5.269378e-17   \n",
       "\n",
       "            our42018      our42034      our42059      our42075      our42152  \\\n",
       "st                                                                             \n",
       "il_129  1.542940e+00  2.325752e+00  2.862760e-01  2.860892e+00  1.083466e+00   \n",
       "wi_57   3.879691e-01  8.743878e-02  4.540903e-01 -2.383729e-01  7.264407e-01   \n",
       "tx_412 -4.940042e-18  3.046359e-17  6.586723e-18 -6.586723e-18 -9.880084e-18   \n",
       "wa_14  -4.940042e-18  3.046359e-17  6.586723e-18 -6.586723e-18 -9.880084e-18   \n",
       "tx_220 -4.940042e-18  3.046359e-17  6.586723e-18 -6.586723e-18 -9.880084e-18   \n",
       "\n",
       "            our42153      our42154  label  \n",
       "st                                         \n",
       "il_129  1.574321e+00  3.022625e-01  train  \n",
       "wi_57   1.067058e-01 -5.888708e-02  train  \n",
       "tx_412 -2.964025e-17  3.293361e-18  train  \n",
       "wa_14  -2.964025e-17  3.293361e-18  train  \n",
       "tx_220 -2.964025e-17  3.293361e-18  train  \n",
       "\n",
       "[5 rows x 1960 columns]"
      ]
     },
     "execution_count": 43,
     "metadata": {},
     "output_type": "execute_result"
    }
   ],
   "source": [
    "puma_imp.head()"
   ]
  },
  {
   "cell_type": "markdown",
   "metadata": {},
   "source": [
    "## Preprocessing"
   ]
  },
  {
   "cell_type": "code",
   "execution_count": 44,
   "metadata": {
    "collapsed": true
   },
   "outputs": [],
   "source": [
    "ys['internetP'] = ys['internetP']/100.0"
   ]
  },
  {
   "cell_type": "markdown",
   "metadata": {},
   "source": [
    "## Data split"
   ]
  },
  {
   "cell_type": "code",
   "execution_count": 53,
   "metadata": {
    "collapsed": false
   },
   "outputs": [],
   "source": [
    "Xtest, Xtrain, Xval   = (x[1].drop('label',1) for x in puma_imp.groupby('label'))"
   ]
  },
  {
   "cell_type": "code",
   "execution_count": 54,
   "metadata": {
    "collapsed": false
   },
   "outputs": [],
   "source": [
    "ytest, ytrain, yval = (x[1]['internetP'] for x in ys.groupby(L))"
   ]
  },
  {
   "cell_type": "code",
   "execution_count": 56,
   "metadata": {
    "collapsed": true
   },
   "outputs": [],
   "source": [
    "datas = {'Xtest':Xtest, \n",
    "         'Xtrain':Xtrain, \n",
    "         'Xval':Xval,\n",
    "         'ytest':ytest,\n",
    "         'ytrain':ytrain,\n",
    "         'yval':yval}"
   ]
  },
  {
   "cell_type": "markdown",
   "metadata": {},
   "source": [
    "## Set Model"
   ]
  },
  {
   "cell_type": "code",
   "execution_count": 55,
   "metadata": {
    "collapsed": true
   },
   "outputs": [],
   "source": [
    "# svr = SVR(kernel='rbf', \n",
    "#       degree=3, \n",
    "#       gamma='auto', \n",
    "#       coef0=0.0, \n",
    "#       tol=0.001, \n",
    "#       C=1.0, \n",
    "#       epsilon=0.1, \n",
    "#       shrinking=True, \n",
    "#       cache_size=200, \n",
    "#       verbose=False, \n",
    "#       max_iter=-1)"
   ]
  },
  {
   "cell_type": "code",
   "execution_count": 57,
   "metadata": {
    "collapsed": true
   },
   "outputs": [],
   "source": [
    "@nf\n",
    "def evaluate(model, datas ):\n",
    "    try:\n",
    "        x = model.fit(datas['Xtrain'], datas['ytrain'])\n",
    "        print 'train:', x.score(datas['Xtrain'], datas['ytrain'])\n",
    "        print 'valid:', x.score(datas['Xval'], datas['yval'])\n",
    "    except Exception, e:\n",
    "        print str(e)\n"
   ]
  },
  {
   "cell_type": "code",
   "execution_count": null,
   "metadata": {
    "collapsed": false
   },
   "outputs": [],
   "source": [
    "evaluate(SVR(kernel='rbf', C=2, gamma=0.1))"
   ]
  },
  {
   "cell_type": "code",
   "execution_count": null,
   "metadata": {
    "collapsed": false
   },
   "outputs": [],
   "source": [
    "evaluate(SVR(kernel='linear', C=1))"
   ]
  },
  {
   "cell_type": "code",
   "execution_count": null,
   "metadata": {
    "collapsed": false
   },
   "outputs": [],
   "source": [
    "evaluate(SVR(kernel='poly', C=1, degree=2))"
   ]
  },
  {
   "cell_type": "code",
   "execution_count": null,
   "metadata": {
    "collapsed": true
   },
   "outputs": [],
   "source": []
  }
 ],
 "metadata": {
  "kernelspec": {
   "display_name": "Python 2",
   "language": "python",
   "name": "python2"
  },
  "language_info": {
   "codemirror_mode": {
    "name": "ipython",
    "version": 2
   },
   "file_extension": ".py",
   "mimetype": "text/x-python",
   "name": "python",
   "nbconvert_exporter": "python",
   "pygments_lexer": "ipython2",
   "version": "2.7.11"
  }
 },
 "nbformat": 4,
 "nbformat_minor": 0
}
