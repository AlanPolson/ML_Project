{
 "cells": [
  {
   "cell_type": "code",
   "execution_count": 1,
   "metadata": {
    "collapsed": false
   },
   "outputs": [
    {
     "name": "stdout",
     "output_type": "stream",
     "text": [
      "Populating the interactive namespace from numpy and matplotlib\n"
     ]
    }
   ],
   "source": [
    "__author__ = \"Philipp Kats\"\n",
    "__date__ = \"2016_04_23\"\n",
    "\n",
    "%pylab inline\n",
    "import pandas as pd\n",
    "import numpy as np\n",
    "import geopandas as gp\n",
    "\n",
    "import pylab as plt\n",
    "import os\n",
    "\n",
    "from sklearn.svm import SVR\n",
    "from sklearn.preprocessing import Imputer\n",
    "\n",
    "from ipynotifyer import notifyOnComplete as nf"
   ]
  },
  {
   "cell_type": "markdown",
   "metadata": {},
   "source": [
    "## Read DATA"
   ]
  },
  {
   "cell_type": "code",
   "execution_count": 2,
   "metadata": {
    "collapsed": false
   },
   "outputs": [
    {
     "data": {
      "text/plain": [
       "(2378, 1900)"
      ]
     },
     "execution_count": 2,
     "metadata": {},
     "output_type": "execute_result"
    }
   ],
   "source": [
    "path = '../../../../Data/refined_data/puma50.csv'\n",
    "puma = pd.read_csv(path, low_memory=False, index_col=0, na_values='.')\n",
    "puma.shape"
   ]
  },
  {
   "cell_type": "code",
   "execution_count": 3,
   "metadata": {
    "collapsed": false
   },
   "outputs": [
    {
     "data": {
      "text/plain": [
       "(2378, 2)"
      ]
     },
     "execution_count": 3,
     "metadata": {},
     "output_type": "execute_result"
    }
   ],
   "source": [
    "yPath = '../../../../Data/refined_data/predict.csv'\n",
    "ys = pd.read_csv(yPath, low_memory=False, index_col=0, na_values='.')[['internetP', 'label']]\n",
    "ys.shape"
   ]
  },
  {
   "cell_type": "code",
   "execution_count": 4,
   "metadata": {
    "collapsed": false
   },
   "outputs": [
    {
     "data": {
      "text/plain": [
       "float64    1450\n",
       "int64       449\n",
       "object        1\n",
       "dtype: int64"
      ]
     },
     "execution_count": 4,
     "metadata": {},
     "output_type": "execute_result"
    }
   ],
   "source": [
    "puma.dtypes.value_counts()"
   ]
  },
  {
   "cell_type": "markdown",
   "metadata": {},
   "source": [
    "## Impute data"
   ]
  },
  {
   "cell_type": "code",
   "execution_count": 5,
   "metadata": {
    "collapsed": true
   },
   "outputs": [],
   "source": [
    "def NormDF(df, axis=0, dl='label'):\n",
    "    '''normalizes dataframe by chosen axis (column by default)'''\n",
    "    L = df[dl]\n",
    "    df = df.drop(dl,1)\n",
    "    dfn = (df - df.mean(axis))/df.std(axis)\n",
    "    dfn[dl] = L\n",
    "    return dfn"
   ]
  },
  {
   "cell_type": "code",
   "execution_count": 6,
   "metadata": {
    "collapsed": true
   },
   "outputs": [],
   "source": [
    "def imputeDF(df):\n",
    "    cols = df.columns\n",
    "    L = df['label']\n",
    "    \n",
    "    imp = Imputer(missing_values='NaN', strategy='mean', axis=0)\n",
    "    puma_imp = pd.DataFrame(imp.fit_transform(df.drop('label',1)))\n",
    "    \n",
    "    puma_imp.index = df.index\n",
    "    puma_imp.columns = cols[:puma_imp.shape[1]]\n",
    "    puma_imp['label'] = L\n",
    "    print puma_imp.shape\n",
    "    \n",
    "    \n",
    "    return puma_imp\n",
    "\n",
    "    "
   ]
  },
  {
   "cell_type": "code",
   "execution_count": 7,
   "metadata": {
    "collapsed": false
   },
   "outputs": [
    {
     "name": "stdout",
     "output_type": "stream",
     "text": [
      "(2378, 1900)\n"
     ]
    }
   ],
   "source": [
    "pumaN = NormDF(puma)\n",
    "print pumaN.shape"
   ]
  },
  {
   "cell_type": "code",
   "execution_count": 8,
   "metadata": {
    "collapsed": false
   },
   "outputs": [
    {
     "name": "stdout",
     "output_type": "stream",
     "text": [
      "(2378, 1894)\n"
     ]
    }
   ],
   "source": [
    "puma_imp = imputeDF(pumaN)"
   ]
  },
  {
   "cell_type": "code",
   "execution_count": 9,
   "metadata": {
    "collapsed": false
   },
   "outputs": [
    {
     "data": {
      "text/html": [
       "<div>\n",
       "<table border=\"1\" class=\"dataframe\">\n",
       "  <thead>\n",
       "    <tr style=\"text-align: right;\">\n",
       "      <th></th>\n",
       "      <th>our2</th>\n",
       "      <th>our3</th>\n",
       "      <th>our4</th>\n",
       "      <th>our5</th>\n",
       "      <th>our6</th>\n",
       "      <th>our7</th>\n",
       "      <th>our8</th>\n",
       "      <th>our9</th>\n",
       "      <th>our10</th>\n",
       "      <th>our11</th>\n",
       "      <th>...</th>\n",
       "      <th>our41986</th>\n",
       "      <th>our42002</th>\n",
       "      <th>our42018</th>\n",
       "      <th>our42034</th>\n",
       "      <th>our42059</th>\n",
       "      <th>our42075</th>\n",
       "      <th>our42152</th>\n",
       "      <th>our42153</th>\n",
       "      <th>our42154</th>\n",
       "      <th>label</th>\n",
       "    </tr>\n",
       "  </thead>\n",
       "  <tbody>\n",
       "    <tr>\n",
       "      <th>ar_0000059</th>\n",
       "      <td>-1.041076</td>\n",
       "      <td>-1.016346</td>\n",
       "      <td>-0.512211</td>\n",
       "      <td>-0.922267</td>\n",
       "      <td>-0.276272</td>\n",
       "      <td>-0.953373</td>\n",
       "      <td>-0.657854</td>\n",
       "      <td>-0.744902</td>\n",
       "      <td>-1.233213</td>\n",
       "      <td>-1.321386</td>\n",
       "      <td>...</td>\n",
       "      <td>-4.215760e-01</td>\n",
       "      <td>1.136033e+00</td>\n",
       "      <td>-8.367572e-01</td>\n",
       "      <td>1.992416e-01</td>\n",
       "      <td>2.362276e-01</td>\n",
       "      <td>-1.890410e-01</td>\n",
       "      <td>-7.822235e-01</td>\n",
       "      <td>-5.639143e-01</td>\n",
       "      <td>-0.032414</td>\n",
       "      <td>train</td>\n",
       "    </tr>\n",
       "    <tr>\n",
       "      <th>fl_0000164</th>\n",
       "      <td>-0.457638</td>\n",
       "      <td>-0.448116</td>\n",
       "      <td>0.107983</td>\n",
       "      <td>-1.179533</td>\n",
       "      <td>-1.181819</td>\n",
       "      <td>-0.695874</td>\n",
       "      <td>-0.155420</td>\n",
       "      <td>-1.185674</td>\n",
       "      <td>-0.385807</td>\n",
       "      <td>-0.308163</td>\n",
       "      <td>...</td>\n",
       "      <td>-1.620068e-16</td>\n",
       "      <td>-2.477751e-17</td>\n",
       "      <td>7.433253e-17</td>\n",
       "      <td>4.574309e-17</td>\n",
       "      <td>6.480272e-17</td>\n",
       "      <td>-1.048279e-17</td>\n",
       "      <td>5.146098e-17</td>\n",
       "      <td>3.240136e-17</td>\n",
       "      <td>0.000000</td>\n",
       "      <td>train</td>\n",
       "    </tr>\n",
       "    <tr>\n",
       "      <th>il_0000151</th>\n",
       "      <td>1.447442</td>\n",
       "      <td>1.347753</td>\n",
       "      <td>0.339280</td>\n",
       "      <td>1.409166</td>\n",
       "      <td>0.444771</td>\n",
       "      <td>0.577450</td>\n",
       "      <td>1.715603</td>\n",
       "      <td>2.723572</td>\n",
       "      <td>2.722425</td>\n",
       "      <td>2.692256</td>\n",
       "      <td>...</td>\n",
       "      <td>1.169063e-01</td>\n",
       "      <td>7.788370e-01</td>\n",
       "      <td>2.102895e-01</td>\n",
       "      <td>8.179379e-01</td>\n",
       "      <td>-8.508664e-01</td>\n",
       "      <td>-1.890410e-01</td>\n",
       "      <td>-1.214085e+00</td>\n",
       "      <td>-4.419372e-02</td>\n",
       "      <td>-0.509773</td>\n",
       "      <td>train</td>\n",
       "    </tr>\n",
       "    <tr>\n",
       "      <th>oh_0000139</th>\n",
       "      <td>0.065941</td>\n",
       "      <td>0.065206</td>\n",
       "      <td>-1.115624</td>\n",
       "      <td>-0.718932</td>\n",
       "      <td>0.184250</td>\n",
       "      <td>-0.183237</td>\n",
       "      <td>-0.534430</td>\n",
       "      <td>-0.807412</td>\n",
       "      <td>-0.426237</td>\n",
       "      <td>0.306979</td>\n",
       "      <td>...</td>\n",
       "      <td>6.587541e-01</td>\n",
       "      <td>-4.301322e-01</td>\n",
       "      <td>1.125882e+00</td>\n",
       "      <td>8.292943e-01</td>\n",
       "      <td>-5.649438e-01</td>\n",
       "      <td>-1.890410e-01</td>\n",
       "      <td>-1.462632e-01</td>\n",
       "      <td>7.123838e-02</td>\n",
       "      <td>-0.752714</td>\n",
       "      <td>train</td>\n",
       "    </tr>\n",
       "    <tr>\n",
       "      <th>pr_0000058</th>\n",
       "      <td>-0.207392</td>\n",
       "      <td>-0.231359</td>\n",
       "      <td>-0.423195</td>\n",
       "      <td>-0.875624</td>\n",
       "      <td>0.492004</td>\n",
       "      <td>0.088437</td>\n",
       "      <td>0.531605</td>\n",
       "      <td>-0.554168</td>\n",
       "      <td>0.351630</td>\n",
       "      <td>-0.163189</td>\n",
       "      <td>...</td>\n",
       "      <td>-1.620068e-16</td>\n",
       "      <td>-2.477751e-17</td>\n",
       "      <td>7.433253e-17</td>\n",
       "      <td>4.574309e-17</td>\n",
       "      <td>6.480272e-17</td>\n",
       "      <td>-1.048279e-17</td>\n",
       "      <td>5.146098e-17</td>\n",
       "      <td>3.240136e-17</td>\n",
       "      <td>0.000000</td>\n",
       "      <td>train</td>\n",
       "    </tr>\n",
       "  </tbody>\n",
       "</table>\n",
       "<p>5 rows × 1894 columns</p>\n",
       "</div>"
      ],
      "text/plain": [
       "                our2      our3      our4      our5      our6      our7  \\\n",
       "ar_0000059 -1.041076 -1.016346 -0.512211 -0.922267 -0.276272 -0.953373   \n",
       "fl_0000164 -0.457638 -0.448116  0.107983 -1.179533 -1.181819 -0.695874   \n",
       "il_0000151  1.447442  1.347753  0.339280  1.409166  0.444771  0.577450   \n",
       "oh_0000139  0.065941  0.065206 -1.115624 -0.718932  0.184250 -0.183237   \n",
       "pr_0000058 -0.207392 -0.231359 -0.423195 -0.875624  0.492004  0.088437   \n",
       "\n",
       "                our8      our9     our10     our11  ...        our41986  \\\n",
       "ar_0000059 -0.657854 -0.744902 -1.233213 -1.321386  ...   -4.215760e-01   \n",
       "fl_0000164 -0.155420 -1.185674 -0.385807 -0.308163  ...   -1.620068e-16   \n",
       "il_0000151  1.715603  2.723572  2.722425  2.692256  ...    1.169063e-01   \n",
       "oh_0000139 -0.534430 -0.807412 -0.426237  0.306979  ...    6.587541e-01   \n",
       "pr_0000058  0.531605 -0.554168  0.351630 -0.163189  ...   -1.620068e-16   \n",
       "\n",
       "                our42002      our42018      our42034      our42059  \\\n",
       "ar_0000059  1.136033e+00 -8.367572e-01  1.992416e-01  2.362276e-01   \n",
       "fl_0000164 -2.477751e-17  7.433253e-17  4.574309e-17  6.480272e-17   \n",
       "il_0000151  7.788370e-01  2.102895e-01  8.179379e-01 -8.508664e-01   \n",
       "oh_0000139 -4.301322e-01  1.125882e+00  8.292943e-01 -5.649438e-01   \n",
       "pr_0000058 -2.477751e-17  7.433253e-17  4.574309e-17  6.480272e-17   \n",
       "\n",
       "                our42075      our42152      our42153  our42154  label  \n",
       "ar_0000059 -1.890410e-01 -7.822235e-01 -5.639143e-01 -0.032414  train  \n",
       "fl_0000164 -1.048279e-17  5.146098e-17  3.240136e-17  0.000000  train  \n",
       "il_0000151 -1.890410e-01 -1.214085e+00 -4.419372e-02 -0.509773  train  \n",
       "oh_0000139 -1.890410e-01 -1.462632e-01  7.123838e-02 -0.752714  train  \n",
       "pr_0000058 -1.048279e-17  5.146098e-17  3.240136e-17  0.000000  train  \n",
       "\n",
       "[5 rows x 1894 columns]"
      ]
     },
     "execution_count": 9,
     "metadata": {},
     "output_type": "execute_result"
    }
   ],
   "source": [
    "puma_imp.head()"
   ]
  },
  {
   "cell_type": "markdown",
   "metadata": {},
   "source": [
    "## Preprocessing"
   ]
  },
  {
   "cell_type": "code",
   "execution_count": 10,
   "metadata": {
    "collapsed": false
   },
   "outputs": [
    {
     "data": {
      "text/html": [
       "<div>\n",
       "<table border=\"1\" class=\"dataframe\">\n",
       "  <thead>\n",
       "    <tr style=\"text-align: right;\">\n",
       "      <th></th>\n",
       "      <th>internetP</th>\n",
       "      <th>label</th>\n",
       "    </tr>\n",
       "  </thead>\n",
       "  <tbody>\n",
       "    <tr>\n",
       "      <th>ar_0000059</th>\n",
       "      <td>0.583859</td>\n",
       "      <td>train</td>\n",
       "    </tr>\n",
       "    <tr>\n",
       "      <th>fl_0000164</th>\n",
       "      <td>0.854362</td>\n",
       "      <td>train</td>\n",
       "    </tr>\n",
       "    <tr>\n",
       "      <th>il_0000151</th>\n",
       "      <td>0.800187</td>\n",
       "      <td>train</td>\n",
       "    </tr>\n",
       "  </tbody>\n",
       "</table>\n",
       "</div>"
      ],
      "text/plain": [
       "            internetP  label\n",
       "ar_0000059   0.583859  train\n",
       "fl_0000164   0.854362  train\n",
       "il_0000151   0.800187  train"
      ]
     },
     "execution_count": 10,
     "metadata": {},
     "output_type": "execute_result"
    }
   ],
   "source": [
    "ys.head(3)"
   ]
  },
  {
   "cell_type": "markdown",
   "metadata": {},
   "source": [
    "## Data split"
   ]
  },
  {
   "cell_type": "code",
   "execution_count": 11,
   "metadata": {
    "collapsed": false
   },
   "outputs": [],
   "source": [
    "Xtest, Xtrain, Xval   = (x[1].drop('label',1) for x in puma_imp.groupby('label'))"
   ]
  },
  {
   "cell_type": "code",
   "execution_count": 12,
   "metadata": {
    "collapsed": false
   },
   "outputs": [],
   "source": [
    "ytest, ytrain, yval = (x[1]['internetP'] for x in ys.groupby('label'))"
   ]
  },
  {
   "cell_type": "code",
   "execution_count": 13,
   "metadata": {
    "collapsed": true
   },
   "outputs": [],
   "source": [
    "datas = {'Xtest':Xtest, \n",
    "         'Xtrain':Xtrain, \n",
    "         'Xval':Xval,\n",
    "         'ytest':ytest,\n",
    "         'ytrain':ytrain,\n",
    "         'yval':yval}"
   ]
  },
  {
   "cell_type": "markdown",
   "metadata": {},
   "source": [
    "## Set Model"
   ]
  },
  {
   "cell_type": "code",
   "execution_count": 14,
   "metadata": {
    "collapsed": true
   },
   "outputs": [],
   "source": [
    "# svr = SVR(kernel='rbf', \n",
    "#       degree=3, \n",
    "#       gamma='auto', \n",
    "#       coef0=0.0, \n",
    "#       tol=0.001, \n",
    "#       C=1.0, \n",
    "#       epsilon=0.1, \n",
    "#       shrinking=True, \n",
    "#       cache_size=200, \n",
    "#       verbose=False, \n",
    "#       max_iter=-1)"
   ]
  },
  {
   "cell_type": "code",
   "execution_count": 15,
   "metadata": {
    "collapsed": false
   },
   "outputs": [],
   "source": [
    "#@nf\n",
    "def evaluate(model, datas=datas, iterative=False, param=(0,2) ):\n",
    "    try:\n",
    "        x = model.fit(datas['Xtrain'], datas['ytrain'])\n",
    "        train = x.score(datas['Xtrain'], datas['ytrain'])\n",
    "        val = x.score(datas['Xval'], datas['yval'])\n",
    "        if not iterative:\n",
    "            print 'train:', train\n",
    "            print 'valid:', val\n",
    "    except Exception, e:\n",
    "        print str(e)\n",
    "    if iterative:\n",
    "        return train, val, param[0], param[1]\n"
   ]
  },
  {
   "cell_type": "code",
   "execution_count": 30,
   "metadata": {
    "collapsed": false
   },
   "outputs": [],
   "source": [
    "@nf\n",
    "def tweakGamma(Gs = (1, 1001, 20, .000001), Cs = (1,50,5)):\n",
    "    Cstart, Cend, Cstep = Cs\n",
    "    Gstart, Gend, Gstep, Gm = Gs\n",
    "    results = []\n",
    "    for  e in xrange(Gstart,Gend, Gstep):\n",
    "        for C in xrange(Cstart, Cend, Cstep):\n",
    "            gamma = Gm*e\n",
    "            results.append(evaluate(SVR(kernel='rbf', C=C, gamma=gamma),\n",
    "                                    iterative=True, param = (gamma,C)))\n",
    "    return results"
   ]
  },
  {
   "cell_type": "code",
   "execution_count": 31,
   "metadata": {
    "collapsed": false
   },
   "outputs": [],
   "source": [
    "results  = tweakGamma()"
   ]
  },
  {
   "cell_type": "code",
   "execution_count": 75,
   "metadata": {
    "collapsed": false
   },
   "outputs": [],
   "source": [
    "r = pd.DataFrame(results)\n",
    "\n",
    "r['C'] = r[2].str.get(1)\n",
    "r.set_index(r[2].str.get(0), inplace=1)\n",
    "r.columns = ('train','val','gamma','C')\n",
    "\n",
    "# r.drop(2, 1, inplace=1)"
   ]
  },
  {
   "cell_type": "code",
   "execution_count": 66,
   "metadata": {
    "collapsed": false
   },
   "outputs": [
    {
     "data": {
      "image/png": "[encoded data removed]",
      "text/plain": [
       "<matplotlib.figure.Figure at 0x10da97b90>"
      ]
     },
     "metadata": {},
     "output_type": "display_data"
    }
   ],
   "source": [
    "fig, axes = plt.subplots(4,1, figsize=(12,12), sharey='all', sharex='all')\n",
    "for i, (name, g) in enumerate(r.groupby('C')):\n",
    "    if name < 20:\n",
    "        g[['train','val']].plot(ax=axes[i])"
   ]
  },
  {
   "cell_type": "code",
   "execution_count": 87,
   "metadata": {
    "collapsed": false
   },
   "outputs": [],
   "source": [
    "R = r.reset_index()"
   ]
  },
  {
   "cell_type": "code",
   "execution_count": 88,
   "metadata": {
    "collapsed": false
   },
   "outputs": [],
   "source": [
    "x = R['val'].argmax()"
   ]
  },
  {
   "cell_type": "code",
   "execution_count": 90,
   "metadata": {
    "collapsed": false
   },
   "outputs": [
    {
     "data": {
      "text/plain": [
       "2             4.1e-05\n",
       "train        0.845695\n",
       "val          0.822911\n",
       "gamma    (4.1e-05, 6)\n",
       "C                   6\n",
       "Name: 21, dtype: object"
      ]
     },
     "execution_count": 90,
     "metadata": {},
     "output_type": "execute_result"
    }
   ],
   "source": [
    "R.iloc[x,:]"
   ]
  },
  {
   "cell_type": "code",
   "execution_count": null,
   "metadata": {
    "collapsed": true
   },
   "outputs": [],
   "source": []
  },
  {
   "cell_type": "code",
   "execution_count": 59,
   "metadata": {
    "collapsed": false
   },
   "outputs": [
    {
     "name": "stdout",
     "output_type": "stream",
     "text": [
      "1\n",
      "101\n",
      "201\n",
      "301\n",
      "401\n",
      "501\n",
      "601\n",
      "701\n",
      "801\n",
      "901\n",
      "1001\n"
     ]
    }
   ],
   "source": [
    "results5 = {}\n",
    "for  e in xrange(1,1020, 100):\n",
    "    print e\n",
    "    gamma = 0.00001*e\n",
    "    results5[e] = evaluate(SVR(kernel='rbf', C=100, gamma=gamma),iterative=True, param = gamma)"
   ]
  },
  {
   "cell_type": "code",
   "execution_count": 60,
   "metadata": {
    "collapsed": false
   },
   "outputs": [
    {
     "data": {
      "text/plain": [
       "<matplotlib.axes._subplots.AxesSubplot at 0x121191450>"
      ]
     },
     "execution_count": 60,
     "metadata": {},
     "output_type": "execute_result"
    },
    {
     "data": {
      "image/png": "[encoded data removed]",
      "text/plain": [
       "<matplotlib.figure.Figure at 0x121381910>"
      ]
     },
     "metadata": {},
     "output_type": "display_data"
    }
   ],
   "source": [
    "r2 = pd.DataFrame(results5).T\n",
    "r2.columns = ('train','validation', 'param')\n",
    "r2[['train', 'validation']].plot()\n"
   ]
  },
  {
   "cell_type": "code",
   "execution_count": 61,
   "metadata": {
    "collapsed": false
   },
   "outputs": [
    {
     "data": {
      "text/plain": [
       "train         0.84165\n",
       "validation    0.81749\n",
       "param         0.01001\n",
       "dtype: float64"
      ]
     },
     "execution_count": 61,
     "metadata": {},
     "output_type": "execute_result"
    }
   ],
   "source": [
    "r2.max()"
   ]
  },
  {
   "cell_type": "markdown",
   "metadata": {},
   "source": [
    "## SVR poly"
   ]
  },
  {
   "cell_type": "code",
   "execution_count": 68,
   "metadata": {
    "collapsed": false
   },
   "outputs": [
    {
     "name": "stdout",
     "output_type": "stream",
     "text": [
      "train: 0.699011719274\n",
      "valid: 0.584728830126\n"
     ]
    }
   ],
   "source": [
    "evaluate(SVR(kernel='poly', C=100, degree=3, gamma=0.05))"
   ]
  },
  {
   "cell_type": "code",
   "execution_count": 70,
   "metadata": {
    "collapsed": false
   },
   "outputs": [
    {
     "name": "stdout",
     "output_type": "stream",
     "text": [
      "1 1\n",
      "1 6\n",
      "1 11\n",
      "1 16\n",
      "1 21\n",
      "1 26\n",
      "1 31\n",
      "1 36\n",
      "1 41\n",
      "1 46\n",
      "1 51\n",
      "1 56\n",
      "1 61\n",
      "1 66\n",
      "1 71\n",
      "1 76\n",
      "1 81\n",
      "1 86\n",
      "1 91\n",
      "1 96\n",
      "101 1\n",
      "101 6\n",
      "101 11\n",
      "101 16\n",
      "101 21\n",
      "101 26\n",
      "101 31\n",
      "101 36\n",
      "101 41\n",
      "101 46\n",
      "101 51\n",
      "101 56\n",
      "101 61\n",
      "101 66\n",
      "101 71\n",
      "101 76\n",
      "101 81\n",
      "101 86\n",
      "101 91\n",
      "101 96\n",
      "201 1\n",
      "201 6\n",
      "201 11\n",
      "201 16\n",
      "201 21\n",
      "201 26\n",
      "201 31\n",
      "201 36\n",
      "201 41\n",
      "201 46\n",
      "201 51\n",
      "201 56\n",
      "201 61\n",
      "201 66\n",
      "201 71\n",
      "201 76\n",
      "201 81\n",
      "201 86\n",
      "201 91\n",
      "201 96\n",
      "301 1\n",
      "301 6\n",
      "301 11\n",
      "301 16\n",
      "301 21\n",
      "301 26\n",
      "301 31\n",
      "301 36\n",
      "301 41\n",
      "301 46\n",
      "301 51\n",
      "301 56\n",
      "301 61\n",
      "301 66\n",
      "301 71\n",
      "301 76\n",
      "301 81\n",
      "301 86\n",
      "301 91\n",
      "301 96\n",
      "401 1\n",
      "401 6\n",
      "401 11\n",
      "401 16\n",
      "401 21\n",
      "401 26\n",
      "401 31\n",
      "401 36\n",
      "401 41\n",
      "401 46\n",
      "401 51\n",
      "401 56\n",
      "401 61\n",
      "401 66\n",
      "401 71\n",
      "401 76\n",
      "401 81\n",
      "401 86\n",
      "401 91\n",
      "401 96\n",
      "501 1\n",
      "501 6\n",
      "501 11\n",
      "501 16\n",
      "501 21\n",
      "501 26\n",
      "501 31\n",
      "501 36\n",
      "501 41\n",
      "501 46\n",
      "501 51\n",
      "501 56\n",
      "501 61\n",
      "501 66\n",
      "501 71\n",
      "501 76\n",
      "501 81\n",
      "501 86\n",
      "501 91\n",
      "501 96\n",
      "601 1\n",
      "601 6\n",
      "601 11\n",
      "601 16\n",
      "601 21\n",
      "601 26\n",
      "601 31\n",
      "601 36\n",
      "601 41\n",
      "601 46\n",
      "601 51\n",
      "601 56\n",
      "601 61\n",
      "601 66\n",
      "601 71\n",
      "601 76\n",
      "601 81\n",
      "601 86\n",
      "601 91\n",
      "601 96\n",
      "701 1\n",
      "701 6\n",
      "701 11\n",
      "701 16\n",
      "701 21\n",
      "701 26\n",
      "701 31\n",
      "701 36\n",
      "701 41\n",
      "701 46\n",
      "701 51\n",
      "701 56\n",
      "701 61\n",
      "701 66\n",
      "701 71\n",
      "701 76\n",
      "701 81\n",
      "701 86\n",
      "701 91\n",
      "701 96\n",
      "801 1\n",
      "801 6\n",
      "801 11\n",
      "801 16\n",
      "801 21\n",
      "801 26\n",
      "801 31\n",
      "801 36\n",
      "801 41\n",
      "801 46\n",
      "801 51\n",
      "801 56\n",
      "801 61\n",
      "801 66\n",
      "801 71\n",
      "801 76\n",
      "801 81\n",
      "801 86\n",
      "801 91\n",
      "801 96\n",
      "901 1\n",
      "901 6\n",
      "901 11\n",
      "901 16\n",
      "901 21\n",
      "901 26\n",
      "901 31\n",
      "901 36\n",
      "901 41\n",
      "901 46\n",
      "901 51\n",
      "901 56\n",
      "901 61\n",
      "901 66\n",
      "901 71\n",
      "901 76\n",
      "901 81\n",
      "901 86\n",
      "901 91\n",
      "901 96\n"
     ]
    }
   ],
   "source": [
    "resultsPoly = {}\n",
    "for  e in xrange(1,1001, 100):\n",
    "    for  c in xrange(1,101,5):\n",
    "        print e, c\n",
    "        gamma = 0.00001*e\n",
    "        resultsPoly[(e,c)] = evaluate(SVR(kernel='rbf', C=c, gamma=gamma),iterative=True, param = (gamma,c))"
   ]
  },
  {
   "cell_type": "code",
   "execution_count": 71,
   "metadata": {
    "collapsed": false
   },
   "outputs": [
    {
     "data": {
      "text/plain": [
       "<matplotlib.axes._subplots.AxesSubplot at 0x120ec4210>"
      ]
     },
     "execution_count": 71,
     "metadata": {},
     "output_type": "execute_result"
    },
    {
     "data": {
      "image/png": "[encoded data removed]",
      "text/plain": [
       "<matplotlib.figure.Figure at 0x12141e550>"
      ]
     },
     "metadata": {},
     "output_type": "display_data"
    }
   ],
   "source": [
    "resultsPoly = pd.DataFrame(results5).T\n",
    "resultsPoly.columns = ('train','validation', 'param')\n",
    "resultsPoly[['train', 'validation']].plot()\n"
   ]
  },
  {
   "cell_type": "code",
   "execution_count": 72,
   "metadata": {
    "collapsed": false
   },
   "outputs": [
    {
     "data": {
      "text/plain": [
       "train         0.84165\n",
       "validation    0.81749\n",
       "param         0.01001\n",
       "dtype: float64"
      ]
     },
     "execution_count": 72,
     "metadata": {},
     "output_type": "execute_result"
    }
   ],
   "source": [
    "resultsPoly.max()"
   ]
  },
  {
   "cell_type": "code",
   "execution_count": 17,
   "metadata": {
    "collapsed": false
   },
   "outputs": [
    {
     "name": "stdout",
     "output_type": "stream",
     "text": [
      "train: 0.832542738931\n",
      "valid: 0.808236460745\n"
     ]
    }
   ],
   "source": [
    "evaluate(SVR(kernel='linear', C=100, gamma=0.05))"
   ]
  },
  {
   "cell_type": "code",
   "execution_count": 21,
   "metadata": {
    "collapsed": false
   },
   "outputs": [],
   "source": [
    "resultsLin = {}\n",
    "for  e in xrange(1,1020, 20):\n",
    "#     print e\n",
    "    gamma = 0.00001*e\n",
    "    resultsLin[e] = evaluate(SVR(kernel='linear', C=1000, gamma=gamma),iterative=True, param = gamma)"
   ]
  },
  {
   "cell_type": "code",
   "execution_count": 22,
   "metadata": {
    "collapsed": false
   },
   "outputs": [
    {
     "data": {
      "text/plain": [
       "<matplotlib.axes._subplots.AxesSubplot at 0x101c2a7d0>"
      ]
     },
     "execution_count": 22,
     "metadata": {},
     "output_type": "execute_result"
    },
    {
     "data": {
      "image/png": "[encoded data removed]",
      "text/plain": [
       "<matplotlib.figure.Figure at 0x10a840a50>"
      ]
     },
     "metadata": {},
     "output_type": "display_data"
    }
   ],
   "source": [
    "resultsLin = pd.DataFrame(resultsLin).T\n",
    "resultsLin.columns = ('train','validation', 'param')\n",
    "resultsLin[['train', 'validation']].plot()\n"
   ]
  },
  {
   "cell_type": "code",
   "execution_count": 23,
   "metadata": {
    "collapsed": false
   },
   "outputs": [
    {
     "data": {
      "text/plain": [
       "train         0.832543\n",
       "validation    0.808236\n",
       "param         0.010010\n",
       "dtype: float64"
      ]
     },
     "execution_count": 23,
     "metadata": {},
     "output_type": "execute_result"
    }
   ],
   "source": [
    "resultsLin.max()"
   ]
  },
  {
   "cell_type": "markdown",
   "metadata": {
    "collapsed": true
   },
   "source": [
    "### TESTING RBF KERNNEL"
   ]
  },
  {
   "cell_type": "code",
   "execution_count": 91,
   "metadata": {
    "collapsed": true
   },
   "outputs": [],
   "source": [
    "# using RBF tweaked hyperparameters\n",
    "'''\n",
    "2             4.1e-05\n",
    "train        0.845695\n",
    "val          0.822911\n",
    "gamma    (4.1e-05, 6)\n",
    "C                   6\n",
    "'''\n",
    "svr = SVR(kernel='rbf', C=6, gamma=4.1e-05)\n"
   ]
  },
  {
   "cell_type": "code",
   "execution_count": 93,
   "metadata": {
    "collapsed": false
   },
   "outputs": [
    {
     "data": {
      "text/plain": [
       "0.83174525142081124"
      ]
     },
     "execution_count": 93,
     "metadata": {},
     "output_type": "execute_result"
    }
   ],
   "source": [
    "svr.fit(datas['Xtrain'], datas['ytrain'])\n",
    "svr.score(datas['Xtest'], datas['ytest'])"
   ]
  },
  {
   "cell_type": "markdown",
   "metadata": {},
   "source": [
    "Final prediction accuracy on train set is .831"
   ]
  },
  {
   "cell_type": "code",
   "execution_count": null,
   "metadata": {
    "collapsed": true
   },
   "outputs": [],
   "source": []
  }
 ],
 "metadata": {
  "kernelspec": {
   "display_name": "Python 2",
   "language": "python",
   "name": "python2"
  },
  "language_info": {
   "codemirror_mode": {
    "name": "ipython",
    "version": 2
   },
   "file_extension": ".py",
   "mimetype": "text/x-python",
   "name": "python",
   "nbconvert_exporter": "python",
   "pygments_lexer": "ipython2",
   "version": "2.7.11"
  }
 },
 "nbformat": 4,
 "nbformat_minor": 0
}
