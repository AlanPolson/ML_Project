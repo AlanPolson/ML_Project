{
 "cells": [
  {
   "cell_type": "code",
   "execution_count": 65,
   "metadata": {
    "collapsed": false
   },
   "outputs": [
    {
     "name": "stdout",
     "output_type": "stream",
     "text": [
      "Populating the interactive namespace from numpy and matplotlib\n"
     ]
    },
    {
     "name": "stderr",
     "output_type": "stream",
     "text": [
      "WARNING: pylab import has clobbered these variables: ['plt']\n",
      "`%matplotlib` prevents importing * from pylab and numpy\n"
     ]
    }
   ],
   "source": [
    "__author__ = \"Philipp Kats\"\n",
    "__date__ = \"2016_04_23\"\n",
    "\n",
    "%pylab inline\n",
    "import pandas as pd\n",
    "import numpy as np\n",
    "import geopandas as gp\n",
    "\n",
    "import pylab as plt\n",
    "import os\n",
    "\n",
    "from sklearn.svm import SVR\n",
    "from sklearn.preprocessing import Imputer\n",
    "\n",
    "from ipynotifyer import notifyOnComplete as nf"
   ]
  },
  {
   "cell_type": "markdown",
   "metadata": {},
   "source": [
    "## Read DATA"
   ]
  },
  {
   "cell_type": "code",
   "execution_count": 66,
   "metadata": {
    "collapsed": false
   },
   "outputs": [
    {
     "data": {
      "text/plain": [
       "(5777, 1966)"
      ]
     },
     "execution_count": 66,
     "metadata": {},
     "output_type": "execute_result"
    }
   ],
   "source": [
    "path = '../../../../Data/refined_data/puma50.csv'\n",
    "puma = pd.read_csv(path, low_memory=False, index_col='st', na_values='.')\n",
    "puma.shape"
   ]
  },
  {
   "cell_type": "code",
   "execution_count": 67,
   "metadata": {
    "collapsed": false
   },
   "outputs": [
    {
     "data": {
      "text/plain": [
       "(5777, 2)"
      ]
     },
     "execution_count": 67,
     "metadata": {},
     "output_type": "execute_result"
    }
   ],
   "source": [
    "yPath = '../../../../Data/refined_data/predict.csv'\n",
    "ys = pd.read_csv(yPath, low_memory=False, index_col='st', na_values='.')[['internetP', 'label']]\n",
    "ys.shape"
   ]
  },
  {
   "cell_type": "code",
   "execution_count": 68,
   "metadata": {
    "collapsed": false
   },
   "outputs": [
    {
     "data": {
      "text/plain": [
       "float64    1516\n",
       "int64       449\n",
       "object        1\n",
       "dtype: int64"
      ]
     },
     "execution_count": 68,
     "metadata": {},
     "output_type": "execute_result"
    }
   ],
   "source": [
    "puma.dtypes.value_counts()"
   ]
  },
  {
   "cell_type": "markdown",
   "metadata": {},
   "source": [
    "## Impute data"
   ]
  },
  {
   "cell_type": "code",
   "execution_count": 69,
   "metadata": {
    "collapsed": true
   },
   "outputs": [],
   "source": [
    "def NormDF(df, axis=0, dl='label'):\n",
    "    '''normalizes dataframe by chosen axis (column by default)'''\n",
    "    L = df[dl]\n",
    "    df = df.drop(dl,1)\n",
    "    dfn = (df - df.mean(axis))/df.std(axis)\n",
    "    dfn[dl] = L\n",
    "    return dfn"
   ]
  },
  {
   "cell_type": "code",
   "execution_count": 70,
   "metadata": {
    "collapsed": true
   },
   "outputs": [],
   "source": [
    "def imputeDF(df):\n",
    "    cols = df.columns\n",
    "    L = df['label']\n",
    "    \n",
    "    imp = Imputer(missing_values='NaN', strategy='mean', axis=0)\n",
    "    puma_imp = pd.DataFrame(imp.fit_transform(df.drop('label',1)))\n",
    "    \n",
    "    puma_imp.index = df.index\n",
    "    puma_imp.columns = cols[:puma_imp.shape[1]]\n",
    "    puma_imp['label'] = L\n",
    "    print puma_imp.shape\n",
    "    \n",
    "    \n",
    "    return puma_imp\n",
    "\n",
    "    "
   ]
  },
  {
   "cell_type": "code",
   "execution_count": 71,
   "metadata": {
    "collapsed": false
   },
   "outputs": [],
   "source": [
    "# pumaN = NormDF(puma)\n",
    "# print pumaN.shape"
   ]
  },
  {
   "cell_type": "code",
   "execution_count": 72,
   "metadata": {
    "collapsed": false
   },
   "outputs": [
    {
     "name": "stdout",
     "output_type": "stream",
     "text": [
      "(5777, 1966)\n"
     ]
    }
   ],
   "source": [
    "puma_imp = imputeDF(puma)"
   ]
  },
  {
   "cell_type": "code",
   "execution_count": 43,
   "metadata": {
    "collapsed": false
   },
   "outputs": [
    {
     "data": {
      "text/html": [
       "<div>\n",
       "<table border=\"1\" class=\"dataframe\">\n",
       "  <thead>\n",
       "    <tr style=\"text-align: right;\">\n",
       "      <th></th>\n",
       "      <th>our2</th>\n",
       "      <th>our3</th>\n",
       "      <th>our4</th>\n",
       "      <th>our5</th>\n",
       "      <th>our6</th>\n",
       "      <th>our7</th>\n",
       "      <th>our8</th>\n",
       "      <th>our9</th>\n",
       "      <th>our10</th>\n",
       "      <th>our11</th>\n",
       "      <th>...</th>\n",
       "      <th>our41986</th>\n",
       "      <th>our42002</th>\n",
       "      <th>our42018</th>\n",
       "      <th>our42034</th>\n",
       "      <th>our42059</th>\n",
       "      <th>our42075</th>\n",
       "      <th>our42152</th>\n",
       "      <th>our42153</th>\n",
       "      <th>our42154</th>\n",
       "      <th>label</th>\n",
       "    </tr>\n",
       "    <tr>\n",
       "      <th>st</th>\n",
       "      <th></th>\n",
       "      <th></th>\n",
       "      <th></th>\n",
       "      <th></th>\n",
       "      <th></th>\n",
       "      <th></th>\n",
       "      <th></th>\n",
       "      <th></th>\n",
       "      <th></th>\n",
       "      <th></th>\n",
       "      <th></th>\n",
       "      <th></th>\n",
       "      <th></th>\n",
       "      <th></th>\n",
       "      <th></th>\n",
       "      <th></th>\n",
       "      <th></th>\n",
       "      <th></th>\n",
       "      <th></th>\n",
       "      <th></th>\n",
       "      <th></th>\n",
       "    </tr>\n",
       "  </thead>\n",
       "  <tbody>\n",
       "    <tr>\n",
       "      <th>il_129</th>\n",
       "      <td>1.212748</td>\n",
       "      <td>1.233696</td>\n",
       "      <td>1.170192</td>\n",
       "      <td>1.243225</td>\n",
       "      <td>1.355621</td>\n",
       "      <td>1.222473</td>\n",
       "      <td>0.995936</td>\n",
       "      <td>1.035781</td>\n",
       "      <td>0.967715</td>\n",
       "      <td>1.164708</td>\n",
       "      <td>...</td>\n",
       "      <td>1.541282e+00</td>\n",
       "      <td>-4.183885e-01</td>\n",
       "      <td>1.542940e+00</td>\n",
       "      <td>2.325752e+00</td>\n",
       "      <td>2.862760e-01</td>\n",
       "      <td>2.860892e+00</td>\n",
       "      <td>1.083466e+00</td>\n",
       "      <td>1.574321e+00</td>\n",
       "      <td>3.022625e-01</td>\n",
       "      <td>train</td>\n",
       "    </tr>\n",
       "    <tr>\n",
       "      <th>wi_57</th>\n",
       "      <td>0.923742</td>\n",
       "      <td>0.899020</td>\n",
       "      <td>1.164898</td>\n",
       "      <td>1.200220</td>\n",
       "      <td>1.051604</td>\n",
       "      <td>1.041713</td>\n",
       "      <td>1.346181</td>\n",
       "      <td>1.812326</td>\n",
       "      <td>1.137407</td>\n",
       "      <td>0.943402</td>\n",
       "      <td>...</td>\n",
       "      <td>3.240344e-01</td>\n",
       "      <td>6.912739e-02</td>\n",
       "      <td>3.879691e-01</td>\n",
       "      <td>8.743878e-02</td>\n",
       "      <td>4.540903e-01</td>\n",
       "      <td>-2.383729e-01</td>\n",
       "      <td>7.264407e-01</td>\n",
       "      <td>1.067058e-01</td>\n",
       "      <td>-5.888708e-02</td>\n",
       "      <td>train</td>\n",
       "    </tr>\n",
       "    <tr>\n",
       "      <th>tx_412</th>\n",
       "      <td>-0.374275</td>\n",
       "      <td>-0.382255</td>\n",
       "      <td>-0.354002</td>\n",
       "      <td>-0.280761</td>\n",
       "      <td>-0.401216</td>\n",
       "      <td>-0.327129</td>\n",
       "      <td>-0.521107</td>\n",
       "      <td>-0.321200</td>\n",
       "      <td>-0.467192</td>\n",
       "      <td>-0.293923</td>\n",
       "      <td>...</td>\n",
       "      <td>1.729015e-17</td>\n",
       "      <td>5.269378e-17</td>\n",
       "      <td>-4.940042e-18</td>\n",
       "      <td>3.046359e-17</td>\n",
       "      <td>6.586723e-18</td>\n",
       "      <td>-6.586723e-18</td>\n",
       "      <td>-9.880084e-18</td>\n",
       "      <td>-2.964025e-17</td>\n",
       "      <td>3.293361e-18</td>\n",
       "      <td>train</td>\n",
       "    </tr>\n",
       "    <tr>\n",
       "      <th>wa_14</th>\n",
       "      <td>-0.437582</td>\n",
       "      <td>-0.443403</td>\n",
       "      <td>-0.421037</td>\n",
       "      <td>-0.484573</td>\n",
       "      <td>-0.414124</td>\n",
       "      <td>-0.515680</td>\n",
       "      <td>-0.453853</td>\n",
       "      <td>-0.386680</td>\n",
       "      <td>-0.472838</td>\n",
       "      <td>-0.547727</td>\n",
       "      <td>...</td>\n",
       "      <td>1.729015e-17</td>\n",
       "      <td>5.269378e-17</td>\n",
       "      <td>-4.940042e-18</td>\n",
       "      <td>3.046359e-17</td>\n",
       "      <td>6.586723e-18</td>\n",
       "      <td>-6.586723e-18</td>\n",
       "      <td>-9.880084e-18</td>\n",
       "      <td>-2.964025e-17</td>\n",
       "      <td>3.293361e-18</td>\n",
       "      <td>train</td>\n",
       "    </tr>\n",
       "    <tr>\n",
       "      <th>tx_220</th>\n",
       "      <td>-0.307318</td>\n",
       "      <td>-0.306544</td>\n",
       "      <td>-0.374323</td>\n",
       "      <td>-0.272693</td>\n",
       "      <td>-0.242633</td>\n",
       "      <td>-0.149538</td>\n",
       "      <td>-0.239607</td>\n",
       "      <td>-0.096463</td>\n",
       "      <td>-0.460219</td>\n",
       "      <td>-0.371163</td>\n",
       "      <td>...</td>\n",
       "      <td>1.729015e-17</td>\n",
       "      <td>5.269378e-17</td>\n",
       "      <td>-4.940042e-18</td>\n",
       "      <td>3.046359e-17</td>\n",
       "      <td>6.586723e-18</td>\n",
       "      <td>-6.586723e-18</td>\n",
       "      <td>-9.880084e-18</td>\n",
       "      <td>-2.964025e-17</td>\n",
       "      <td>3.293361e-18</td>\n",
       "      <td>train</td>\n",
       "    </tr>\n",
       "  </tbody>\n",
       "</table>\n",
       "<p>5 rows × 1960 columns</p>\n",
       "</div>"
      ],
      "text/plain": [
       "            our2      our3      our4      our5      our6      our7      our8  \\\n",
       "st                                                                             \n",
       "il_129  1.212748  1.233696  1.170192  1.243225  1.355621  1.222473  0.995936   \n",
       "wi_57   0.923742  0.899020  1.164898  1.200220  1.051604  1.041713  1.346181   \n",
       "tx_412 -0.374275 -0.382255 -0.354002 -0.280761 -0.401216 -0.327129 -0.521107   \n",
       "wa_14  -0.437582 -0.443403 -0.421037 -0.484573 -0.414124 -0.515680 -0.453853   \n",
       "tx_220 -0.307318 -0.306544 -0.374323 -0.272693 -0.242633 -0.149538 -0.239607   \n",
       "\n",
       "            our9     our10     our11  ...        our41986      our42002  \\\n",
       "st                                    ...                                 \n",
       "il_129  1.035781  0.967715  1.164708  ...    1.541282e+00 -4.183885e-01   \n",
       "wi_57   1.812326  1.137407  0.943402  ...    3.240344e-01  6.912739e-02   \n",
       "tx_412 -0.321200 -0.467192 -0.293923  ...    1.729015e-17  5.269378e-17   \n",
       "wa_14  -0.386680 -0.472838 -0.547727  ...    1.729015e-17  5.269378e-17   \n",
       "tx_220 -0.096463 -0.460219 -0.371163  ...    1.729015e-17  5.269378e-17   \n",
       "\n",
       "            our42018      our42034      our42059      our42075      our42152  \\\n",
       "st                                                                             \n",
       "il_129  1.542940e+00  2.325752e+00  2.862760e-01  2.860892e+00  1.083466e+00   \n",
       "wi_57   3.879691e-01  8.743878e-02  4.540903e-01 -2.383729e-01  7.264407e-01   \n",
       "tx_412 -4.940042e-18  3.046359e-17  6.586723e-18 -6.586723e-18 -9.880084e-18   \n",
       "wa_14  -4.940042e-18  3.046359e-17  6.586723e-18 -6.586723e-18 -9.880084e-18   \n",
       "tx_220 -4.940042e-18  3.046359e-17  6.586723e-18 -6.586723e-18 -9.880084e-18   \n",
       "\n",
       "            our42153      our42154  label  \n",
       "st                                         \n",
       "il_129  1.574321e+00  3.022625e-01  train  \n",
       "wi_57   1.067058e-01 -5.888708e-02  train  \n",
       "tx_412 -2.964025e-17  3.293361e-18  train  \n",
       "wa_14  -2.964025e-17  3.293361e-18  train  \n",
       "tx_220 -2.964025e-17  3.293361e-18  train  \n",
       "\n",
       "[5 rows x 1960 columns]"
      ]
     },
     "execution_count": 43,
     "metadata": {},
     "output_type": "execute_result"
    }
   ],
   "source": [
    "puma_imp.head()"
   ]
  },
  {
   "cell_type": "markdown",
   "metadata": {},
   "source": [
    "## Preprocessing"
   ]
  },
  {
   "cell_type": "code",
   "execution_count": 75,
   "metadata": {
    "collapsed": false
   },
   "outputs": [],
   "source": [
    "ip = ys['internetP']/100"
   ]
  },
  {
   "cell_type": "code",
   "execution_count": 76,
   "metadata": {
    "collapsed": false
   },
   "outputs": [
    {
     "data": {
      "text/plain": [
       "st\n",
       "il_129    0.675431\n",
       "wi_57     0.621680\n",
       "tx_412    0.695315\n",
       "wa_14     0.617784\n",
       "tx_220    0.804482\n",
       "az_55     0.946457\n",
       "nc_193    0.717003\n",
       "tx_11     0.589776\n",
       "pr_75     0.444703\n",
       "mo_84     0.682694\n",
       "ma_27     0.677482\n",
       "in_83     0.723709\n",
       "md_61     0.683660\n",
       "il_69     0.899556\n",
       "tx_182    0.782962\n",
       "ia_41     0.695950\n",
       "ok_41     0.647244\n",
       "ca_46     0.830173\n",
       "oh_184    0.779876\n",
       "nj_93     0.823367\n",
       "va_142    0.912370\n",
       "wa_140    0.917566\n",
       "me_30     0.795613\n",
       "pa_44     0.837817\n",
       "sc_12     0.548076\n",
       "tn_36     0.611007\n",
       "nc_65     0.768713\n",
       "ca_86     0.746463\n",
       "ca_517    0.870770\n",
       "az_135    0.904938\n",
       "            ...   \n",
       "md_70     0.617973\n",
       "ca_392    0.556120\n",
       "tx_348    0.887758\n",
       "la_101    0.707746\n",
       "wv_14     0.665684\n",
       "md_44     0.776905\n",
       "ky_68     0.618865\n",
       "ca_215    0.861307\n",
       "tn_34     0.779812\n",
       "ks_51     0.835672\n",
       "ca_92     0.832227\n",
       "fl_179    0.709896\n",
       "mi_197    0.815815\n",
       "ca_68     0.789294\n",
       "mo_105    0.561197\n",
       "in_51     0.681631\n",
       "mo_20     0.736594\n",
       "ca_14     0.766000\n",
       "nj_120    0.630899\n",
       "mn_20     0.777514\n",
       "pa_112    0.788926\n",
       "tn_88     0.827670\n",
       "mi_137    0.657798\n",
       "ca_10     0.739432\n",
       "ar_43     0.571940\n",
       "ma_50     0.747081\n",
       "tx_339    0.693812\n",
       "pa_156    0.539140\n",
       "tx_60     0.823365\n",
       "ct_27     0.719471\n",
       "Name: internetP, dtype: float64"
      ]
     },
     "execution_count": 76,
     "metadata": {},
     "output_type": "execute_result"
    }
   ],
   "source": [
    "ip"
   ]
  },
  {
   "cell_type": "markdown",
   "metadata": {},
   "source": [
    "## Data split"
   ]
  },
  {
   "cell_type": "code",
   "execution_count": 77,
   "metadata": {
    "collapsed": false
   },
   "outputs": [],
   "source": [
    "Xtest, Xtrain, Xval   = (x[1].drop('label',1) for x in puma_imp.groupby('label'))"
   ]
  },
  {
   "cell_type": "code",
   "execution_count": 78,
   "metadata": {
    "collapsed": false
   },
   "outputs": [],
   "source": [
    "ytest, ytrain, yval = (x[1]['internetP'] for x in ys.groupby(L))"
   ]
  },
  {
   "cell_type": "code",
   "execution_count": 79,
   "metadata": {
    "collapsed": true
   },
   "outputs": [],
   "source": [
    "datas = {'Xtest':Xtest, \n",
    "         'Xtrain':Xtrain, \n",
    "         'Xval':Xval,\n",
    "         'ytest':ytest,\n",
    "         'ytrain':ytrain,\n",
    "         'yval':yval}"
   ]
  },
  {
   "cell_type": "markdown",
   "metadata": {},
   "source": [
    "## Set Model"
   ]
  },
  {
   "cell_type": "code",
   "execution_count": 80,
   "metadata": {
    "collapsed": true
   },
   "outputs": [],
   "source": [
    "# svr = SVR(kernel='rbf', \n",
    "#       degree=3, \n",
    "#       gamma='auto', \n",
    "#       coef0=0.0, \n",
    "#       tol=0.001, \n",
    "#       C=1.0, \n",
    "#       epsilon=0.1, \n",
    "#       shrinking=True, \n",
    "#       cache_size=200, \n",
    "#       verbose=False, \n",
    "#       max_iter=-1)"
   ]
  },
  {
   "cell_type": "code",
   "execution_count": 81,
   "metadata": {
    "collapsed": true
   },
   "outputs": [],
   "source": [
    "@nf\n",
    "def evaluate(model, datas=datas ):\n",
    "    try:\n",
    "        x = model.fit(datas['Xtrain'], datas['ytrain'])\n",
    "        print 'train:', x.score(datas['Xtrain'], datas['ytrain'])\n",
    "        print 'valid:', x.score(datas['Xval'], datas['yval'])\n",
    "    except Exception, e:\n",
    "        print str(e)\n"
   ]
  },
  {
   "cell_type": "code",
   "execution_count": 83,
   "metadata": {
    "collapsed": false
   },
   "outputs": [
    {
     "name": "stdout",
     "output_type": "stream",
     "text": [
      "train: 0.322843060736\n",
      "valid: 0.0656133863563\n"
     ]
    }
   ],
   "source": [
    "evaluate(SVR(kernel='rbf', C=2, gamma=0.1))"
   ]
  },
  {
   "cell_type": "code",
   "execution_count": null,
   "metadata": {
    "collapsed": false
   },
   "outputs": [],
   "source": [
    "evaluate(SVR(kernel='linear', C=1))"
   ]
  },
  {
   "cell_type": "code",
   "execution_count": 61,
   "metadata": {
    "collapsed": false
   },
   "outputs": [
    {
     "name": "stdout",
     "output_type": "stream",
     "text": [
      "train: -1.03219627863\n",
      "valid: -0.870161633213\n"
     ]
    }
   ],
   "source": [
    "evaluate(SVR(kernel='poly', C=1, degree=2))"
   ]
  },
  {
   "cell_type": "code",
   "execution_count": null,
   "metadata": {
    "collapsed": true
   },
   "outputs": [],
   "source": []
  }
 ],
 "metadata": {
  "kernelspec": {
   "display_name": "Python 2",
   "language": "python",
   "name": "python2"
  },
  "language_info": {
   "codemirror_mode": {
    "name": "ipython",
    "version": 2
   },
   "file_extension": ".py",
   "mimetype": "text/x-python",
   "name": "python",
   "nbconvert_exporter": "python",
   "pygments_lexer": "ipython2",
   "version": "2.7.11"
  }
 },
 "nbformat": 4,
 "nbformat_minor": 0
}
