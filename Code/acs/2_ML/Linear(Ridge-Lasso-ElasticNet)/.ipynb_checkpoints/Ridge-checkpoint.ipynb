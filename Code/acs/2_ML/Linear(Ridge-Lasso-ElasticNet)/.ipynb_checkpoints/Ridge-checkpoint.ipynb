{
 "cells": [
  {
   "cell_type": "code",
   "execution_count": 1,
   "metadata": {
    "collapsed": false
   },
   "outputs": [
    {
     "name": "stdout",
     "output_type": "stream",
     "text": [
      "Populating the interactive namespace from numpy and matplotlib\n"
     ]
    },
    {
     "name": "stderr",
     "output_type": "stream",
     "text": [
      "C:\\Users\\Alan\\Anaconda\\lib\\site-packages\\pandas\\computation\\__init__.py:19: UserWarning: The installed version of numexpr 2.4.4 is not supported in pandas and will be not be used\n",
      "\n",
      "  UserWarning)\n"
     ]
    }
   ],
   "source": [
    "__author__ = \"amp\"\n",
    "__date__ = \"2016_04_25\"\n",
    "\n",
    "%pylab inline\n",
    "import pandas as pd\n",
    "import os\n",
    "\n",
    "from sklearn import linear_model\n",
    "from sklearn.preprocessing import Imputer\n",
    "\n",
    "#from ipynotifyer import notifyOnComplete as nf"
   ]
  },
  {
   "cell_type": "code",
   "execution_count": 2,
   "metadata": {
    "collapsed": false
   },
   "outputs": [
    {
     "data": {
      "text/plain": [
       "(5777, 1966)"
      ]
     },
     "execution_count": 2,
     "metadata": {},
     "output_type": "execute_result"
    }
   ],
   "source": [
    "path = '../../../../Data/refined_data/puma50.csv'\n",
    "puma = pd.read_csv(path, low_memory=False, index_col='st', na_values='.')\n",
    "puma.shape"
   ]
  },
  {
   "cell_type": "code",
   "execution_count": 3,
   "metadata": {
    "collapsed": false
   },
   "outputs": [
    {
     "data": {
      "text/plain": [
       "(5777, 2)"
      ]
     },
     "execution_count": 3,
     "metadata": {},
     "output_type": "execute_result"
    }
   ],
   "source": [
    "yPath = '../../../../Data/refined_data/predict.csv'\n",
    "ys = pd.read_csv(yPath, low_memory=False, index_col='st', na_values='.')[['internetP', 'label']]\n",
    "ys.shape"
   ]
  },
  {
   "cell_type": "code",
   "execution_count": 4,
   "metadata": {
    "collapsed": true
   },
   "outputs": [],
   "source": [
    "def imputeDF(df):\n",
    "    cols = df.columns\n",
    "    L = df['label']\n",
    "    \n",
    "    imp = Imputer(missing_values='NaN', strategy='mean', axis=0)\n",
    "    puma_imp = pd.DataFrame(imp.fit_transform(df.drop('label',1)))\n",
    "    \n",
    "    puma_imp.index = df.index\n",
    "    puma_imp.columns = cols[:puma_imp.shape[1]]\n",
    "    puma_imp['label'] = L\n",
    "    print puma_imp.shape\n",
    "    \n",
    "    \n",
    "    return puma_imp\n",
    "\n",
    "    "
   ]
  },
  {
   "cell_type": "code",
   "execution_count": null,
   "metadata": {
    "collapsed": true
   },
   "outputs": [],
   "source": []
  }
 ],
 "metadata": {
  "kernelspec": {
   "display_name": "Python 2",
   "language": "python",
   "name": "python2"
  },
  "language_info": {
   "codemirror_mode": {
    "name": "ipython",
    "version": 2
   },
   "file_extension": ".py",
   "mimetype": "text/x-python",
   "name": "python",
   "nbconvert_exporter": "python",
   "pygments_lexer": "ipython2",
   "version": "2.7.11"
  }
 },
 "nbformat": 4,
 "nbformat_minor": 0
}
