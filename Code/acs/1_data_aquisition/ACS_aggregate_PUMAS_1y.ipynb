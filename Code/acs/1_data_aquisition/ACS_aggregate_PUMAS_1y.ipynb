{
 "cells": [
  {
   "cell_type": "code",
   "execution_count": 1,
   "metadata": {
    "collapsed": true
   },
   "outputs": [],
   "source": [
    "import os\n",
    "import pandas as pd\n",
    "from ipynotifyer import notifyOnComplete as nf\n",
    "import zipfile #i am not giving it a name cause i intend to use it only once"
   ]
  },
  {
   "cell_type": "code",
   "execution_count": 2,
   "metadata": {
    "collapsed": true
   },
   "outputs": [],
   "source": [
    "path = '../../Data/ACS/1y2013_All_geography'"
   ]
  },
  {
   "cell_type": "code",
   "execution_count": 3,
   "metadata": {
    "collapsed": true
   },
   "outputs": [],
   "source": [
    "def getFiles(folder, format, full=True, filtr=None):\n",
    "    for f in os.listdir(folder):\n",
    "        if f.endswith(format) and f.startswith('e'):\n",
    "            if filtr==None or filtr not in f:\n",
    "                if full:\n",
    "                    yield os.path.join(folder, f)\n",
    "                else:\n",
    "                    yield f\n"
   ]
  },
  {
   "cell_type": "code",
   "execution_count": 4,
   "metadata": {
    "collapsed": false
   },
   "outputs": [
    {
     "data": {
      "text/plain": [
       "['../../Data/ACS/1y2013_All_geography/e20131ak0001000.txt',\n",
       " '../../Data/ACS/1y2013_All_geography/e20131ak0002000.txt',\n",
       " '../../Data/ACS/1y2013_All_geography/e20131ak0003000.txt',\n",
       " '../../Data/ACS/1y2013_All_geography/e20131ak0004000.txt',\n",
       " '../../Data/ACS/1y2013_All_geography/e20131ak0005000.txt',\n",
       " '../../Data/ACS/1y2013_All_geography/e20131ak0006000.txt',\n",
       " '../../Data/ACS/1y2013_All_geography/e20131ak0007000.txt',\n",
       " '../../Data/ACS/1y2013_All_geography/e20131ak0008000.txt',\n",
       " '../../Data/ACS/1y2013_All_geography/e20131ak0009000.txt',\n",
       " '../../Data/ACS/1y2013_All_geography/e20131ak0010000.txt']"
      ]
     },
     "execution_count": 4,
     "metadata": {},
     "output_type": "execute_result"
    }
   ],
   "source": [
    "txts = list(getFiles(path, '.txt'))\n",
    "txts[:10]"
   ]
  },
  {
   "cell_type": "code",
   "execution_count": 5,
   "metadata": {
    "collapsed": true
   },
   "outputs": [],
   "source": [
    "cols = [\n",
    "'FILEID',\n",
    "'FILETYPE',\n",
    "'STUSAB',\n",
    "'CHARITER',\n",
    "'SEQUENCE',\n",
    "'LOGRECNO',\n",
    "]"
   ]
  },
  {
   "cell_type": "code",
   "execution_count": 19,
   "metadata": {
    "collapsed": false
   },
   "outputs": [
    {
     "data": {
      "text/plain": [
       "2378"
      ]
     },
     "execution_count": 19,
     "metadata": {},
     "output_type": "execute_result"
    }
   ],
   "source": [
    "pumas = pd.read_csv('../../Data/geo_id/pumas.csv', index_col=0, dtype='str')[[4, 49]]\n",
    "pum = pumas['4'].tolist()\n",
    "len(pum)"
   ]
  },
  {
   "cell_type": "code",
   "execution_count": 10,
   "metadata": {
    "collapsed": false
   },
   "outputs": [],
   "source": [
    "def getTable(fname, gf=None):\n",
    "    df = pd.read_csv(fname, \n",
    "                             dtype={5:str, 4:str},\n",
    "                             header=None, low_memory=False,\n",
    "                             error_bad_lines=True)\n",
    "    seq = df.iloc[1,4]\n",
    "    st = fname[-13:-11]\n",
    "\n",
    "    df.columns = cols + ['%s_%d' % (seq , i+1) for i in xrange(df.shape[1] - 6)]\n",
    "    df['st'] = st\n",
    "    \n",
    "    if gf:\n",
    "        return df[df['LOGRECNO'].isin(gf)].iloc[:,5:].set_index('LOGRECNO')\n",
    "    else:\n",
    "        return df.iloc[:,5:].set_index('LOGRECNO')\n"
   ]
  },
  {
   "cell_type": "code",
   "execution_count": 11,
   "metadata": {
    "collapsed": false
   },
   "outputs": [],
   "source": [
    "t1 = getTable(txts[10], gf=pum)"
   ]
  },
  {
   "cell_type": "code",
   "execution_count": 12,
   "metadata": {
    "collapsed": false
   },
   "outputs": [
    {
     "data": {
      "text/plain": [
       "(17, 140)"
      ]
     },
     "execution_count": 12,
     "metadata": {},
     "output_type": "execute_result"
    }
   ],
   "source": [
    "t1.shape"
   ]
  },
  {
   "cell_type": "code",
   "execution_count": 13,
   "metadata": {
    "collapsed": false
   },
   "outputs": [],
   "source": [
    "@nf\n",
    "def aggTables(folder, gf=None):    \n",
    "    \n",
    "    byState ={}\n",
    "    for t in getFiles(folder, '.txt'):\n",
    "        st = t[-13:-11]\n",
    "        \n",
    "        x = byState.get(st,[])\n",
    "        x.append(getTable(t, gf=gf))\n",
    "        byState[st] = x\n",
    "        \n",
    "    # concat horisontally inside the state\n",
    "    for k, v in byState.iteritems() :\n",
    "        byState[k] = pd.concat(v,1)\n",
    "        \n",
    "    # concat vertically all the states\n",
    "    return pd.concat(byState.values())"
   ]
  },
  {
   "cell_type": "code",
   "execution_count": 14,
   "metadata": {
    "collapsed": false
   },
   "outputs": [],
   "source": [
    "# get all data for all PUMAs\n",
    "# mdf = aggTables(path, gf=pum)\n",
    "\n",
    "mdf2 = aggTables(path, gf=pum)"
   ]
  },
  {
   "cell_type": "code",
   "execution_count": 15,
   "metadata": {
    "collapsed": false
   },
   "outputs": [
    {
     "data": {
      "text/plain": [
       "(6340, 32922)"
      ]
     },
     "execution_count": 15,
     "metadata": {},
     "output_type": "execute_result"
    }
   ],
   "source": [
    "mdf2.shape"
   ]
  },
  {
   "cell_type": "code",
   "execution_count": 16,
   "metadata": {
    "collapsed": false
   },
   "outputs": [
    {
     "data": {
      "text/html": [
       "<div>\n",
       "<table border=\"1\" class=\"dataframe\">\n",
       "  <thead>\n",
       "    <tr style=\"text-align: right;\">\n",
       "      <th></th>\n",
       "      <th>0001_1</th>\n",
       "      <th>0001_2</th>\n",
       "      <th>st</th>\n",
       "      <th>0002_1</th>\n",
       "      <th>0002_2</th>\n",
       "      <th>0002_3</th>\n",
       "      <th>0002_4</th>\n",
       "      <th>0002_5</th>\n",
       "      <th>0002_6</th>\n",
       "      <th>0002_7</th>\n",
       "      <th>...</th>\n",
       "      <th>0170_66</th>\n",
       "      <th>0170_67</th>\n",
       "      <th>0170_68</th>\n",
       "      <th>0170_69</th>\n",
       "      <th>0170_70</th>\n",
       "      <th>0170_71</th>\n",
       "      <th>0170_72</th>\n",
       "      <th>0170_73</th>\n",
       "      <th>0170_74</th>\n",
       "      <th>st</th>\n",
       "    </tr>\n",
       "    <tr>\n",
       "      <th>LOGRECNO</th>\n",
       "      <th></th>\n",
       "      <th></th>\n",
       "      <th></th>\n",
       "      <th></th>\n",
       "      <th></th>\n",
       "      <th></th>\n",
       "      <th></th>\n",
       "      <th></th>\n",
       "      <th></th>\n",
       "      <th></th>\n",
       "      <th></th>\n",
       "      <th></th>\n",
       "      <th></th>\n",
       "      <th></th>\n",
       "      <th></th>\n",
       "      <th></th>\n",
       "      <th></th>\n",
       "      <th></th>\n",
       "      <th></th>\n",
       "      <th></th>\n",
       "      <th></th>\n",
       "    </tr>\n",
       "  </thead>\n",
       "  <tbody>\n",
       "    <tr>\n",
       "      <th>0000010</th>\n",
       "      <td>3776</td>\n",
       "      <td>1706</td>\n",
       "      <td>va</td>\n",
       "      <td>213621</td>\n",
       "      <td>105709</td>\n",
       "      <td>5099</td>\n",
       "      <td>5915</td>\n",
       "      <td>6072</td>\n",
       "      <td>3937</td>\n",
       "      <td>3300</td>\n",
       "      <td>...</td>\n",
       "      <td>86541</td>\n",
       "      <td>4793</td>\n",
       "      <td>85609</td>\n",
       "      <td>90402</td>\n",
       "      <td>3187</td>\n",
       "      <td>3187</td>\n",
       "      <td>3187</td>\n",
       "      <td>15003</td>\n",
       "      <td>75156</td>\n",
       "      <td>va</td>\n",
       "    </tr>\n",
       "    <tr>\n",
       "      <th>0000011</th>\n",
       "      <td>13614</td>\n",
       "      <td>6347</td>\n",
       "      <td>va</td>\n",
       "      <td>780918</td>\n",
       "      <td>389902</td>\n",
       "      <td>19998</td>\n",
       "      <td>20818</td>\n",
       "      <td>21492</td>\n",
       "      <td>13636</td>\n",
       "      <td>11849</td>\n",
       "      <td>...</td>\n",
       "      <td>299627</td>\n",
       "      <td>12020</td>\n",
       "      <td>297642</td>\n",
       "      <td>309662</td>\n",
       "      <td>9637</td>\n",
       "      <td>9713</td>\n",
       "      <td>9713</td>\n",
       "      <td>47529</td>\n",
       "      <td>260611</td>\n",
       "      <td>va</td>\n",
       "    </tr>\n",
       "    <tr>\n",
       "      <th>0000012</th>\n",
       "      <td>18432</td>\n",
       "      <td>8544</td>\n",
       "      <td>va</td>\n",
       "      <td>1057565</td>\n",
       "      <td>525408</td>\n",
       "      <td>27471</td>\n",
       "      <td>29015</td>\n",
       "      <td>30288</td>\n",
       "      <td>18158</td>\n",
       "      <td>16456</td>\n",
       "      <td>...</td>\n",
       "      <td>410632</td>\n",
       "      <td>18171</td>\n",
       "      <td>407639</td>\n",
       "      <td>425810</td>\n",
       "      <td>13766</td>\n",
       "      <td>13842</td>\n",
       "      <td>13842</td>\n",
       "      <td>66687</td>\n",
       "      <td>357358</td>\n",
       "      <td>va</td>\n",
       "    </tr>\n",
       "    <tr>\n",
       "      <th>0000013</th>\n",
       "      <td>1769</td>\n",
       "      <td>618</td>\n",
       "      <td>va</td>\n",
       "      <td>103000</td>\n",
       "      <td>49272</td>\n",
       "      <td>2843</td>\n",
       "      <td>3213</td>\n",
       "      <td>3173</td>\n",
       "      <td>1886</td>\n",
       "      <td>3179</td>\n",
       "      <td>...</td>\n",
       "      <td>37917</td>\n",
       "      <td>1348</td>\n",
       "      <td>37674</td>\n",
       "      <td>39022</td>\n",
       "      <td>1369</td>\n",
       "      <td>1369</td>\n",
       "      <td>1369</td>\n",
       "      <td>8590</td>\n",
       "      <td>30402</td>\n",
       "      <td>va</td>\n",
       "    </tr>\n",
       "    <tr>\n",
       "      <th>0000014</th>\n",
       "      <td>3197</td>\n",
       "      <td>1519</td>\n",
       "      <td>va</td>\n",
       "      <td>224906</td>\n",
       "      <td>111593</td>\n",
       "      <td>6278</td>\n",
       "      <td>5070</td>\n",
       "      <td>4389</td>\n",
       "      <td>2327</td>\n",
       "      <td>1521</td>\n",
       "      <td>...</td>\n",
       "      <td>96526</td>\n",
       "      <td>2874</td>\n",
       "      <td>96099</td>\n",
       "      <td>98973</td>\n",
       "      <td>3337</td>\n",
       "      <td>3337</td>\n",
       "      <td>3337</td>\n",
       "      <td>22322</td>\n",
       "      <td>76330</td>\n",
       "      <td>va</td>\n",
       "    </tr>\n",
       "  </tbody>\n",
       "</table>\n",
       "<p>5 rows × 32922 columns</p>\n",
       "</div>"
      ],
      "text/plain": [
       "          0001_1  0001_2  st   0002_1  0002_2  0002_3  0002_4  0002_5  0002_6  \\\n",
       "LOGRECNO                                                                        \n",
       "0000010     3776    1706  va   213621  105709    5099    5915    6072    3937   \n",
       "0000011    13614    6347  va   780918  389902   19998   20818   21492   13636   \n",
       "0000012    18432    8544  va  1057565  525408   27471   29015   30288   18158   \n",
       "0000013     1769     618  va   103000   49272    2843    3213    3173    1886   \n",
       "0000014     3197    1519  va   224906  111593    6278    5070    4389    2327   \n",
       "\n",
       "          0002_7 ...  0170_66  0170_67  0170_68  0170_69  0170_70  0170_71  \\\n",
       "LOGRECNO         ...                                                         \n",
       "0000010     3300 ...    86541     4793    85609    90402     3187     3187   \n",
       "0000011    11849 ...   299627    12020   297642   309662     9637     9713   \n",
       "0000012    16456 ...   410632    18171   407639   425810    13766    13842   \n",
       "0000013     3179 ...    37917     1348    37674    39022     1369     1369   \n",
       "0000014     1521 ...    96526     2874    96099    98973     3337     3337   \n",
       "\n",
       "          0170_72  0170_73  0170_74  st  \n",
       "LOGRECNO                                 \n",
       "0000010      3187    15003    75156  va  \n",
       "0000011      9713    47529   260611  va  \n",
       "0000012     13842    66687   357358  va  \n",
       "0000013      1369     8590    30402  va  \n",
       "0000014      3337    22322    76330  va  \n",
       "\n",
       "[5 rows x 32922 columns]"
      ]
     },
     "execution_count": 16,
     "metadata": {},
     "output_type": "execute_result"
    }
   ],
   "source": [
    "mdf2.head(5)"
   ]
  },
  {
   "cell_type": "code",
   "execution_count": 18,
   "metadata": {
    "collapsed": false
   },
   "outputs": [],
   "source": [
    "# save to csv\n",
    "mdf2.to_csv('../../Data/raw_PUMAS_1yUS.csv')"
   ]
  },
  {
   "cell_type": "code",
   "execution_count": null,
   "metadata": {
    "collapsed": false
   },
   "outputs": [],
   "source": [
    "# save column names as a csv\n",
    "pd.DataFrame(mdf.columns).to_csv('../../Data/PUMAS_series.csv')"
   ]
  },
  {
   "cell_type": "code",
   "execution_count": null,
   "metadata": {
    "collapsed": true
   },
   "outputs": [],
   "source": []
  }
 ],
 "metadata": {
  "kernelspec": {
   "display_name": "Python 2",
   "language": "python",
   "name": "python2"
  },
  "language_info": {
   "codemirror_mode": {
    "name": "ipython",
    "version": 2
   },
   "file_extension": ".py",
   "mimetype": "text/x-python",
   "name": "python",
   "nbconvert_exporter": "python",
   "pygments_lexer": "ipython2",
   "version": "2.7.11"
  }
 },
 "nbformat": 4,
 "nbformat_minor": 0
}
