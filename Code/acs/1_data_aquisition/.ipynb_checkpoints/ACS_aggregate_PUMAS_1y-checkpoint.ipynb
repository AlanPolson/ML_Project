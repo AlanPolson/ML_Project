{
 "cells": [
  {
   "cell_type": "code",
   "execution_count": 13,
   "metadata": {
    "collapsed": true
   },
   "outputs": [],
   "source": [
    "import os\n",
    "import pandas as pd\n",
    "from ipynotifyer import notifyOnComplete as nf\n",
    "import zipfile #i am not giving it a name cause i intend to use it only once"
   ]
  },
  {
   "cell_type": "code",
   "execution_count": 14,
   "metadata": {
    "collapsed": true
   },
   "outputs": [],
   "source": [
    "path = '../../../Data/ACS/1y2013/'"
   ]
  },
  {
   "cell_type": "code",
   "execution_count": 15,
   "metadata": {
    "collapsed": true
   },
   "outputs": [],
   "source": [
    "def getFiles(folder, format, full=True, filtr=None):\n",
    "    for f in os.listdir(folder):\n",
    "        if f.endswith(format) and f.startswith('e'):\n",
    "            if filtr==None or filtr not in f:\n",
    "                if full:\n",
    "                    yield os.path.join(folder, f)\n",
    "                else:\n",
    "                    yield f\n"
   ]
  },
  {
   "cell_type": "code",
   "execution_count": 16,
   "metadata": {
    "collapsed": false
   },
   "outputs": [
    {
     "data": {
      "text/plain": [
       "['../../../Data/ACS/1y2013/e20131ak0001000.txt',\n",
       " '../../../Data/ACS/1y2013/e20131ak0002000.txt',\n",
       " '../../../Data/ACS/1y2013/e20131ak0003000.txt',\n",
       " '../../../Data/ACS/1y2013/e20131ak0004000.txt',\n",
       " '../../../Data/ACS/1y2013/e20131ak0005000.txt',\n",
       " '../../../Data/ACS/1y2013/e20131ak0006000.txt',\n",
       " '../../../Data/ACS/1y2013/e20131ak0007000.txt',\n",
       " '../../../Data/ACS/1y2013/e20131ak0008000.txt',\n",
       " '../../../Data/ACS/1y2013/e20131ak0009000.txt',\n",
       " '../../../Data/ACS/1y2013/e20131ak0010000.txt']"
      ]
     },
     "execution_count": 16,
     "metadata": {},
     "output_type": "execute_result"
    }
   ],
   "source": [
    "txts = list(getFiles(path, '.txt'))\n",
    "txts[:10]"
   ]
  },
  {
   "cell_type": "code",
   "execution_count": 17,
   "metadata": {
    "collapsed": true
   },
   "outputs": [],
   "source": [
    "cols = [\n",
    "'FILEID',\n",
    "'FILETYPE',\n",
    "'STUSAB',\n",
    "'CHARITER',\n",
    "'SEQUENCE',\n",
    "'LOGRECNO',\n",
    "]"
   ]
  },
  {
   "cell_type": "code",
   "execution_count": 18,
   "metadata": {
    "collapsed": true
   },
   "outputs": [],
   "source": [
    "pumas = pd.read_csv('../../../Data/geo_id/pumas.csv', index_col=0, dtype='str')[[1, 4, 49]]"
   ]
  },
  {
   "cell_type": "code",
   "execution_count": 19,
   "metadata": {
    "collapsed": false
   },
   "outputs": [
    {
     "data": {
      "text/html": [
       "<div>\n",
       "<table border=\"1\" class=\"dataframe\">\n",
       "  <thead>\n",
       "    <tr style=\"text-align: right;\">\n",
       "      <th></th>\n",
       "      <th>st</th>\n",
       "      <th>LOGRECNO</th>\n",
       "      <th>name</th>\n",
       "    </tr>\n",
       "  </thead>\n",
       "  <tbody>\n",
       "    <tr>\n",
       "      <th>18</th>\n",
       "      <td>ak</td>\n",
       "      <td>0000019</td>\n",
       "      <td>Anchorage Municipality (North) PUMA, Alaska</td>\n",
       "    </tr>\n",
       "    <tr>\n",
       "      <th>19</th>\n",
       "      <td>ak</td>\n",
       "      <td>0000020</td>\n",
       "      <td>Anchorage Municipality (South) PUMA, Alaska</td>\n",
       "    </tr>\n",
       "    <tr>\n",
       "      <th>20</th>\n",
       "      <td>ak</td>\n",
       "      <td>0000021</td>\n",
       "      <td>Matanuska-Susitna &amp; Kenai Peninsula Boroughs P...</td>\n",
       "    </tr>\n",
       "    <tr>\n",
       "      <th>21</th>\n",
       "      <td>ak</td>\n",
       "      <td>0000022</td>\n",
       "      <td>Greater Fairbanks, Greater Juneau, Ketchikan G...</td>\n",
       "    </tr>\n",
       "    <tr>\n",
       "      <th>22</th>\n",
       "      <td>ak</td>\n",
       "      <td>0000023</td>\n",
       "      <td>Subsistence Alaska PUMA, Alaska</td>\n",
       "    </tr>\n",
       "  </tbody>\n",
       "</table>\n",
       "</div>"
      ],
      "text/plain": [
       "    st LOGRECNO                                               name\n",
       "18  ak  0000019        Anchorage Municipality (North) PUMA, Alaska\n",
       "19  ak  0000020        Anchorage Municipality (South) PUMA, Alaska\n",
       "20  ak  0000021  Matanuska-Susitna & Kenai Peninsula Boroughs P...\n",
       "21  ak  0000022  Greater Fairbanks, Greater Juneau, Ketchikan G...\n",
       "22  ak  0000023                    Subsistence Alaska PUMA, Alaska"
      ]
     },
     "execution_count": 19,
     "metadata": {},
     "output_type": "execute_result"
    }
   ],
   "source": [
    "pumas.columns = ('st','LOGRECNO','name')\n",
    "pumas.st = pumas.st.str.lower()\n",
    "pumas.head(5)"
   ]
  },
  {
   "cell_type": "code",
   "execution_count": 20,
   "metadata": {
    "collapsed": true
   },
   "outputs": [],
   "source": [
    "pumDict = {'us':[]}\n",
    "\n",
    "for name, g in pumas.groupby('st'):\n",
    "    pumDict[name] = g.LOGRECNO.tolist()"
   ]
  },
  {
   "cell_type": "code",
   "execution_count": 21,
   "metadata": {
    "collapsed": false
   },
   "outputs": [
    {
     "data": {
      "text/plain": [
       "145"
      ]
     },
     "execution_count": 21,
     "metadata": {},
     "output_type": "execute_result"
    }
   ],
   "source": [
    "len(pumDict['ny'])"
   ]
  },
  {
   "cell_type": "code",
   "execution_count": 22,
   "metadata": {
    "collapsed": false
   },
   "outputs": [],
   "source": [
    "def getTable(fname, gf=None):\n",
    "    df = pd.read_csv(fname, \n",
    "                             dtype={5:str, 4:str},\n",
    "                             header=None, low_memory=False,\n",
    "                             error_bad_lines=True)\n",
    "    seq = df.iloc[1,4]\n",
    "    st = fname[-13:-11]\n",
    "\n",
    "    df.columns = cols + ['%s_%d' % (seq , i+1) for i in xrange(df.shape[1] - 6)]\n",
    "#     df['st'] = st\n",
    "    \n",
    "    if gf:\n",
    "        return df[df['LOGRECNO'].isin(gf[st])].iloc[:,5:].set_index('LOGRECNO')\n",
    "    else:\n",
    "        return df.iloc[:,5:].set_index('LOGRECNO')\n"
   ]
  },
  {
   "cell_type": "code",
   "execution_count": 23,
   "metadata": {
    "collapsed": false
   },
   "outputs": [],
   "source": [
    "t1 = getTable(txts[10], gf=pumDict)"
   ]
  },
  {
   "cell_type": "code",
   "execution_count": 24,
   "metadata": {
    "collapsed": false
   },
   "outputs": [
    {
     "data": {
      "text/plain": [
       "(5, 139)"
      ]
     },
     "execution_count": 24,
     "metadata": {},
     "output_type": "execute_result"
    }
   ],
   "source": [
    "t1.shape"
   ]
  },
  {
   "cell_type": "code",
   "execution_count": 25,
   "metadata": {
    "collapsed": false
   },
   "outputs": [],
   "source": [
    "@nf\n",
    "def aggTables(folder, gf=None):    \n",
    "    \n",
    "    byState ={}\n",
    "    for t in getFiles(folder, '.txt'):\n",
    "        st = t[-13:-11]\n",
    "        byState[st] = byState.get(st,[])\n",
    "        byState[st].append(getTable(t, gf=gf))\n",
    "        \n",
    "    # concat horisontally inside the state\n",
    "    for k, v in byState.iteritems() :\n",
    "        byState[k] = pd.concat(v,1)\n",
    "        byState[k]['st'] = k\n",
    "    # concat vertically all the states\n",
    "    return pd.concat(byState.values())"
   ]
  },
  {
   "cell_type": "code",
   "execution_count": 26,
   "metadata": {
    "collapsed": false
   },
   "outputs": [],
   "source": [
    "# get all data for all PUMAs\n",
    "mdf2 = aggTables(path, gf=None) #gf=pumDict)"
   ]
  },
  {
   "cell_type": "code",
   "execution_count": 27,
   "metadata": {
    "collapsed": false
   },
   "outputs": [
    {
     "data": {
      "text/plain": [
       "(7801, 32753)"
      ]
     },
     "execution_count": 27,
     "metadata": {},
     "output_type": "execute_result"
    }
   ],
   "source": [
    "mdf2.shape"
   ]
  },
  {
   "cell_type": "code",
   "execution_count": 27,
   "metadata": {
    "collapsed": false
   },
   "outputs": [
    {
     "data": {
      "text/html": [
       "<div>\n",
       "<table border=\"1\" class=\"dataframe\">\n",
       "  <thead>\n",
       "    <tr style=\"text-align: right;\">\n",
       "      <th></th>\n",
       "      <th>0001_1</th>\n",
       "      <th>0001_2</th>\n",
       "      <th>0002_1</th>\n",
       "      <th>0002_2</th>\n",
       "      <th>0002_3</th>\n",
       "      <th>0002_4</th>\n",
       "      <th>0002_5</th>\n",
       "      <th>0002_6</th>\n",
       "      <th>0002_7</th>\n",
       "      <th>0002_8</th>\n",
       "      <th>...</th>\n",
       "      <th>0170_66</th>\n",
       "      <th>0170_67</th>\n",
       "      <th>0170_68</th>\n",
       "      <th>0170_69</th>\n",
       "      <th>0170_70</th>\n",
       "      <th>0170_71</th>\n",
       "      <th>0170_72</th>\n",
       "      <th>0170_73</th>\n",
       "      <th>0170_74</th>\n",
       "      <th>st</th>\n",
       "    </tr>\n",
       "    <tr>\n",
       "      <th>LOGRECNO</th>\n",
       "      <th></th>\n",
       "      <th></th>\n",
       "      <th></th>\n",
       "      <th></th>\n",
       "      <th></th>\n",
       "      <th></th>\n",
       "      <th></th>\n",
       "      <th></th>\n",
       "      <th></th>\n",
       "      <th></th>\n",
       "      <th></th>\n",
       "      <th></th>\n",
       "      <th></th>\n",
       "      <th></th>\n",
       "      <th></th>\n",
       "      <th></th>\n",
       "      <th></th>\n",
       "      <th></th>\n",
       "      <th></th>\n",
       "      <th></th>\n",
       "      <th></th>\n",
       "    </tr>\n",
       "  </thead>\n",
       "  <tbody>\n",
       "    <tr>\n",
       "      <th>0000078</th>\n",
       "      <td>1698</td>\n",
       "      <td>745</td>\n",
       "      <td>117860</td>\n",
       "      <td>59356</td>\n",
       "      <td>3482</td>\n",
       "      <td>3070</td>\n",
       "      <td>2874</td>\n",
       "      <td>1421</td>\n",
       "      <td>770</td>\n",
       "      <td>271</td>\n",
       "      <td>...</td>\n",
       "      <td>47549</td>\n",
       "      <td>1039</td>\n",
       "      <td>47486</td>\n",
       "      <td>48525</td>\n",
       "      <td>1327</td>\n",
       "      <td>1327</td>\n",
       "      <td>1327</td>\n",
       "      <td>12511</td>\n",
       "      <td>35996</td>\n",
       "      <td>va</td>\n",
       "    </tr>\n",
       "    <tr>\n",
       "      <th>0000079</th>\n",
       "      <td>1499</td>\n",
       "      <td>774</td>\n",
       "      <td>107046</td>\n",
       "      <td>52237</td>\n",
       "      <td>2796</td>\n",
       "      <td>2000</td>\n",
       "      <td>1515</td>\n",
       "      <td>906</td>\n",
       "      <td>751</td>\n",
       "      <td>555</td>\n",
       "      <td>...</td>\n",
       "      <td>48977</td>\n",
       "      <td>1835</td>\n",
       "      <td>48613</td>\n",
       "      <td>50448</td>\n",
       "      <td>2010</td>\n",
       "      <td>2010</td>\n",
       "      <td>2010</td>\n",
       "      <td>9811</td>\n",
       "      <td>40334</td>\n",
       "      <td>va</td>\n",
       "    </tr>\n",
       "    <tr>\n",
       "      <th>0000080</th>\n",
       "      <td>1493</td>\n",
       "      <td>678</td>\n",
       "      <td>102050</td>\n",
       "      <td>48520</td>\n",
       "      <td>2608</td>\n",
       "      <td>3665</td>\n",
       "      <td>3422</td>\n",
       "      <td>2437</td>\n",
       "      <td>1147</td>\n",
       "      <td>386</td>\n",
       "      <td>...</td>\n",
       "      <td>38082</td>\n",
       "      <td>1782</td>\n",
       "      <td>37832</td>\n",
       "      <td>39614</td>\n",
       "      <td>1491</td>\n",
       "      <td>1491</td>\n",
       "      <td>1491</td>\n",
       "      <td>8270</td>\n",
       "      <td>31116</td>\n",
       "      <td>va</td>\n",
       "    </tr>\n",
       "    <tr>\n",
       "      <th>0000081</th>\n",
       "      <td>1558</td>\n",
       "      <td>624</td>\n",
       "      <td>118119</td>\n",
       "      <td>56184</td>\n",
       "      <td>3546</td>\n",
       "      <td>3314</td>\n",
       "      <td>5734</td>\n",
       "      <td>2433</td>\n",
       "      <td>1773</td>\n",
       "      <td>857</td>\n",
       "      <td>...</td>\n",
       "      <td>40621</td>\n",
       "      <td>1456</td>\n",
       "      <td>40548</td>\n",
       "      <td>42004</td>\n",
       "      <td>1256</td>\n",
       "      <td>1256</td>\n",
       "      <td>1256</td>\n",
       "      <td>9400</td>\n",
       "      <td>32604</td>\n",
       "      <td>va</td>\n",
       "    </tr>\n",
       "    <tr>\n",
       "      <th>0000082</th>\n",
       "      <td>1582</td>\n",
       "      <td>565</td>\n",
       "      <td>107576</td>\n",
       "      <td>52189</td>\n",
       "      <td>3248</td>\n",
       "      <td>3532</td>\n",
       "      <td>4166</td>\n",
       "      <td>2843</td>\n",
       "      <td>1610</td>\n",
       "      <td>836</td>\n",
       "      <td>...</td>\n",
       "      <td>32890</td>\n",
       "      <td>1167</td>\n",
       "      <td>32890</td>\n",
       "      <td>34057</td>\n",
       "      <td>1832</td>\n",
       "      <td>1832</td>\n",
       "      <td>1832</td>\n",
       "      <td>9310</td>\n",
       "      <td>24640</td>\n",
       "      <td>va</td>\n",
       "    </tr>\n",
       "  </tbody>\n",
       "</table>\n",
       "<p>5 rows × 32753 columns</p>\n",
       "</div>"
      ],
      "text/plain": [
       "          0001_1  0001_2  0002_1  0002_2  0002_3  0002_4  0002_5  0002_6  \\\n",
       "LOGRECNO                                                                   \n",
       "0000078     1698     745  117860   59356    3482    3070    2874    1421   \n",
       "0000079     1499     774  107046   52237    2796    2000    1515     906   \n",
       "0000080     1493     678  102050   48520    2608    3665    3422    2437   \n",
       "0000081     1558     624  118119   56184    3546    3314    5734    2433   \n",
       "0000082     1582     565  107576   52189    3248    3532    4166    2843   \n",
       "\n",
       "          0002_7  0002_8 ...  0170_66  0170_67  0170_68  0170_69  0170_70  \\\n",
       "LOGRECNO                 ...                                                \n",
       "0000078      770     271 ...    47549     1039    47486    48525     1327   \n",
       "0000079      751     555 ...    48977     1835    48613    50448     2010   \n",
       "0000080     1147     386 ...    38082     1782    37832    39614     1491   \n",
       "0000081     1773     857 ...    40621     1456    40548    42004     1256   \n",
       "0000082     1610     836 ...    32890     1167    32890    34057     1832   \n",
       "\n",
       "          0170_71  0170_72  0170_73  0170_74  st  \n",
       "LOGRECNO                                          \n",
       "0000078      1327     1327    12511    35996  va  \n",
       "0000079      2010     2010     9811    40334  va  \n",
       "0000080      1491     1491     8270    31116  va  \n",
       "0000081      1256     1256     9400    32604  va  \n",
       "0000082      1832     1832     9310    24640  va  \n",
       "\n",
       "[5 rows x 32753 columns]"
      ]
     },
     "execution_count": 27,
     "metadata": {},
     "output_type": "execute_result"
    }
   ],
   "source": [
    "mdf2.head(5)"
   ]
  },
  {
   "cell_type": "code",
   "execution_count": 28,
   "metadata": {
    "collapsed": false
   },
   "outputs": [
    {
     "data": {
      "text/plain": [
       "['st']"
      ]
     },
     "execution_count": 28,
     "metadata": {},
     "output_type": "execute_result"
    }
   ],
   "source": [
    "[x for x in mdf2.columns.tolist() if x.startswith('st')]"
   ]
  },
  {
   "cell_type": "code",
   "execution_count": 29,
   "metadata": {
    "collapsed": false
   },
   "outputs": [],
   "source": [
    "# save to csv\n",
    "mdf2.to_csv('../../../Data/raw_PUMAS_1yUS.csv')\n",
    "# mdf2.to_csv('../../../Data/raw_ALL_geography_1yUS.csv')"
   ]
  },
  {
   "cell_type": "code",
   "execution_count": 30,
   "metadata": {
    "collapsed": false
   },
   "outputs": [],
   "source": [
    "# save column names as a csv\n",
    "pd.DataFrame(mdf2.columns).to_csv('../../../Data/PUMAS_series.csv')"
   ]
  },
  {
   "cell_type": "code",
   "execution_count": null,
   "metadata": {
    "collapsed": true
   },
   "outputs": [],
   "source": []
  }
 ],
 "metadata": {
  "kernelspec": {
   "display_name": "Python 2",
   "language": "python",
   "name": "python2"
  },
  "language_info": {
   "codemirror_mode": {
    "name": "ipython",
    "version": 2
   },
   "file_extension": ".py",
   "mimetype": "text/x-python",
   "name": "python",
   "nbconvert_exporter": "python",
   "pygments_lexer": "ipython2",
   "version": "2.7.11"
  }
 },
 "nbformat": 4,
 "nbformat_minor": 0
}
