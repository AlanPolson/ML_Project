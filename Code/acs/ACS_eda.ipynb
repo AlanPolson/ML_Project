{
 "cells": [
  {
   "cell_type": "code",
   "execution_count": 1,
   "metadata": {
    "collapsed": true
   },
   "outputs": [],
   "source": [
    "import os\n",
    "import pandas as pd\n",
    "\n",
    "import zipfile #i am not giving it a name cause i intend to use it only once"
   ]
  },
  {
   "cell_type": "code",
   "execution_count": 2,
   "metadata": {
    "collapsed": true
   },
   "outputs": [],
   "source": [
    "path = '../../Data/ACS/states/NewYork/'"
   ]
  },
  {
   "cell_type": "code",
   "execution_count": 3,
   "metadata": {
    "collapsed": true
   },
   "outputs": [],
   "source": [
    "def getFiles(folder, format, full=True, filtr=None):\n",
    "    for f in os.listdir(folder):\n",
    "        if f.endswith(format):\n",
    "            if filtr==None or filtr not in f:\n",
    "                if full:\n",
    "                    yield os.path.join(folder, f)\n",
    "                else:\n",
    "                    yield f\n"
   ]
  },
  {
   "cell_type": "code",
   "execution_count": 5,
   "metadata": {
    "collapsed": false
   },
   "outputs": [
    {
     "data": {
      "text/plain": [
       "['../../Data/ACS/states/NewYork/20135ny0000001.zip',\n",
       " '../../Data/ACS/states/NewYork/20135ny0000002.zip',\n",
       " '../../Data/ACS/states/NewYork/20135ny0000003.zip',\n",
       " '../../Data/ACS/states/NewYork/20135ny0000004.zip',\n",
       " '../../Data/ACS/states/NewYork/20135ny0000005.zip',\n",
       " '../../Data/ACS/states/NewYork/20135ny0000006.zip',\n",
       " '../../Data/ACS/states/NewYork/20135ny0000007.zip',\n",
       " '../../Data/ACS/states/NewYork/20135ny0000008.zip',\n",
       " '../../Data/ACS/states/NewYork/20135ny0000009.zip',\n",
       " '../../Data/ACS/states/NewYork/20135ny0000010.zip']"
      ]
     },
     "execution_count": 5,
     "metadata": {},
     "output_type": "execute_result"
    }
   ],
   "source": [
    "zips = list(getFiles(path, '.zip'))\n",
    "zips[:10]"
   ]
  },
  {
   "cell_type": "code",
   "execution_count": null,
   "metadata": {
    "collapsed": true
   },
   "outputs": [],
   "source": [
    "zf = zipfile.ZipFile(fname)\n",
    "df = pd.read_csv(zf.open(fname.replace('.zip','.txt')))"
   ]
  }
 ],
 "metadata": {
  "kernelspec": {
   "display_name": "Python 2",
   "language": "python",
   "name": "python2"
  },
  "language_info": {
   "codemirror_mode": {
    "name": "ipython",
    "version": 2
   },
   "file_extension": ".py",
   "mimetype": "text/x-python",
   "name": "python",
   "nbconvert_exporter": "python",
   "pygments_lexer": "ipython2",
   "version": "2.7.11"
  }
 },
 "nbformat": 4,
 "nbformat_minor": 0
}
