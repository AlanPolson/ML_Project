{
 "cells": [
  {
   "cell_type": "code",
   "execution_count": 8,
   "metadata": {
    "collapsed": true
   },
   "outputs": [],
   "source": [
    "import pandas as pd\n",
    "from ipynotifyer import notifyOnComplete as nf"
   ]
  },
  {
   "cell_type": "code",
   "execution_count": null,
   "metadata": {
    "collapsed": true
   },
   "outputs": [],
   "source": [
    "@nf\n",
    "def get_pumas():\n",
    "    pd.read_csv('../../Data/raw_aggData/raw_PUMAS_1yUS.csv', index_col='LOGRECNO')"
   ]
  },
  {
   "cell_type": "code",
   "execution_count": 7,
   "metadata": {
    "collapsed": false
   },
   "outputs": [],
   "source": [
    "pumas = get_pumas()"
   ]
  },
  {
   "cell_type": "code",
   "execution_count": 14,
   "metadata": {
    "collapsed": false
   },
   "outputs": [
    {
     "data": {
      "text/html": [
       "<div>\n",
       "<table border=\"1\" class=\"dataframe\">\n",
       "  <thead>\n",
       "    <tr style=\"text-align: right;\">\n",
       "      <th></th>\n",
       "      <th>0001_1</th>\n",
       "      <th>0001_2</th>\n",
       "      <th>0002_1</th>\n",
       "      <th>0002_2</th>\n",
       "      <th>0002_3</th>\n",
       "      <th>0002_4</th>\n",
       "      <th>0002_5</th>\n",
       "      <th>0002_6</th>\n",
       "      <th>0002_7</th>\n",
       "      <th>0002_8</th>\n",
       "      <th>...</th>\n",
       "      <th>0170_65</th>\n",
       "      <th>0170_66</th>\n",
       "      <th>0170_67</th>\n",
       "      <th>0170_68</th>\n",
       "      <th>0170_69</th>\n",
       "      <th>0170_70</th>\n",
       "      <th>0170_71</th>\n",
       "      <th>0170_72</th>\n",
       "      <th>0170_73</th>\n",
       "      <th>0170_74</th>\n",
       "    </tr>\n",
       "    <tr>\n",
       "      <th>LOGRECNO</th>\n",
       "      <th></th>\n",
       "      <th></th>\n",
       "      <th></th>\n",
       "      <th></th>\n",
       "      <th></th>\n",
       "      <th></th>\n",
       "      <th></th>\n",
       "      <th></th>\n",
       "      <th></th>\n",
       "      <th></th>\n",
       "      <th></th>\n",
       "      <th></th>\n",
       "      <th></th>\n",
       "      <th></th>\n",
       "      <th></th>\n",
       "      <th></th>\n",
       "      <th></th>\n",
       "      <th></th>\n",
       "      <th></th>\n",
       "      <th></th>\n",
       "      <th></th>\n",
       "    </tr>\n",
       "  </thead>\n",
       "  <tbody>\n",
       "    <tr>\n",
       "      <th>10</th>\n",
       "      <td>3776</td>\n",
       "      <td>1706</td>\n",
       "      <td>213621</td>\n",
       "      <td>105709</td>\n",
       "      <td>5099</td>\n",
       "      <td>5915</td>\n",
       "      <td>6072</td>\n",
       "      <td>3937</td>\n",
       "      <td>3300</td>\n",
       "      <td>940</td>\n",
       "      <td>...</td>\n",
       "      <td>3861</td>\n",
       "      <td>86541</td>\n",
       "      <td>4793</td>\n",
       "      <td>85609</td>\n",
       "      <td>90402</td>\n",
       "      <td>3187</td>\n",
       "      <td>3187</td>\n",
       "      <td>3187</td>\n",
       "      <td>15003</td>\n",
       "      <td>75156</td>\n",
       "    </tr>\n",
       "    <tr>\n",
       "      <th>11</th>\n",
       "      <td>13614</td>\n",
       "      <td>6347</td>\n",
       "      <td>780918</td>\n",
       "      <td>389902</td>\n",
       "      <td>19998</td>\n",
       "      <td>20818</td>\n",
       "      <td>21492</td>\n",
       "      <td>13636</td>\n",
       "      <td>11849</td>\n",
       "      <td>4903</td>\n",
       "      <td>...</td>\n",
       "      <td>10035</td>\n",
       "      <td>299627</td>\n",
       "      <td>12020</td>\n",
       "      <td>297642</td>\n",
       "      <td>309662</td>\n",
       "      <td>9637</td>\n",
       "      <td>9713</td>\n",
       "      <td>9713</td>\n",
       "      <td>47529</td>\n",
       "      <td>260611</td>\n",
       "    </tr>\n",
       "  </tbody>\n",
       "</table>\n",
       "<p>2 rows × 32752 columns</p>\n",
       "</div>"
      ],
      "text/plain": [
       "          0001_1  0001_2  0002_1  0002_2  0002_3  0002_4  0002_5  0002_6  \\\n",
       "LOGRECNO                                                                   \n",
       "10          3776    1706  213621  105709    5099    5915    6072    3937   \n",
       "11         13614    6347  780918  389902   19998   20818   21492   13636   \n",
       "\n",
       "          0002_7  0002_8   ...     0170_65  0170_66  0170_67  0170_68  \\\n",
       "LOGRECNO                   ...                                          \n",
       "10          3300     940   ...        3861    86541     4793    85609   \n",
       "11         11849    4903   ...       10035   299627    12020   297642   \n",
       "\n",
       "          0170_69  0170_70  0170_71  0170_72  0170_73  0170_74  \n",
       "LOGRECNO                                                        \n",
       "10          90402     3187     3187     3187    15003    75156  \n",
       "11         309662     9637     9713     9713    47529   260611  \n",
       "\n",
       "[2 rows x 32752 columns]"
      ]
     },
     "execution_count": 14,
     "metadata": {},
     "output_type": "execute_result"
    }
   ],
   "source": [
    "pumas.head(2)"
   ]
  },
  {
   "cell_type": "code",
   "execution_count": 13,
   "metadata": {
    "collapsed": false
   },
   "outputs": [
    {
     "data": {
      "text/plain": [
       "(6340, 32752)"
      ]
     },
     "execution_count": 13,
     "metadata": {},
     "output_type": "execute_result"
    }
   ],
   "source": [
    "pumas.drop([x for x in pumas.columns.tolist() if x.startswith('st')],1, inplace=1)\n",
    "pumas.shape"
   ]
  },
  {
   "cell_type": "code",
   "execution_count": 15,
   "metadata": {
    "collapsed": false
   },
   "outputs": [
    {
     "data": {
      "text/plain": [
       "(6340, 32639)"
      ]
     },
     "execution_count": 15,
     "metadata": {},
     "output_type": "execute_result"
    }
   ],
   "source": [
    "pumas.drop([x for x in pumas.columns.tolist() if (x.startswith('0167') or (x.startswith('0166')))],1, inplace=1)\n",
    "pumas.shape"
   ]
  },
  {
   "cell_type": "code",
   "execution_count": 20,
   "metadata": {
    "collapsed": false
   },
   "outputs": [],
   "source": [
    "Y = pumas['0165_11'] # Internet subsctibtion\n",
    "pumas.drop([x for x in pumas.columns.tolist() if x.startswith('0165')],1, inplace=1)"
   ]
  },
  {
   "cell_type": "code",
   "execution_count": 21,
   "metadata": {
    "collapsed": false
   },
   "outputs": [
    {
     "data": {
      "text/plain": [
       "(6340, 32456)"
      ]
     },
     "execution_count": 21,
     "metadata": {},
     "output_type": "execute_result"
    }
   ],
   "source": [
    "pumas.shape"
   ]
  },
  {
   "cell_type": "code",
   "execution_count": null,
   "metadata": {
    "collapsed": true
   },
   "outputs": [],
   "source": []
  }
 ],
 "metadata": {
  "kernelspec": {
   "display_name": "Python 2",
   "language": "python",
   "name": "python2"
  },
  "language_info": {
   "codemirror_mode": {
    "name": "ipython",
    "version": 2
   },
   "file_extension": ".py",
   "mimetype": "text/x-python",
   "name": "python",
   "nbconvert_exporter": "python",
   "pygments_lexer": "ipython2",
   "version": "2.7.11"
  }
 },
 "nbformat": 4,
 "nbformat_minor": 0
}
