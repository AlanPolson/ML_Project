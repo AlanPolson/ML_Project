{
 "cells": [
  {
   "cell_type": "code",
   "execution_count": 23,
   "metadata": {
    "collapsed": true
   },
   "outputs": [],
   "source": [
    "import pandas as pd"
   ]
  },
  {
   "cell_type": "code",
   "execution_count": 24,
   "metadata": {
    "collapsed": true
   },
   "outputs": [],
   "source": [
    "r = pd.read_csv('../../Data/raw_aggData/attr_interconn.csv', index_col=0)"
   ]
  },
  {
   "cell_type": "code",
   "execution_count": 27,
   "metadata": {
    "collapsed": false
   },
   "outputs": [
    {
     "data": {
      "text/html": [
       "<div>\n",
       "<table border=\"1\" class=\"dataframe\">\n",
       "  <thead>\n",
       "    <tr style=\"text-align: right;\">\n",
       "      <th></th>\n",
       "      <th>Q_name</th>\n",
       "      <th>puma_attr</th>\n",
       "      <th>block_attr</th>\n",
       "      <th>ourID</th>\n",
       "    </tr>\n",
       "  </thead>\n",
       "  <tbody>\n",
       "    <tr>\n",
       "      <th>0</th>\n",
       "      <td>B01001_sex by age_Total:_total:</td>\n",
       "      <td>0002_1</td>\n",
       "      <td>0002_1</td>\n",
       "      <td>our2</td>\n",
       "    </tr>\n",
       "    <tr>\n",
       "      <th>1</th>\n",
       "      <td>B01001_sex by age_Male:_male:</td>\n",
       "      <td>0002_2</td>\n",
       "      <td>0002_2</td>\n",
       "      <td>our3</td>\n",
       "    </tr>\n",
       "    <tr>\n",
       "      <th>2</th>\n",
       "      <td>B01001_sex by age_Male:_under 5 years</td>\n",
       "      <td>0002_3</td>\n",
       "      <td>0002_3</td>\n",
       "      <td>our4</td>\n",
       "    </tr>\n",
       "    <tr>\n",
       "      <th>3</th>\n",
       "      <td>B01001_sex by age_Male:_5 to 9 years</td>\n",
       "      <td>0002_4</td>\n",
       "      <td>0002_4</td>\n",
       "      <td>our5</td>\n",
       "    </tr>\n",
       "    <tr>\n",
       "      <th>4</th>\n",
       "      <td>B01001_sex by age_Male:_10 to 14 years</td>\n",
       "      <td>0002_5</td>\n",
       "      <td>0002_5</td>\n",
       "      <td>our6</td>\n",
       "    </tr>\n",
       "  </tbody>\n",
       "</table>\n",
       "</div>"
      ],
      "text/plain": [
       "                                   Q_name puma_attr block_attr ourID\n",
       "0         B01001_sex by age_Total:_total:    0002_1     0002_1  our2\n",
       "1           B01001_sex by age_Male:_male:    0002_2     0002_2  our3\n",
       "2   B01001_sex by age_Male:_under 5 years    0002_3     0002_3  our4\n",
       "3    B01001_sex by age_Male:_5 to 9 years    0002_4     0002_4  our5\n",
       "4  B01001_sex by age_Male:_10 to 14 years    0002_5     0002_5  our6"
      ]
     },
     "execution_count": 27,
     "metadata": {},
     "output_type": "execute_result"
    }
   ],
   "source": [
    "r.head()"
   ]
  },
  {
   "cell_type": "markdown",
   "metadata": {},
   "source": [
    "## PUMAS"
   ]
  },
  {
   "cell_type": "code",
   "execution_count": 10,
   "metadata": {
    "collapsed": false
   },
   "outputs": [
    {
     "name": "stderr",
     "output_type": "stream",
     "text": [
      "/Users/casy/anaconda/lib/python2.7/site-packages/IPython/core/interactiveshell.py:2723: DtypeWarning: Columns (339,340,341,342,343,344,345,346,347,348,349,350,351,352,353,354,355,356,357,358,359,361,362,1971,1972,1973,1974,1975,1976,1977,1978,2823,2828,3474,3475,3479,3480,3825,3826,3827,3832,3833,4409,4410,4411,4447,4448,4995,4996,5507,5508,6054,6055,6056,6057,6405,6406,6407,6408,6988,6989,7081,7091,7092,7151,7297,7298,7299,7300,7301,7302,7303,7378,7901,7902,7903,7904,8252,8253,8254,8255,9047,9048,9049,9050,9051,9052,9127,9466,9467,9468,14189,16017,16018,16211,16212,16213,16214,16215,16216,16217,16218,16225,16226,16932,16937,17171,17172,17173,17174,17175,17176,17177,17178,17184,17185,17190,17199,17200,17201,17212,17213,17223,17226,17236,17240,17241,17242,17243,17245,17380,17381,17382,17383,17384,17385,17386,17387,17392,17393,17394,17395,17396,17401,17402,17403,17491,17494,17501,17679,17683,17685,17689,17691,17695,18661,18665,18666,18667,18668,18669,18670,18671,18672,18673,18674,18675,18676,18677,18678,18679,18680,18681,18682,18683,18684,18685,18686,18687,18688,18689,18690,18691,18692,18693,18694,18695,18696,18697,18698,18699,18700,18701,18702,18703,18704,18705,18706,18707,18708,18709,18710,18711,18712,18713,18714,18715,18716,18717,18718,18719,18720,19225,19491,22385,22386,22387,22388,22389,22391,22392,22394,22395,22396,22397,22399,22400,22401,22402,22404,22410,22411,22412,22414,22415,22416,22421,22422,22423,22424,22425,22426,22427,22428,22429,22430,22431,22432,22433,22434,22436,22437,22438,22439,22440,22441,22442,22447,22448,22449,22451,22452,22453,22457,22458,22459,22460,22461,22462,22464,22465,22467,22468,22469,22470,22472,22473,22474,22475,22476,22477,22478,22482,22483,22484,22485,22486,22487,22488,22489,22825,22826,22827,22828,22829,22831,22832,22833,22834,22835,22836,22837,22839,22840,22841,22842,22843,22844,22845,22849,22850,22851,22852,22853,22854,22855,22856,22861,22862,22863,22864,22865,22866,22867,22868,22869,22870,22871,22872,22873,22874,22876,22877,22878,22879,22880,22881,22882,22885,22886,22887,22888,22889,22890,22891,22892,22893,22897,22898,22899,22900,22901,22902,22904,22905,22906,22907,22908,22909,22910,22912,22913,22914,22915,22916,22917,22918,22920,22922,22923,22924,22925,22926,22927,22928,22929,23215,23216,23217,23220,23222,23223,23224,23225,23227,23228,23230,23231,23237,23239,23240,23242,23243,23244,23245,23247,23249,23250,23251,23252,23253,23254,23255,23257,23258,23259,23261,23262,23264,23265,23266,23267,23269,23270,23271,23272,23273,23274,23276,23277,23278,23279,23280,23281,23282,23283,23284,23285,23286,23291,23293,23294,23562,23563,23564,23565,23567,23569,23570,23571,23572,23574,23575,23577,23578,23579,23583,23584,23585,23586,23587,23589,23590,23591,23592,23594,23596,23597,23598,23599,23600,23601,23602,23603,23604,23605,23606,23608,23609,23610,23611,23612,23613,23614,23616,23617,23618,23619,23620,23621,23622,23623,23624,23625,23626,23627,23628,23629,23630,23631,23632,23633,23635,23637,23638,23639,23640,23641,24386,24387,24389,24390,24395,24396,24397,24398,24399,24400,24404,24405,24406,24407,24408,24409,24434,24435,24437,24438,24439,24443,24444,24445,24446,24447,24448,24452,24453,24454,24455,24456,24457,28062,28063,28064,28065,28066,28559,28560,28562,28563,28564,28565,28567,28815,28821,28822,28823,28824,28825,28826,28838,29235,29300,29301,29302,29303,29304,29305,29306,29307,29308,29310,29315,29316,29317,29318,29323,29324,29325,29331,29332,29334,29335,29336,29337,29338,29339,29340,29341,29342,29344,29345,29346,29347,29349,29350,29351,29352,29355,29356,29357,29358,29359,29364,29365,29366) have mixed types. Specify dtype option on import or set low_memory=False.\n",
      "  interactivity=interactivity, compiler=compiler, result=result)\n"
     ]
    }
   ],
   "source": [
    "pumas = pd.read_csv('../../Data/raw_aggData/raw_PUMAS_1yUS.csv')"
   ]
  },
  {
   "cell_type": "code",
   "execution_count": 11,
   "metadata": {
    "collapsed": false
   },
   "outputs": [
    {
     "data": {
      "text/html": [
       "<div>\n",
       "<table border=\"1\" class=\"dataframe\">\n",
       "  <thead>\n",
       "    <tr style=\"text-align: right;\">\n",
       "      <th></th>\n",
       "      <th>LOGRECNO</th>\n",
       "      <th>0001_1</th>\n",
       "      <th>0001_2</th>\n",
       "      <th>st</th>\n",
       "      <th>0002_1</th>\n",
       "      <th>0002_2</th>\n",
       "      <th>0002_3</th>\n",
       "      <th>0002_4</th>\n",
       "      <th>0002_5</th>\n",
       "      <th>0002_6</th>\n",
       "      <th>...</th>\n",
       "      <th>0170_66</th>\n",
       "      <th>0170_67</th>\n",
       "      <th>0170_68</th>\n",
       "      <th>0170_69</th>\n",
       "      <th>0170_70</th>\n",
       "      <th>0170_71</th>\n",
       "      <th>0170_72</th>\n",
       "      <th>0170_73</th>\n",
       "      <th>0170_74</th>\n",
       "      <th>st.169</th>\n",
       "    </tr>\n",
       "  </thead>\n",
       "  <tbody>\n",
       "    <tr>\n",
       "      <th>0</th>\n",
       "      <td>10</td>\n",
       "      <td>3776</td>\n",
       "      <td>1706</td>\n",
       "      <td>va</td>\n",
       "      <td>213621</td>\n",
       "      <td>105709</td>\n",
       "      <td>5099</td>\n",
       "      <td>5915</td>\n",
       "      <td>6072</td>\n",
       "      <td>3937</td>\n",
       "      <td>...</td>\n",
       "      <td>86541</td>\n",
       "      <td>4793</td>\n",
       "      <td>85609</td>\n",
       "      <td>90402</td>\n",
       "      <td>3187</td>\n",
       "      <td>3187</td>\n",
       "      <td>3187</td>\n",
       "      <td>15003</td>\n",
       "      <td>75156</td>\n",
       "      <td>va</td>\n",
       "    </tr>\n",
       "    <tr>\n",
       "      <th>1</th>\n",
       "      <td>11</td>\n",
       "      <td>13614</td>\n",
       "      <td>6347</td>\n",
       "      <td>va</td>\n",
       "      <td>780918</td>\n",
       "      <td>389902</td>\n",
       "      <td>19998</td>\n",
       "      <td>20818</td>\n",
       "      <td>21492</td>\n",
       "      <td>13636</td>\n",
       "      <td>...</td>\n",
       "      <td>299627</td>\n",
       "      <td>12020</td>\n",
       "      <td>297642</td>\n",
       "      <td>309662</td>\n",
       "      <td>9637</td>\n",
       "      <td>9713</td>\n",
       "      <td>9713</td>\n",
       "      <td>47529</td>\n",
       "      <td>260611</td>\n",
       "      <td>va</td>\n",
       "    </tr>\n",
       "    <tr>\n",
       "      <th>2</th>\n",
       "      <td>12</td>\n",
       "      <td>18432</td>\n",
       "      <td>8544</td>\n",
       "      <td>va</td>\n",
       "      <td>1057565</td>\n",
       "      <td>525408</td>\n",
       "      <td>27471</td>\n",
       "      <td>29015</td>\n",
       "      <td>30288</td>\n",
       "      <td>18158</td>\n",
       "      <td>...</td>\n",
       "      <td>410632</td>\n",
       "      <td>18171</td>\n",
       "      <td>407639</td>\n",
       "      <td>425810</td>\n",
       "      <td>13766</td>\n",
       "      <td>13842</td>\n",
       "      <td>13842</td>\n",
       "      <td>66687</td>\n",
       "      <td>357358</td>\n",
       "      <td>va</td>\n",
       "    </tr>\n",
       "  </tbody>\n",
       "</table>\n",
       "<p>3 rows × 32923 columns</p>\n",
       "</div>"
      ],
      "text/plain": [
       "   LOGRECNO  0001_1  0001_2  st   0002_1  0002_2  0002_3  0002_4  0002_5  \\\n",
       "0        10    3776    1706  va   213621  105709    5099    5915    6072   \n",
       "1        11   13614    6347  va   780918  389902   19998   20818   21492   \n",
       "2        12   18432    8544  va  1057565  525408   27471   29015   30288   \n",
       "\n",
       "   0002_6   ...    0170_66  0170_67  0170_68  0170_69  0170_70  0170_71  \\\n",
       "0    3937   ...      86541     4793    85609    90402     3187     3187   \n",
       "1   13636   ...     299627    12020   297642   309662     9637     9713   \n",
       "2   18158   ...     410632    18171   407639   425810    13766    13842   \n",
       "\n",
       "   0170_72  0170_73  0170_74  st.169  \n",
       "0     3187    15003    75156      va  \n",
       "1     9713    47529   260611      va  \n",
       "2    13842    66687   357358      va  \n",
       "\n",
       "[3 rows x 32923 columns]"
      ]
     },
     "execution_count": 11,
     "metadata": {},
     "output_type": "execute_result"
    }
   ],
   "source": [
    "pumas.head(3)"
   ]
  },
  {
   "cell_type": "markdown",
   "metadata": {},
   "source": [
    "## Get Dependent variables"
   ]
  },
  {
   "cell_type": "code",
   "execution_count": 16,
   "metadata": {
    "collapsed": false
   },
   "outputs": [],
   "source": [
    "Ys = pumas[['0165_%d'%x for x in xrange(10,31)]]"
   ]
  },
  {
   "cell_type": "code",
   "execution_count": 18,
   "metadata": {
    "collapsed": false
   },
   "outputs": [
    {
     "data": {
      "text/html": [
       "<div>\n",
       "<table border=\"1\" class=\"dataframe\">\n",
       "  <thead>\n",
       "    <tr style=\"text-align: right;\">\n",
       "      <th></th>\n",
       "      <th>0165_10</th>\n",
       "      <th>0165_11</th>\n",
       "      <th>0165_12</th>\n",
       "      <th>0165_13</th>\n",
       "      <th>0165_14</th>\n",
       "      <th>0165_15</th>\n",
       "      <th>0165_16</th>\n",
       "      <th>0165_17</th>\n",
       "      <th>0165_18</th>\n",
       "      <th>0165_19</th>\n",
       "      <th>...</th>\n",
       "      <th>0165_21</th>\n",
       "      <th>0165_22</th>\n",
       "      <th>0165_23</th>\n",
       "      <th>0165_24</th>\n",
       "      <th>0165_25</th>\n",
       "      <th>0165_26</th>\n",
       "      <th>0165_27</th>\n",
       "      <th>0165_28</th>\n",
       "      <th>0165_29</th>\n",
       "      <th>0165_30</th>\n",
       "    </tr>\n",
       "  </thead>\n",
       "  <tbody>\n",
       "    <tr>\n",
       "      <th>0</th>\n",
       "      <td>90402</td>\n",
       "      <td>53197</td>\n",
       "      <td>2069</td>\n",
       "      <td>12207</td>\n",
       "      <td>3977</td>\n",
       "      <td>8230</td>\n",
       "      <td>24292</td>\n",
       "      <td>8906</td>\n",
       "      <td>15386</td>\n",
       "      <td>520</td>\n",
       "      <td>...</td>\n",
       "      <td>267</td>\n",
       "      <td>4080</td>\n",
       "      <td>784</td>\n",
       "      <td>3296</td>\n",
       "      <td>4776</td>\n",
       "      <td>1537</td>\n",
       "      <td>3239</td>\n",
       "      <td>5253</td>\n",
       "      <td>6164</td>\n",
       "      <td>31041</td>\n",
       "    </tr>\n",
       "    <tr>\n",
       "      <th>1</th>\n",
       "      <td>309662</td>\n",
       "      <td>182654</td>\n",
       "      <td>8819</td>\n",
       "      <td>66003</td>\n",
       "      <td>18031</td>\n",
       "      <td>47972</td>\n",
       "      <td>39697</td>\n",
       "      <td>13409</td>\n",
       "      <td>26288</td>\n",
       "      <td>5581</td>\n",
       "      <td>...</td>\n",
       "      <td>2855</td>\n",
       "      <td>19642</td>\n",
       "      <td>6092</td>\n",
       "      <td>13550</td>\n",
       "      <td>17113</td>\n",
       "      <td>7197</td>\n",
       "      <td>9916</td>\n",
       "      <td>25799</td>\n",
       "      <td>13757</td>\n",
       "      <td>113251</td>\n",
       "    </tr>\n",
       "    <tr>\n",
       "      <th>2</th>\n",
       "      <td>425810</td>\n",
       "      <td>249055</td>\n",
       "      <td>11323</td>\n",
       "      <td>80924</td>\n",
       "      <td>22575</td>\n",
       "      <td>58349</td>\n",
       "      <td>72057</td>\n",
       "      <td>24793</td>\n",
       "      <td>47264</td>\n",
       "      <td>6266</td>\n",
       "      <td>...</td>\n",
       "      <td>3169</td>\n",
       "      <td>24023</td>\n",
       "      <td>6942</td>\n",
       "      <td>17081</td>\n",
       "      <td>22802</td>\n",
       "      <td>9274</td>\n",
       "      <td>13528</td>\n",
       "      <td>31660</td>\n",
       "      <td>21440</td>\n",
       "      <td>155315</td>\n",
       "    </tr>\n",
       "  </tbody>\n",
       "</table>\n",
       "<p>3 rows × 21 columns</p>\n",
       "</div>"
      ],
      "text/plain": [
       "   0165_10  0165_11  0165_12  0165_13  0165_14  0165_15  0165_16  0165_17  \\\n",
       "0    90402    53197     2069    12207     3977     8230    24292     8906   \n",
       "1   309662   182654     8819    66003    18031    47972    39697    13409   \n",
       "2   425810   249055    11323    80924    22575    58349    72057    24793   \n",
       "\n",
       "   0165_18  0165_19   ...     0165_21  0165_22  0165_23  0165_24  0165_25  \\\n",
       "0    15386      520   ...         267     4080      784     3296     4776   \n",
       "1    26288     5581   ...        2855    19642     6092    13550    17113   \n",
       "2    47264     6266   ...        3169    24023     6942    17081    22802   \n",
       "\n",
       "   0165_26  0165_27  0165_28  0165_29  0165_30  \n",
       "0     1537     3239     5253     6164    31041  \n",
       "1     7197     9916    25799    13757   113251  \n",
       "2     9274    13528    31660    21440   155315  \n",
       "\n",
       "[3 rows x 21 columns]"
      ]
     },
     "execution_count": 18,
     "metadata": {},
     "output_type": "execute_result"
    }
   ],
   "source": [
    "Ys.head(3)"
   ]
  },
  {
   "cell_type": "code",
   "execution_count": 19,
   "metadata": {
    "collapsed": true
   },
   "outputs": [],
   "source": [
    "## Just to be sure, I saved all the questions:\n",
    "'''\n",
    "PRESENCE AND TYPES OF INTERNET SUBSCRIPTIONS IN HOUSEHOLD\n",
    "Universe:  Households\n",
    "0165_10 Total:\n",
    "0165_11 With an Internet subscription:\n",
    "0165_12 Dial-up alone\n",
    "0165_13 DSL:\n",
    "0165_14 With mobile broadband\n",
    "0165_15 Without mobile broadband\n",
    "0165_16 Cable modem:\n",
    "0165_17 With mobile broadband\n",
    "0165_18 Without mobile broadband\n",
    "0165_19 Fiber-optic:\n",
    "0165_20 With mobile broadband\n",
    "0165_21 Without mobile broadband\n",
    "0165_22 Satellite Internet service:\n",
    "0165_23 With mobile broadband\n",
    "0165_24 Without mobile broadband\n",
    "0165_25 Two or more fixed broadband types, or other:\n",
    "0165_26 With mobile broadband\n",
    "0165_27 Without mobile broadband\n",
    "0165_28 Mobile broadband alone or with dialup\n",
    "0165_29 Internet access without a subscription\n",
    "0165_30 No Internet access\n",
    "'''\n",
    "\n",
    "Ys.to_csv('../../Data/refined_data/predict.csv')"
   ]
  },
  {
   "cell_type": "markdown",
   "metadata": {},
   "source": [
    "## PUMAS predictors"
   ]
  },
  {
   "cell_type": "code",
   "execution_count": 61,
   "metadata": {
    "collapsed": false
   },
   "outputs": [],
   "source": [
    "# dictionary of column names\n",
    "pumaID = r[['puma_attr', 'ourID']].set_index('puma_attr')['ourID'].to_dict()"
   ]
  },
  {
   "cell_type": "code",
   "execution_count": 65,
   "metadata": {
    "collapsed": false
   },
   "outputs": [],
   "source": [
    "p = pumas[[x for x in pumas.columns if x in r['puma_attr'].tolist()]+['LOGRECNO']]"
   ]
  },
  {
   "cell_type": "code",
   "execution_count": 66,
   "metadata": {
    "collapsed": false
   },
   "outputs": [
    {
     "data": {
      "text/html": [
       "<div>\n",
       "<table border=\"1\" class=\"dataframe\">\n",
       "  <thead>\n",
       "    <tr style=\"text-align: right;\">\n",
       "      <th></th>\n",
       "      <th>our206</th>\n",
       "      <th>our207</th>\n",
       "      <th>our208</th>\n",
       "      <th>our209</th>\n",
       "      <th>our210</th>\n",
       "      <th>our211</th>\n",
       "      <th>our212</th>\n",
       "      <th>our213</th>\n",
       "      <th>our214</th>\n",
       "      <th>our215</th>\n",
       "      <th>...</th>\n",
       "      <th>our42794</th>\n",
       "      <th>our42795</th>\n",
       "      <th>our42796</th>\n",
       "      <th>our42797</th>\n",
       "      <th>our42798</th>\n",
       "      <th>our42799</th>\n",
       "      <th>our42800</th>\n",
       "      <th>our42801</th>\n",
       "      <th>our42802</th>\n",
       "      <th>_LOGRECNO</th>\n",
       "    </tr>\n",
       "  </thead>\n",
       "  <tbody>\n",
       "    <tr>\n",
       "      <th>0</th>\n",
       "      <td>213621</td>\n",
       "      <td>105709</td>\n",
       "      <td>5099</td>\n",
       "      <td>5915</td>\n",
       "      <td>6072</td>\n",
       "      <td>3937</td>\n",
       "      <td>3300</td>\n",
       "      <td>940</td>\n",
       "      <td>1290</td>\n",
       "      <td>4289</td>\n",
       "      <td>...</td>\n",
       "      <td>NaN</td>\n",
       "      <td>NaN</td>\n",
       "      <td>NaN</td>\n",
       "      <td>NaN</td>\n",
       "      <td>NaN</td>\n",
       "      <td>NaN</td>\n",
       "      <td>NaN</td>\n",
       "      <td>NaN</td>\n",
       "      <td>NaN</td>\n",
       "      <td>10</td>\n",
       "    </tr>\n",
       "    <tr>\n",
       "      <th>1</th>\n",
       "      <td>780918</td>\n",
       "      <td>389902</td>\n",
       "      <td>19998</td>\n",
       "      <td>20818</td>\n",
       "      <td>21492</td>\n",
       "      <td>13636</td>\n",
       "      <td>11849</td>\n",
       "      <td>4903</td>\n",
       "      <td>6043</td>\n",
       "      <td>14494</td>\n",
       "      <td>...</td>\n",
       "      <td>NaN</td>\n",
       "      <td>NaN</td>\n",
       "      <td>NaN</td>\n",
       "      <td>NaN</td>\n",
       "      <td>NaN</td>\n",
       "      <td>NaN</td>\n",
       "      <td>NaN</td>\n",
       "      <td>NaN</td>\n",
       "      <td>NaN</td>\n",
       "      <td>11</td>\n",
       "    </tr>\n",
       "    <tr>\n",
       "      <th>2</th>\n",
       "      <td>1057565</td>\n",
       "      <td>525408</td>\n",
       "      <td>27471</td>\n",
       "      <td>29015</td>\n",
       "      <td>30288</td>\n",
       "      <td>18158</td>\n",
       "      <td>16456</td>\n",
       "      <td>6205</td>\n",
       "      <td>7679</td>\n",
       "      <td>20456</td>\n",
       "      <td>...</td>\n",
       "      <td>NaN</td>\n",
       "      <td>NaN</td>\n",
       "      <td>NaN</td>\n",
       "      <td>NaN</td>\n",
       "      <td>NaN</td>\n",
       "      <td>NaN</td>\n",
       "      <td>NaN</td>\n",
       "      <td>NaN</td>\n",
       "      <td>NaN</td>\n",
       "      <td>12</td>\n",
       "    </tr>\n",
       "    <tr>\n",
       "      <th>3</th>\n",
       "      <td>103000</td>\n",
       "      <td>49272</td>\n",
       "      <td>2843</td>\n",
       "      <td>3213</td>\n",
       "      <td>3173</td>\n",
       "      <td>1886</td>\n",
       "      <td>3179</td>\n",
       "      <td>1020</td>\n",
       "      <td>646</td>\n",
       "      <td>873</td>\n",
       "      <td>...</td>\n",
       "      <td>618</td>\n",
       "      <td>NaN</td>\n",
       "      <td>NaN</td>\n",
       "      <td>NaN</td>\n",
       "      <td>NaN</td>\n",
       "      <td>NaN</td>\n",
       "      <td>NaN</td>\n",
       "      <td>NaN</td>\n",
       "      <td>NaN</td>\n",
       "      <td>13</td>\n",
       "    </tr>\n",
       "    <tr>\n",
       "      <th>4</th>\n",
       "      <td>224906</td>\n",
       "      <td>111593</td>\n",
       "      <td>6278</td>\n",
       "      <td>5070</td>\n",
       "      <td>4389</td>\n",
       "      <td>2327</td>\n",
       "      <td>1521</td>\n",
       "      <td>826</td>\n",
       "      <td>576</td>\n",
       "      <td>6172</td>\n",
       "      <td>...</td>\n",
       "      <td>1519</td>\n",
       "      <td>NaN</td>\n",
       "      <td>NaN</td>\n",
       "      <td>NaN</td>\n",
       "      <td>NaN</td>\n",
       "      <td>NaN</td>\n",
       "      <td>NaN</td>\n",
       "      <td>NaN</td>\n",
       "      <td>NaN</td>\n",
       "      <td>14</td>\n",
       "    </tr>\n",
       "  </tbody>\n",
       "</table>\n",
       "<p>5 rows × 9358 columns</p>\n",
       "</div>"
      ],
      "text/plain": [
       "    our206  our207  our208  our209  our210  our211  our212  our213  our214  \\\n",
       "0   213621  105709    5099    5915    6072    3937    3300     940    1290   \n",
       "1   780918  389902   19998   20818   21492   13636   11849    4903    6043   \n",
       "2  1057565  525408   27471   29015   30288   18158   16456    6205    7679   \n",
       "3   103000   49272    2843    3213    3173    1886    3179    1020     646   \n",
       "4   224906  111593    6278    5070    4389    2327    1521     826     576   \n",
       "\n",
       "   our215    ...      our42794  our42795  our42796  our42797  our42798  \\\n",
       "0    4289    ...           NaN       NaN       NaN       NaN       NaN   \n",
       "1   14494    ...           NaN       NaN       NaN       NaN       NaN   \n",
       "2   20456    ...           NaN       NaN       NaN       NaN       NaN   \n",
       "3     873    ...           618       NaN       NaN       NaN       NaN   \n",
       "4    6172    ...          1519       NaN       NaN       NaN       NaN   \n",
       "\n",
       "   our42799  our42800  our42801  our42802  _LOGRECNO  \n",
       "0       NaN       NaN       NaN       NaN         10  \n",
       "1       NaN       NaN       NaN       NaN         11  \n",
       "2       NaN       NaN       NaN       NaN         12  \n",
       "3       NaN       NaN       NaN       NaN         13  \n",
       "4       NaN       NaN       NaN       NaN         14  \n",
       "\n",
       "[5 rows x 9358 columns]"
      ]
     },
     "execution_count": 66,
     "metadata": {},
     "output_type": "execute_result"
    }
   ],
   "source": [
    "p.columns = [pumaID.get(x, '_'+x) for x in p.columns]\n",
    "p.head()"
   ]
  },
  {
   "cell_type": "code",
   "execution_count": 91,
   "metadata": {
    "collapsed": false
   },
   "outputs": [
    {
     "data": {
      "text/plain": [
       "(6340, 3466)"
      ]
     },
     "execution_count": 91,
     "metadata": {},
     "output_type": "execute_result"
    }
   ],
   "source": [
    "# drop columns with more than half datasets\n",
    "\n",
    "p50 = p.dropna(axis=1, thresh=p.shape[0]/2)\n",
    "p50.shape"
   ]
  },
  {
   "cell_type": "markdown",
   "metadata": {},
   "source": [
    "## BLOCKS predictors"
   ]
  },
  {
   "cell_type": "code",
   "execution_count": 63,
   "metadata": {
    "collapsed": false
   },
   "outputs": [
    {
     "name": "stderr",
     "output_type": "stream",
     "text": [
      "/Users/casy/anaconda/lib/python2.7/site-packages/IPython/core/interactiveshell.py:2723: DtypeWarning: Columns (331,332,333,334,335,336,337,338,339,343,344,345,349,350,351,355,356,357,358,359,360,5230,5231,5232,5233,5234,5235,5236,5237,5238,5239,5240,5241,5242,5243,5244,5245,5246,5247,5248,5249,5250,5251,10238,10239,10240,10242,11655,11656,11657,11659,11661,11663,11664,11673,11674,11675,11677,11679,11681,11682,12373,12375,12376,12377,12378,12380,12381,12382,12413,12414,12415,12416,12417,12418,12419,12420,12421,12422,12423,12424,12425,12426,12427,12428,12429,12430,12431,12432,12433,12434,12435,12436,12437,12438,12439,12610,12611,12612,12614,12618,12619,12646,12818,12819,12820,12826,12828,12859,12860,12861,12863,12865,12867,12868,12869,12870,12871,12873,12875,12877,12878,13024,13025,13026,13027,13028,13029,13030,13031,13032,13033,19549,19550,19551,19725,19726,19748,19749,19750,19751,19752,19753,19754,19759,19761,19950,19972,19973,19974,19990,19991,19992,20078,20079,20080,20170,20171,20172,20173,20221,20222,20223,20224,20225,20226,20227,20228,20229,20230,20231,20233,20285,20440,20441,20442,20443,20445,20446,20447,20448,20449,20450,20451,20452,20453,20454,20464,20465,20466,20523,20524,20525,20526,20527,20528,20555,20556,20557) have mixed types. Specify dtype option on import or set low_memory=False.\n",
      "  interactivity=interactivity, compiler=compiler, result=result)\n"
     ]
    }
   ],
   "source": [
    "blocks = pd.read_csv('../../Data/raw_aggData/raw_block_group_5yNY.csv')"
   ]
  },
  {
   "cell_type": "code",
   "execution_count": 64,
   "metadata": {
    "collapsed": false
   },
   "outputs": [
    {
     "data": {
      "text/html": [
       "<div>\n",
       "<table border=\"1\" class=\"dataframe\">\n",
       "  <thead>\n",
       "    <tr style=\"text-align: right;\">\n",
       "      <th></th>\n",
       "      <th>LOGRECNO</th>\n",
       "      <th>0001_1</th>\n",
       "      <th>0001_2</th>\n",
       "      <th>0002_1</th>\n",
       "      <th>0002_2</th>\n",
       "      <th>0002_3</th>\n",
       "      <th>0002_4</th>\n",
       "      <th>0002_5</th>\n",
       "      <th>0002_6</th>\n",
       "      <th>0002_7</th>\n",
       "      <th>...</th>\n",
       "      <th>0122_49</th>\n",
       "      <th>0122_50</th>\n",
       "      <th>0122_51</th>\n",
       "      <th>0122_52</th>\n",
       "      <th>0122_53</th>\n",
       "      <th>0122_54</th>\n",
       "      <th>0122_55</th>\n",
       "      <th>0122_56</th>\n",
       "      <th>0122_57</th>\n",
       "      <th>0122_58</th>\n",
       "    </tr>\n",
       "  </thead>\n",
       "  <tbody>\n",
       "    <tr>\n",
       "      <th>0</th>\n",
       "      <td>8303</td>\n",
       "      <td>93</td>\n",
       "      <td>48</td>\n",
       "      <td>1102</td>\n",
       "      <td>389</td>\n",
       "      <td>26</td>\n",
       "      <td>9</td>\n",
       "      <td>34</td>\n",
       "      <td>0</td>\n",
       "      <td>27</td>\n",
       "      <td>...</td>\n",
       "      <td>NaN</td>\n",
       "      <td>NaN</td>\n",
       "      <td>NaN</td>\n",
       "      <td>NaN</td>\n",
       "      <td>NaN</td>\n",
       "      <td>NaN</td>\n",
       "      <td>NaN</td>\n",
       "      <td>NaN</td>\n",
       "      <td>NaN</td>\n",
       "      <td>NaN</td>\n",
       "    </tr>\n",
       "    <tr>\n",
       "      <th>1</th>\n",
       "      <td>8304</td>\n",
       "      <td>93</td>\n",
       "      <td>47</td>\n",
       "      <td>1061</td>\n",
       "      <td>470</td>\n",
       "      <td>33</td>\n",
       "      <td>31</td>\n",
       "      <td>43</td>\n",
       "      <td>20</td>\n",
       "      <td>31</td>\n",
       "      <td>...</td>\n",
       "      <td>NaN</td>\n",
       "      <td>NaN</td>\n",
       "      <td>NaN</td>\n",
       "      <td>NaN</td>\n",
       "      <td>NaN</td>\n",
       "      <td>NaN</td>\n",
       "      <td>NaN</td>\n",
       "      <td>NaN</td>\n",
       "      <td>NaN</td>\n",
       "      <td>NaN</td>\n",
       "    </tr>\n",
       "    <tr>\n",
       "      <th>2</th>\n",
       "      <td>8305</td>\n",
       "      <td>113</td>\n",
       "      <td>61</td>\n",
       "      <td>2828</td>\n",
       "      <td>1344</td>\n",
       "      <td>217</td>\n",
       "      <td>93</td>\n",
       "      <td>141</td>\n",
       "      <td>137</td>\n",
       "      <td>0</td>\n",
       "      <td>...</td>\n",
       "      <td>NaN</td>\n",
       "      <td>NaN</td>\n",
       "      <td>NaN</td>\n",
       "      <td>NaN</td>\n",
       "      <td>NaN</td>\n",
       "      <td>NaN</td>\n",
       "      <td>NaN</td>\n",
       "      <td>NaN</td>\n",
       "      <td>NaN</td>\n",
       "      <td>NaN</td>\n",
       "    </tr>\n",
       "  </tbody>\n",
       "</table>\n",
       "<p>3 rows × 22712 columns</p>\n",
       "</div>"
      ],
      "text/plain": [
       "   LOGRECNO  0001_1  0001_2  0002_1  0002_2  0002_3  0002_4  0002_5  0002_6  \\\n",
       "0      8303      93      48    1102     389      26       9      34       0   \n",
       "1      8304      93      47    1061     470      33      31      43      20   \n",
       "2      8305     113      61    2828    1344     217      93     141     137   \n",
       "\n",
       "   0002_7   ...     0122_49  0122_50  0122_51  0122_52  0122_53  0122_54  \\\n",
       "0      27   ...         NaN      NaN      NaN      NaN      NaN      NaN   \n",
       "1      31   ...         NaN      NaN      NaN      NaN      NaN      NaN   \n",
       "2       0   ...         NaN      NaN      NaN      NaN      NaN      NaN   \n",
       "\n",
       "   0122_55  0122_56  0122_57  0122_58  \n",
       "0      NaN      NaN      NaN      NaN  \n",
       "1      NaN      NaN      NaN      NaN  \n",
       "2      NaN      NaN      NaN      NaN  \n",
       "\n",
       "[3 rows x 22712 columns]"
      ]
     },
     "execution_count": 64,
     "metadata": {},
     "output_type": "execute_result"
    }
   ],
   "source": [
    "blocks.head(3)"
   ]
  },
  {
   "cell_type": "code",
   "execution_count": 85,
   "metadata": {
    "collapsed": false
   },
   "outputs": [
    {
     "data": {
      "text/plain": [
       "(15463, 22712)"
      ]
     },
     "execution_count": 85,
     "metadata": {},
     "output_type": "execute_result"
    }
   ],
   "source": [
    "blocks.shape"
   ]
  },
  {
   "cell_type": "code",
   "execution_count": 72,
   "metadata": {
    "collapsed": false
   },
   "outputs": [],
   "source": [
    "pCols =r[r.ourID.isin(p50.columns.tolist())]['block_attr'].tolist()  + ['LOGRECNO']"
   ]
  },
  {
   "cell_type": "code",
   "execution_count": 81,
   "metadata": {
    "collapsed": false
   },
   "outputs": [],
   "source": [
    "b = blocks[[x for x in blocks.columns if x in pCols]]\n",
    "b.set_index('LOGRECNO',inplace=1)"
   ]
  },
  {
   "cell_type": "code",
   "execution_count": 82,
   "metadata": {
    "collapsed": false
   },
   "outputs": [],
   "source": [
    "blockID = r[['block_attr', 'ourID']].set_index('block_attr')['ourID'].to_dict()"
   ]
  },
  {
   "cell_type": "code",
   "execution_count": 83,
   "metadata": {
    "collapsed": false
   },
   "outputs": [
    {
     "data": {
      "text/html": [
       "<div>\n",
       "<table border=\"1\" class=\"dataframe\">\n",
       "  <thead>\n",
       "    <tr style=\"text-align: right;\">\n",
       "      <th></th>\n",
       "      <th>our206</th>\n",
       "      <th>our207</th>\n",
       "      <th>our208</th>\n",
       "      <th>our209</th>\n",
       "      <th>our210</th>\n",
       "      <th>our211</th>\n",
       "      <th>our212</th>\n",
       "      <th>our213</th>\n",
       "      <th>our214</th>\n",
       "      <th>our215</th>\n",
       "      <th>...</th>\n",
       "      <th>our34357</th>\n",
       "      <th>our34358</th>\n",
       "      <th>our34359</th>\n",
       "      <th>our34360</th>\n",
       "      <th>our34361</th>\n",
       "      <th>our34362</th>\n",
       "      <th>our34363</th>\n",
       "      <th>our34364</th>\n",
       "      <th>our34365</th>\n",
       "      <th>our34366</th>\n",
       "    </tr>\n",
       "    <tr>\n",
       "      <th>LOGRECNO</th>\n",
       "      <th></th>\n",
       "      <th></th>\n",
       "      <th></th>\n",
       "      <th></th>\n",
       "      <th></th>\n",
       "      <th></th>\n",
       "      <th></th>\n",
       "      <th></th>\n",
       "      <th></th>\n",
       "      <th></th>\n",
       "      <th></th>\n",
       "      <th></th>\n",
       "      <th></th>\n",
       "      <th></th>\n",
       "      <th></th>\n",
       "      <th></th>\n",
       "      <th></th>\n",
       "      <th></th>\n",
       "      <th></th>\n",
       "      <th></th>\n",
       "      <th></th>\n",
       "    </tr>\n",
       "  </thead>\n",
       "  <tbody>\n",
       "    <tr>\n",
       "      <th>8303</th>\n",
       "      <td>1102</td>\n",
       "      <td>389</td>\n",
       "      <td>26</td>\n",
       "      <td>9</td>\n",
       "      <td>34</td>\n",
       "      <td>0</td>\n",
       "      <td>27</td>\n",
       "      <td>0</td>\n",
       "      <td>19</td>\n",
       "      <td>7</td>\n",
       "      <td>...</td>\n",
       "      <td>14</td>\n",
       "      <td>68</td>\n",
       "      <td>0</td>\n",
       "      <td>0</td>\n",
       "      <td>2</td>\n",
       "      <td>0</td>\n",
       "      <td>0</td>\n",
       "      <td>38</td>\n",
       "      <td>280</td>\n",
       "      <td>31</td>\n",
       "    </tr>\n",
       "    <tr>\n",
       "      <th>8304</th>\n",
       "      <td>1061</td>\n",
       "      <td>470</td>\n",
       "      <td>33</td>\n",
       "      <td>31</td>\n",
       "      <td>43</td>\n",
       "      <td>20</td>\n",
       "      <td>31</td>\n",
       "      <td>0</td>\n",
       "      <td>15</td>\n",
       "      <td>6</td>\n",
       "      <td>...</td>\n",
       "      <td>0</td>\n",
       "      <td>107</td>\n",
       "      <td>0</td>\n",
       "      <td>0</td>\n",
       "      <td>8</td>\n",
       "      <td>0</td>\n",
       "      <td>0</td>\n",
       "      <td>52</td>\n",
       "      <td>218</td>\n",
       "      <td>50</td>\n",
       "    </tr>\n",
       "    <tr>\n",
       "      <th>8305</th>\n",
       "      <td>2828</td>\n",
       "      <td>1344</td>\n",
       "      <td>217</td>\n",
       "      <td>93</td>\n",
       "      <td>141</td>\n",
       "      <td>137</td>\n",
       "      <td>0</td>\n",
       "      <td>35</td>\n",
       "      <td>51</td>\n",
       "      <td>92</td>\n",
       "      <td>...</td>\n",
       "      <td>0</td>\n",
       "      <td>279</td>\n",
       "      <td>11</td>\n",
       "      <td>0</td>\n",
       "      <td>0</td>\n",
       "      <td>0</td>\n",
       "      <td>0</td>\n",
       "      <td>140</td>\n",
       "      <td>657</td>\n",
       "      <td>336</td>\n",
       "    </tr>\n",
       "    <tr>\n",
       "      <th>8306</th>\n",
       "      <td>764</td>\n",
       "      <td>341</td>\n",
       "      <td>31</td>\n",
       "      <td>0</td>\n",
       "      <td>21</td>\n",
       "      <td>14</td>\n",
       "      <td>0</td>\n",
       "      <td>21</td>\n",
       "      <td>14</td>\n",
       "      <td>0</td>\n",
       "      <td>...</td>\n",
       "      <td>0</td>\n",
       "      <td>177</td>\n",
       "      <td>0</td>\n",
       "      <td>0</td>\n",
       "      <td>14</td>\n",
       "      <td>0</td>\n",
       "      <td>0</td>\n",
       "      <td>0</td>\n",
       "      <td>160</td>\n",
       "      <td>10</td>\n",
       "    </tr>\n",
       "    <tr>\n",
       "      <th>8307</th>\n",
       "      <td>1365</td>\n",
       "      <td>751</td>\n",
       "      <td>81</td>\n",
       "      <td>56</td>\n",
       "      <td>168</td>\n",
       "      <td>36</td>\n",
       "      <td>81</td>\n",
       "      <td>0</td>\n",
       "      <td>0</td>\n",
       "      <td>78</td>\n",
       "      <td>...</td>\n",
       "      <td>76</td>\n",
       "      <td>108</td>\n",
       "      <td>0</td>\n",
       "      <td>0</td>\n",
       "      <td>0</td>\n",
       "      <td>0</td>\n",
       "      <td>0</td>\n",
       "      <td>0</td>\n",
       "      <td>250</td>\n",
       "      <td>47</td>\n",
       "    </tr>\n",
       "  </tbody>\n",
       "</table>\n",
       "<p>5 rows × 2548 columns</p>\n",
       "</div>"
      ],
      "text/plain": [
       "          our206  our207  our208  our209  our210  our211  our212  our213  \\\n",
       "LOGRECNO                                                                   \n",
       "8303        1102     389      26       9      34       0      27       0   \n",
       "8304        1061     470      33      31      43      20      31       0   \n",
       "8305        2828    1344     217      93     141     137       0      35   \n",
       "8306         764     341      31       0      21      14       0      21   \n",
       "8307        1365     751      81      56     168      36      81       0   \n",
       "\n",
       "          our214  our215    ...     our34357  our34358  our34359  our34360  \\\n",
       "LOGRECNO                    ...                                              \n",
       "8303          19       7    ...           14        68         0         0   \n",
       "8304          15       6    ...            0       107         0         0   \n",
       "8305          51      92    ...            0       279        11         0   \n",
       "8306          14       0    ...            0       177         0         0   \n",
       "8307           0      78    ...           76       108         0         0   \n",
       "\n",
       "          our34361  our34362  our34363  our34364  our34365  our34366  \n",
       "LOGRECNO                                                              \n",
       "8303             2         0         0        38       280        31  \n",
       "8304             8         0         0        52       218        50  \n",
       "8305             0         0         0       140       657       336  \n",
       "8306            14         0         0         0       160        10  \n",
       "8307             0         0         0         0       250        47  \n",
       "\n",
       "[5 rows x 2548 columns]"
      ]
     },
     "execution_count": 83,
     "metadata": {},
     "output_type": "execute_result"
    }
   ],
   "source": [
    "b.columns = [blockID.get(x, '_'+x) for x in b.columns]\n",
    "b.head()"
   ]
  },
  {
   "cell_type": "code",
   "execution_count": 88,
   "metadata": {
    "collapsed": false
   },
   "outputs": [
    {
     "name": "stdout",
     "output_type": "stream",
     "text": [
      "(15463, 626)\n"
     ]
    }
   ],
   "source": [
    "b50 = b.dropna(axis=1, thresh=b.shape[0]/2)\n",
    "print b50.shape\n",
    "b50.to_csv('../../Data/refined_data/blocks50.csv')"
   ]
  },
  {
   "cell_type": "markdown",
   "metadata": {},
   "source": [
    "## Overlap back PUMAS with data we have  in Blocks"
   ]
  },
  {
   "cell_type": "code",
   "execution_count": 90,
   "metadata": {
    "collapsed": false
   },
   "outputs": [
    {
     "name": "stdout",
     "output_type": "stream",
     "text": [
      "(6340, 3466)\n"
     ]
    },
    {
     "data": {
      "text/plain": [
       "(6340, 626)"
      ]
     },
     "execution_count": 90,
     "metadata": {},
     "output_type": "execute_result"
    }
   ],
   "source": [
    "print p50.shape\n",
    "p50b = p50[b50.columns]\n",
    "p50b.shape"
   ]
  },
  {
   "cell_type": "code",
   "execution_count": 92,
   "metadata": {
    "collapsed": true
   },
   "outputs": [],
   "source": [
    "p50b.to_csv('../../Data/refined_data/puma50.csv')"
   ]
  },
  {
   "cell_type": "code",
   "execution_count": 98,
   "metadata": {
    "collapsed": false
   },
   "outputs": [],
   "source": [
    "r[r.ourID.isin(b50.columns)].to_csv('../../Data/refined_data/features_we_use.csv')"
   ]
  },
  {
   "cell_type": "code",
   "execution_count": null,
   "metadata": {
    "collapsed": true
   },
   "outputs": [],
   "source": []
  }
 ],
 "metadata": {
  "kernelspec": {
   "display_name": "Python 2",
   "language": "python",
   "name": "python2"
  },
  "language_info": {
   "codemirror_mode": {
    "name": "ipython",
    "version": 2
   },
   "file_extension": ".py",
   "mimetype": "text/x-python",
   "name": "python",
   "nbconvert_exporter": "python",
   "pygments_lexer": "ipython2",
   "version": "2.7.11"
  }
 },
 "nbformat": 4,
 "nbformat_minor": 0
}
