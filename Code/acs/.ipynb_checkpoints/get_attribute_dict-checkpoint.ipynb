{
 "cells": [
  {
   "cell_type": "code",
   "execution_count": 26,
   "metadata": {
    "collapsed": true
   },
   "outputs": [],
   "source": [
    "import pandas as pd\n",
    "import numpy as np"
   ]
  },
  {
   "cell_type": "code",
   "execution_count": 45,
   "metadata": {
    "collapsed": true
   },
   "outputs": [],
   "source": [
    "def process_lookup(path):\n",
    "    df = pd.read_csv(path)\n",
    "    df['Q'] = df[pd.notnull(df['Total Cells in Table'])]['Table Title']\n",
    "    df['Q'] = df['Q'].fillna(method='ffill')\n",
    "    df['Sequence Number'] = df['Sequence Number'].apply(lambda x: str(x).zfill(4))\n",
    "    df = df[df['Line Number'].str.strip().str.len() >0]\n",
    "    \n",
    "    df['A'] = df[df['Table Title'].str.endswith(':')]['Table Title']\n",
    "    df['A'] = df.groupby(['Table ID', 'Q'])['A'].transform(lambda group: group.ffill())\n",
    "\n",
    "    df['Column'] = df['Sequence Number'] +'_' + df['Line Number'].astype(str)\n",
    "    \n",
    "    df['dataCol'] = np.NAN\n",
    "    df['dataCol'] = df.groupby('Sequence Number')['dataCol'].transform(lambda group:  (group.reset_index().index +1).astype(str))\n",
    "    df['dataCol'] = df['Sequence Number'] +'_' + df['dataCol'].astype(int).astype(str)\n",
    "\n",
    "    return df[['Table ID', 'Column','dataCol', 'Q', 'A', 'Table Title']]"
   ]
  },
  {
   "cell_type": "code",
   "execution_count": 40,
   "metadata": {
    "collapsed": false
   },
   "outputs": [],
   "source": [
    "pa = process_lookup('../../Data/raw_aggData/lookup_table20131Y.csv')\n",
    "ba = process_lookup('../../Data/raw_aggData/lookup_table20135Y.csv')"
   ]
  },
  {
   "cell_type": "code",
   "execution_count": 46,
   "metadata": {
    "collapsed": false,
    "scrolled": false
   },
   "outputs": [
    {
     "data": {
      "text/html": [
       "<div>\n",
       "<table border=\"1\" class=\"dataframe\">\n",
       "  <thead>\n",
       "    <tr style=\"text-align: right;\">\n",
       "      <th></th>\n",
       "      <th>Table ID</th>\n",
       "      <th>Column</th>\n",
       "      <th>dataCol</th>\n",
       "      <th>Q</th>\n",
       "      <th>A</th>\n",
       "      <th>Table Title</th>\n",
       "    </tr>\n",
       "  </thead>\n",
       "  <tbody>\n",
       "    <tr>\n",
       "      <th>2</th>\n",
       "      <td>B00001</td>\n",
       "      <td>0001_1</td>\n",
       "      <td>0001_1</td>\n",
       "      <td>UNWEIGHTED SAMPLE COUNT OF THE POPULATION</td>\n",
       "      <td>NaN</td>\n",
       "      <td>Total</td>\n",
       "    </tr>\n",
       "    <tr>\n",
       "      <th>5</th>\n",
       "      <td>B00002</td>\n",
       "      <td>0001_1</td>\n",
       "      <td>0001_2</td>\n",
       "      <td>UNWEIGHTED SAMPLE HOUSING UNITS</td>\n",
       "      <td>NaN</td>\n",
       "      <td>Total</td>\n",
       "    </tr>\n",
       "    <tr>\n",
       "      <th>8</th>\n",
       "      <td>B01001</td>\n",
       "      <td>0002_1</td>\n",
       "      <td>0002_1</td>\n",
       "      <td>SEX BY AGE</td>\n",
       "      <td>Total:</td>\n",
       "      <td>Total:</td>\n",
       "    </tr>\n",
       "    <tr>\n",
       "      <th>9</th>\n",
       "      <td>B01001</td>\n",
       "      <td>0002_2</td>\n",
       "      <td>0002_2</td>\n",
       "      <td>SEX BY AGE</td>\n",
       "      <td>Male:</td>\n",
       "      <td>Male:</td>\n",
       "    </tr>\n",
       "    <tr>\n",
       "      <th>10</th>\n",
       "      <td>B01001</td>\n",
       "      <td>0002_3</td>\n",
       "      <td>0002_3</td>\n",
       "      <td>SEX BY AGE</td>\n",
       "      <td>Male:</td>\n",
       "      <td>Under 5 years</td>\n",
       "    </tr>\n",
       "    <tr>\n",
       "      <th>11</th>\n",
       "      <td>B01001</td>\n",
       "      <td>0002_4</td>\n",
       "      <td>0002_4</td>\n",
       "      <td>SEX BY AGE</td>\n",
       "      <td>Male:</td>\n",
       "      <td>5 to 9 years</td>\n",
       "    </tr>\n",
       "    <tr>\n",
       "      <th>12</th>\n",
       "      <td>B01001</td>\n",
       "      <td>0002_5</td>\n",
       "      <td>0002_5</td>\n",
       "      <td>SEX BY AGE</td>\n",
       "      <td>Male:</td>\n",
       "      <td>10 to 14 years</td>\n",
       "    </tr>\n",
       "    <tr>\n",
       "      <th>13</th>\n",
       "      <td>B01001</td>\n",
       "      <td>0002_6</td>\n",
       "      <td>0002_6</td>\n",
       "      <td>SEX BY AGE</td>\n",
       "      <td>Male:</td>\n",
       "      <td>15 to 17 years</td>\n",
       "    </tr>\n",
       "    <tr>\n",
       "      <th>14</th>\n",
       "      <td>B01001</td>\n",
       "      <td>0002_7</td>\n",
       "      <td>0002_7</td>\n",
       "      <td>SEX BY AGE</td>\n",
       "      <td>Male:</td>\n",
       "      <td>18 and 19 years</td>\n",
       "    </tr>\n",
       "    <tr>\n",
       "      <th>15</th>\n",
       "      <td>B01001</td>\n",
       "      <td>0002_8</td>\n",
       "      <td>0002_8</td>\n",
       "      <td>SEX BY AGE</td>\n",
       "      <td>Male:</td>\n",
       "      <td>20 years</td>\n",
       "    </tr>\n",
       "  </tbody>\n",
       "</table>\n",
       "</div>"
      ],
      "text/plain": [
       "   Table ID  Column dataCol                                          Q  \\\n",
       "2    B00001  0001_1  0001_1  UNWEIGHTED SAMPLE COUNT OF THE POPULATION   \n",
       "5    B00002  0001_1  0001_2            UNWEIGHTED SAMPLE HOUSING UNITS   \n",
       "8    B01001  0002_1  0002_1                                 SEX BY AGE   \n",
       "9    B01001  0002_2  0002_2                                 SEX BY AGE   \n",
       "10   B01001  0002_3  0002_3                                 SEX BY AGE   \n",
       "11   B01001  0002_4  0002_4                                 SEX BY AGE   \n",
       "12   B01001  0002_5  0002_5                                 SEX BY AGE   \n",
       "13   B01001  0002_6  0002_6                                 SEX BY AGE   \n",
       "14   B01001  0002_7  0002_7                                 SEX BY AGE   \n",
       "15   B01001  0002_8  0002_8                                 SEX BY AGE   \n",
       "\n",
       "         A      Table Title  \n",
       "2      NaN            Total  \n",
       "5      NaN            Total  \n",
       "8   Total:           Total:  \n",
       "9    Male:            Male:  \n",
       "10   Male:    Under 5 years  \n",
       "11   Male:     5 to 9 years  \n",
       "12   Male:   10 to 14 years  \n",
       "13   Male:   15 to 17 years  \n",
       "14   Male:  18 and 19 years  \n",
       "15   Male:         20 years  "
      ]
     },
     "execution_count": 46,
     "metadata": {},
     "output_type": "execute_result"
    }
   ],
   "source": [
    "pa.head(10)"
   ]
  },
  {
   "cell_type": "code",
   "execution_count": 47,
   "metadata": {
    "collapsed": false
   },
   "outputs": [
    {
     "data": {
      "text/html": [
       "<div>\n",
       "<table border=\"1\" class=\"dataframe\">\n",
       "  <thead>\n",
       "    <tr style=\"text-align: right;\">\n",
       "      <th></th>\n",
       "      <th>Table ID</th>\n",
       "      <th>Column</th>\n",
       "      <th>dataCol</th>\n",
       "      <th>Q</th>\n",
       "      <th>A</th>\n",
       "      <th>Table Title</th>\n",
       "    </tr>\n",
       "  </thead>\n",
       "  <tbody>\n",
       "    <tr>\n",
       "      <th>2</th>\n",
       "      <td>B00001</td>\n",
       "      <td>0001_1</td>\n",
       "      <td>0001_1</td>\n",
       "      <td>UNWEIGHTED SAMPLE COUNT OF THE POPULATION</td>\n",
       "      <td>NaN</td>\n",
       "      <td>Total</td>\n",
       "    </tr>\n",
       "    <tr>\n",
       "      <th>5</th>\n",
       "      <td>B00002</td>\n",
       "      <td>0001_1</td>\n",
       "      <td>0001_2</td>\n",
       "      <td>UNWEIGHTED SAMPLE HOUSING UNITS</td>\n",
       "      <td>NaN</td>\n",
       "      <td>Total</td>\n",
       "    </tr>\n",
       "    <tr>\n",
       "      <th>8</th>\n",
       "      <td>B01001</td>\n",
       "      <td>0002_1</td>\n",
       "      <td>0002_1</td>\n",
       "      <td>SEX BY AGE</td>\n",
       "      <td>Total:</td>\n",
       "      <td>Total:</td>\n",
       "    </tr>\n",
       "    <tr>\n",
       "      <th>9</th>\n",
       "      <td>B01001</td>\n",
       "      <td>0002_2</td>\n",
       "      <td>0002_2</td>\n",
       "      <td>SEX BY AGE</td>\n",
       "      <td>Male:</td>\n",
       "      <td>Male:</td>\n",
       "    </tr>\n",
       "    <tr>\n",
       "      <th>10</th>\n",
       "      <td>B01001</td>\n",
       "      <td>0002_3</td>\n",
       "      <td>0002_3</td>\n",
       "      <td>SEX BY AGE</td>\n",
       "      <td>Male:</td>\n",
       "      <td>Under 5 years</td>\n",
       "    </tr>\n",
       "    <tr>\n",
       "      <th>11</th>\n",
       "      <td>B01001</td>\n",
       "      <td>0002_4</td>\n",
       "      <td>0002_4</td>\n",
       "      <td>SEX BY AGE</td>\n",
       "      <td>Male:</td>\n",
       "      <td>5 to 9 years</td>\n",
       "    </tr>\n",
       "    <tr>\n",
       "      <th>12</th>\n",
       "      <td>B01001</td>\n",
       "      <td>0002_5</td>\n",
       "      <td>0002_5</td>\n",
       "      <td>SEX BY AGE</td>\n",
       "      <td>Male:</td>\n",
       "      <td>10 to 14 years</td>\n",
       "    </tr>\n",
       "    <tr>\n",
       "      <th>13</th>\n",
       "      <td>B01001</td>\n",
       "      <td>0002_6</td>\n",
       "      <td>0002_6</td>\n",
       "      <td>SEX BY AGE</td>\n",
       "      <td>Male:</td>\n",
       "      <td>15 to 17 years</td>\n",
       "    </tr>\n",
       "    <tr>\n",
       "      <th>14</th>\n",
       "      <td>B01001</td>\n",
       "      <td>0002_7</td>\n",
       "      <td>0002_7</td>\n",
       "      <td>SEX BY AGE</td>\n",
       "      <td>Male:</td>\n",
       "      <td>18 and 19 years</td>\n",
       "    </tr>\n",
       "    <tr>\n",
       "      <th>15</th>\n",
       "      <td>B01001</td>\n",
       "      <td>0002_8</td>\n",
       "      <td>0002_8</td>\n",
       "      <td>SEX BY AGE</td>\n",
       "      <td>Male:</td>\n",
       "      <td>20 years</td>\n",
       "    </tr>\n",
       "  </tbody>\n",
       "</table>\n",
       "</div>"
      ],
      "text/plain": [
       "   Table ID  Column dataCol                                          Q  \\\n",
       "2    B00001  0001_1  0001_1  UNWEIGHTED SAMPLE COUNT OF THE POPULATION   \n",
       "5    B00002  0001_1  0001_2            UNWEIGHTED SAMPLE HOUSING UNITS   \n",
       "8    B01001  0002_1  0002_1                                 SEX BY AGE   \n",
       "9    B01001  0002_2  0002_2                                 SEX BY AGE   \n",
       "10   B01001  0002_3  0002_3                                 SEX BY AGE   \n",
       "11   B01001  0002_4  0002_4                                 SEX BY AGE   \n",
       "12   B01001  0002_5  0002_5                                 SEX BY AGE   \n",
       "13   B01001  0002_6  0002_6                                 SEX BY AGE   \n",
       "14   B01001  0002_7  0002_7                                 SEX BY AGE   \n",
       "15   B01001  0002_8  0002_8                                 SEX BY AGE   \n",
       "\n",
       "         A      Table Title  \n",
       "2      NaN            Total  \n",
       "5      NaN            Total  \n",
       "8   Total:           Total:  \n",
       "9    Male:            Male:  \n",
       "10   Male:    Under 5 years  \n",
       "11   Male:     5 to 9 years  \n",
       "12   Male:   10 to 14 years  \n",
       "13   Male:   15 to 17 years  \n",
       "14   Male:  18 and 19 years  \n",
       "15   Male:         20 years  "
      ]
     },
     "execution_count": 47,
     "metadata": {},
     "output_type": "execute_result"
    }
   ],
   "source": [
    "ba.head(10)"
   ]
  },
  {
   "cell_type": "markdown",
   "metadata": {},
   "source": [
    "# Intersecting Table ID's"
   ]
  },
  {
   "cell_type": "code",
   "execution_count": 48,
   "metadata": {
    "collapsed": false
   },
   "outputs": [
    {
     "data": {
      "text/plain": [
       "1040"
      ]
     },
     "execution_count": 48,
     "metadata": {},
     "output_type": "execute_result"
    }
   ],
   "source": [
    "len([ x for x in pa['Table ID'].unique().tolist() if x in ba['Table ID'].unique().tolist()])"
   ]
  },
  {
   "cell_type": "code",
   "execution_count": 49,
   "metadata": {
    "collapsed": false
   },
   "outputs": [],
   "source": [
    "df = pa.merge(ba, how='inner', on=['Table ID','Q', 'A', 'Table Title'])\n",
    "df.rename(columns={'dataCol_x':'puma_attr', 'dataCol_y':'block_attr'}, inplace=1)"
   ]
  },
  {
   "cell_type": "code",
   "execution_count": 50,
   "metadata": {
    "collapsed": false
   },
   "outputs": [
    {
     "data": {
      "text/plain": [
       "(43243, 8)"
      ]
     },
     "execution_count": 50,
     "metadata": {},
     "output_type": "execute_result"
    }
   ],
   "source": [
    "df.shape"
   ]
  },
  {
   "cell_type": "code",
   "execution_count": 51,
   "metadata": {
    "collapsed": true
   },
   "outputs": [],
   "source": [
    "df.Q = df.Q.str.lower()\n",
    "df['Table Title'] = df['Table Title'].str.lower()"
   ]
  },
  {
   "cell_type": "code",
   "execution_count": 52,
   "metadata": {
    "collapsed": false
   },
   "outputs": [
    {
     "data": {
      "text/plain": [
       "(42803, 8)"
      ]
     },
     "execution_count": 52,
     "metadata": {},
     "output_type": "execute_result"
    }
   ],
   "source": [
    "# dropping all imputations\n",
    "df = df[~df['Q'].str.contains('imputation')]\n",
    "df.shape"
   ]
  },
  {
   "cell_type": "code",
   "execution_count": 53,
   "metadata": {
    "collapsed": false
   },
   "outputs": [
    {
     "data": {
      "text/plain": [
       "(42796, 8)"
      ]
     },
     "execution_count": 53,
     "metadata": {},
     "output_type": "execute_result"
    }
   ],
   "source": [
    "# dropping all samples\n",
    "df = df[~df['Q'].str.contains('sample')]\n",
    "df.shape"
   ]
  },
  {
   "cell_type": "code",
   "execution_count": 54,
   "metadata": {
    "collapsed": false
   },
   "outputs": [],
   "source": [
    "df['Q_name'] = df.apply(lambda x:'%s_%s_%s_%s' % (x['Table ID'],x['Q'],x['A'],x['Table Title']),axis=1)"
   ]
  },
  {
   "cell_type": "code",
   "execution_count": 55,
   "metadata": {
    "collapsed": false
   },
   "outputs": [
    {
     "data": {
      "text/html": [
       "<div>\n",
       "<table border=\"1\" class=\"dataframe\">\n",
       "  <thead>\n",
       "    <tr style=\"text-align: right;\">\n",
       "      <th></th>\n",
       "      <th>Table ID</th>\n",
       "      <th>Column_x</th>\n",
       "      <th>puma_attr</th>\n",
       "      <th>Q</th>\n",
       "      <th>A</th>\n",
       "      <th>Table Title</th>\n",
       "      <th>Column_y</th>\n",
       "      <th>block_attr</th>\n",
       "      <th>Q_name</th>\n",
       "    </tr>\n",
       "  </thead>\n",
       "  <tbody>\n",
       "    <tr>\n",
       "      <th>381</th>\n",
       "      <td>B02008</td>\n",
       "      <td>0004_1</td>\n",
       "      <td>0004_82</td>\n",
       "      <td>white alone or in combination with one or more...</td>\n",
       "      <td>Total:</td>\n",
       "      <td>total:</td>\n",
       "      <td>0004_1</td>\n",
       "      <td>0004_91</td>\n",
       "      <td>B02008_white alone or in combination with one ...</td>\n",
       "    </tr>\n",
       "    <tr>\n",
       "      <th>382</th>\n",
       "      <td>B02009</td>\n",
       "      <td>0004_1</td>\n",
       "      <td>0004_83</td>\n",
       "      <td>black or african american alone or in combinat...</td>\n",
       "      <td>Total:</td>\n",
       "      <td>total:</td>\n",
       "      <td>0004_1</td>\n",
       "      <td>0004_92</td>\n",
       "      <td>B02009_black or african american alone or in c...</td>\n",
       "    </tr>\n",
       "    <tr>\n",
       "      <th>383</th>\n",
       "      <td>B02010</td>\n",
       "      <td>0004_1</td>\n",
       "      <td>0004_84</td>\n",
       "      <td>american indian and alaska native alone or in ...</td>\n",
       "      <td>Total:</td>\n",
       "      <td>total:</td>\n",
       "      <td>0004_1</td>\n",
       "      <td>0004_93</td>\n",
       "      <td>B02010_american indian and alaska native alone...</td>\n",
       "    </tr>\n",
       "    <tr>\n",
       "      <th>384</th>\n",
       "      <td>B02011</td>\n",
       "      <td>0004_1</td>\n",
       "      <td>0004_85</td>\n",
       "      <td>asian alone or in combination with one or more...</td>\n",
       "      <td>Total:</td>\n",
       "      <td>total:</td>\n",
       "      <td>0004_1</td>\n",
       "      <td>0004_94</td>\n",
       "      <td>B02011_asian alone or in combination with one ...</td>\n",
       "    </tr>\n",
       "    <tr>\n",
       "      <th>385</th>\n",
       "      <td>B02012</td>\n",
       "      <td>0004_1</td>\n",
       "      <td>0004_86</td>\n",
       "      <td>native hawaiian and other pacific islander alo...</td>\n",
       "      <td>Total:</td>\n",
       "      <td>total:</td>\n",
       "      <td>0004_1</td>\n",
       "      <td>0004_95</td>\n",
       "      <td>B02012_native hawaiian and other pacific islan...</td>\n",
       "    </tr>\n",
       "    <tr>\n",
       "      <th>386</th>\n",
       "      <td>B02013</td>\n",
       "      <td>0004_1</td>\n",
       "      <td>0004_87</td>\n",
       "      <td>some other race alone or in combination with o...</td>\n",
       "      <td>Total:</td>\n",
       "      <td>total:</td>\n",
       "      <td>0004_1</td>\n",
       "      <td>0004_96</td>\n",
       "      <td>B02013_some other race alone or in combination...</td>\n",
       "    </tr>\n",
       "    <tr>\n",
       "      <th>387</th>\n",
       "      <td>C02003</td>\n",
       "      <td>0004_1</td>\n",
       "      <td>0004_183</td>\n",
       "      <td>detailed race</td>\n",
       "      <td>Total:</td>\n",
       "      <td>total:</td>\n",
       "      <td>0004_1</td>\n",
       "      <td>0004_97</td>\n",
       "      <td>C02003_detailed race_Total:_total:</td>\n",
       "    </tr>\n",
       "    <tr>\n",
       "      <th>388</th>\n",
       "      <td>C02003</td>\n",
       "      <td>0004_2</td>\n",
       "      <td>0004_184</td>\n",
       "      <td>detailed race</td>\n",
       "      <td>Population of one race:</td>\n",
       "      <td>population of one race:</td>\n",
       "      <td>0004_2</td>\n",
       "      <td>0004_98</td>\n",
       "      <td>C02003_detailed race_Population of one race:_p...</td>\n",
       "    </tr>\n",
       "    <tr>\n",
       "      <th>389</th>\n",
       "      <td>C02003</td>\n",
       "      <td>0004_3</td>\n",
       "      <td>0004_185</td>\n",
       "      <td>detailed race</td>\n",
       "      <td>Population of one race:</td>\n",
       "      <td>white</td>\n",
       "      <td>0004_3</td>\n",
       "      <td>0004_99</td>\n",
       "      <td>C02003_detailed race_Population of one race:_w...</td>\n",
       "    </tr>\n",
       "    <tr>\n",
       "      <th>390</th>\n",
       "      <td>C02003</td>\n",
       "      <td>0004_4</td>\n",
       "      <td>0004_186</td>\n",
       "      <td>detailed race</td>\n",
       "      <td>Population of one race:</td>\n",
       "      <td>black or african american</td>\n",
       "      <td>0004_4</td>\n",
       "      <td>0004_100</td>\n",
       "      <td>C02003_detailed race_Population of one race:_b...</td>\n",
       "    </tr>\n",
       "  </tbody>\n",
       "</table>\n",
       "</div>"
      ],
      "text/plain": [
       "    Table ID Column_x puma_attr  \\\n",
       "381   B02008   0004_1   0004_82   \n",
       "382   B02009   0004_1   0004_83   \n",
       "383   B02010   0004_1   0004_84   \n",
       "384   B02011   0004_1   0004_85   \n",
       "385   B02012   0004_1   0004_86   \n",
       "386   B02013   0004_1   0004_87   \n",
       "387   C02003   0004_1  0004_183   \n",
       "388   C02003   0004_2  0004_184   \n",
       "389   C02003   0004_3  0004_185   \n",
       "390   C02003   0004_4  0004_186   \n",
       "\n",
       "                                                     Q  \\\n",
       "381  white alone or in combination with one or more...   \n",
       "382  black or african american alone or in combinat...   \n",
       "383  american indian and alaska native alone or in ...   \n",
       "384  asian alone or in combination with one or more...   \n",
       "385  native hawaiian and other pacific islander alo...   \n",
       "386  some other race alone or in combination with o...   \n",
       "387                                      detailed race   \n",
       "388                                      detailed race   \n",
       "389                                      detailed race   \n",
       "390                                      detailed race   \n",
       "\n",
       "                           A                Table Title Column_y block_attr  \\\n",
       "381                   Total:                     total:   0004_1    0004_91   \n",
       "382                   Total:                     total:   0004_1    0004_92   \n",
       "383                   Total:                     total:   0004_1    0004_93   \n",
       "384                   Total:                     total:   0004_1    0004_94   \n",
       "385                   Total:                     total:   0004_1    0004_95   \n",
       "386                   Total:                     total:   0004_1    0004_96   \n",
       "387                   Total:                     total:   0004_1    0004_97   \n",
       "388  Population of one race:    population of one race:   0004_2    0004_98   \n",
       "389  Population of one race:                      white   0004_3    0004_99   \n",
       "390  Population of one race:  black or african american   0004_4   0004_100   \n",
       "\n",
       "                                                Q_name  \n",
       "381  B02008_white alone or in combination with one ...  \n",
       "382  B02009_black or african american alone or in c...  \n",
       "383  B02010_american indian and alaska native alone...  \n",
       "384  B02011_asian alone or in combination with one ...  \n",
       "385  B02012_native hawaiian and other pacific islan...  \n",
       "386  B02013_some other race alone or in combination...  \n",
       "387                 C02003_detailed race_Total:_total:  \n",
       "388  C02003_detailed race_Population of one race:_p...  \n",
       "389  C02003_detailed race_Population of one race:_w...  \n",
       "390  C02003_detailed race_Population of one race:_b...  "
      ]
     },
     "execution_count": 55,
     "metadata": {},
     "output_type": "execute_result"
    }
   ],
   "source": [
    "df[df['puma_attr']!=df['block_attr']].head(10)"
   ]
  },
  {
   "cell_type": "code",
   "execution_count": 56,
   "metadata": {
    "collapsed": false
   },
   "outputs": [
    {
     "name": "stderr",
     "output_type": "stream",
     "text": [
      "/Users/casy/anaconda/lib/python2.7/site-packages/ipykernel/__main__.py:3: SettingWithCopyWarning: \n",
      "A value is trying to be set on a copy of a slice from a DataFrame.\n",
      "Try using .loc[row_indexer,col_indexer] = value instead\n",
      "\n",
      "See the caveats in the documentation: http://pandas.pydata.org/pandas-docs/stable/indexing.html#indexing-view-versus-copy\n",
      "  app.launch_new_instance()\n",
      "/Users/casy/anaconda/lib/python2.7/site-packages/ipykernel/__main__.py:4: SettingWithCopyWarning: \n",
      "A value is trying to be set on a copy of a slice from a DataFrame\n",
      "\n",
      "See the caveats in the documentation: http://pandas.pydata.org/pandas-docs/stable/indexing.html#indexing-view-versus-copy\n"
     ]
    }
   ],
   "source": [
    "r = df[['Q_name', 'puma_attr','block_attr']]\n",
    "r.reset_index(inplace=1)\n",
    "r['ourID'] = r['index'].apply(lambda x: 'our%d' % x)\n",
    "r.drop('index',1, inplace=1)"
   ]
  },
  {
   "cell_type": "code",
   "execution_count": 58,
   "metadata": {
    "collapsed": false
   },
   "outputs": [],
   "source": [
    "# r['puma_attr'] = r.puma_attr.apply(lambda x: '_'.join((x.split('_')[0].zfill(4), x.split('_')[1])))\n",
    "# r['block_attr'] = r.puma_attr.apply(lambda x: '_'.join((x.split('_')[0].zfill(4), x.split('_')[1])))"
   ]
  },
  {
   "cell_type": "code",
   "execution_count": 59,
   "metadata": {
    "collapsed": false
   },
   "outputs": [
    {
     "data": {
      "text/html": [
       "<div>\n",
       "<table border=\"1\" class=\"dataframe\">\n",
       "  <thead>\n",
       "    <tr style=\"text-align: right;\">\n",
       "      <th></th>\n",
       "      <th>Q_name</th>\n",
       "      <th>puma_attr</th>\n",
       "      <th>block_attr</th>\n",
       "      <th>ourID</th>\n",
       "    </tr>\n",
       "  </thead>\n",
       "  <tbody>\n",
       "    <tr>\n",
       "      <th>0</th>\n",
       "      <td>B01001_sex by age_Total:_total:</td>\n",
       "      <td>0002_1</td>\n",
       "      <td>0002_1</td>\n",
       "      <td>our2</td>\n",
       "    </tr>\n",
       "    <tr>\n",
       "      <th>1</th>\n",
       "      <td>B01001_sex by age_Male:_male:</td>\n",
       "      <td>0002_2</td>\n",
       "      <td>0002_2</td>\n",
       "      <td>our3</td>\n",
       "    </tr>\n",
       "    <tr>\n",
       "      <th>2</th>\n",
       "      <td>B01001_sex by age_Male:_under 5 years</td>\n",
       "      <td>0002_3</td>\n",
       "      <td>0002_3</td>\n",
       "      <td>our4</td>\n",
       "    </tr>\n",
       "    <tr>\n",
       "      <th>3</th>\n",
       "      <td>B01001_sex by age_Male:_5 to 9 years</td>\n",
       "      <td>0002_4</td>\n",
       "      <td>0002_4</td>\n",
       "      <td>our5</td>\n",
       "    </tr>\n",
       "    <tr>\n",
       "      <th>4</th>\n",
       "      <td>B01001_sex by age_Male:_10 to 14 years</td>\n",
       "      <td>0002_5</td>\n",
       "      <td>0002_5</td>\n",
       "      <td>our6</td>\n",
       "    </tr>\n",
       "    <tr>\n",
       "      <th>5</th>\n",
       "      <td>B01001_sex by age_Male:_15 to 17 years</td>\n",
       "      <td>0002_6</td>\n",
       "      <td>0002_6</td>\n",
       "      <td>our7</td>\n",
       "    </tr>\n",
       "    <tr>\n",
       "      <th>6</th>\n",
       "      <td>B01001_sex by age_Male:_18 and 19 years</td>\n",
       "      <td>0002_7</td>\n",
       "      <td>0002_7</td>\n",
       "      <td>our8</td>\n",
       "    </tr>\n",
       "    <tr>\n",
       "      <th>7</th>\n",
       "      <td>B01001_sex by age_Male:_20 years</td>\n",
       "      <td>0002_8</td>\n",
       "      <td>0002_8</td>\n",
       "      <td>our9</td>\n",
       "    </tr>\n",
       "    <tr>\n",
       "      <th>8</th>\n",
       "      <td>B01001_sex by age_Male:_21 years</td>\n",
       "      <td>0002_9</td>\n",
       "      <td>0002_9</td>\n",
       "      <td>our10</td>\n",
       "    </tr>\n",
       "    <tr>\n",
       "      <th>9</th>\n",
       "      <td>B01001_sex by age_Male:_22 to 24 years</td>\n",
       "      <td>0002_10</td>\n",
       "      <td>0002_10</td>\n",
       "      <td>our11</td>\n",
       "    </tr>\n",
       "  </tbody>\n",
       "</table>\n",
       "</div>"
      ],
      "text/plain": [
       "                                    Q_name puma_attr block_attr  ourID\n",
       "0          B01001_sex by age_Total:_total:    0002_1     0002_1   our2\n",
       "1            B01001_sex by age_Male:_male:    0002_2     0002_2   our3\n",
       "2    B01001_sex by age_Male:_under 5 years    0002_3     0002_3   our4\n",
       "3     B01001_sex by age_Male:_5 to 9 years    0002_4     0002_4   our5\n",
       "4   B01001_sex by age_Male:_10 to 14 years    0002_5     0002_5   our6\n",
       "5   B01001_sex by age_Male:_15 to 17 years    0002_6     0002_6   our7\n",
       "6  B01001_sex by age_Male:_18 and 19 years    0002_7     0002_7   our8\n",
       "7         B01001_sex by age_Male:_20 years    0002_8     0002_8   our9\n",
       "8         B01001_sex by age_Male:_21 years    0002_9     0002_9  our10\n",
       "9   B01001_sex by age_Male:_22 to 24 years   0002_10    0002_10  our11"
      ]
     },
     "execution_count": 59,
     "metadata": {},
     "output_type": "execute_result"
    }
   ],
   "source": [
    "r.head(10)"
   ]
  },
  {
   "cell_type": "code",
   "execution_count": 60,
   "metadata": {
    "collapsed": false
   },
   "outputs": [
    {
     "data": {
      "text/plain": [
       "True"
      ]
     },
     "execution_count": 60,
     "metadata": {},
     "output_type": "execute_result"
    }
   ],
   "source": [
    "r.shape[0] == r['ourID'].unique().shape[0]"
   ]
  },
  {
   "cell_type": "code",
   "execution_count": 61,
   "metadata": {
    "collapsed": false
   },
   "outputs": [],
   "source": [
    "r.to_csv('../../Data/raw_aggData/attr_interconn.csv')"
   ]
  },
  {
   "cell_type": "markdown",
   "metadata": {
    "collapsed": true
   },
   "source": [
    "### WHAT WE CAN PREDICT? WHAT THINHS ARE IN  PUMAS, but not in BLOCK LEVEL DATA?"
   ]
  },
  {
   "cell_type": "markdown",
   "metadata": {},
   "source": [
    "### inside BLOCKS but not in PUMAS"
   ]
  },
  {
   "cell_type": "code",
   "execution_count": 70,
   "metadata": {
    "collapsed": false
   },
   "outputs": [],
   "source": [
    "df2 = ba.merge(pa, how='left', on=['Table ID','Q', 'A', 'Table Title'])\n",
    "df2 = df2[pd.isnull(df2['dataCol_y'])]"
   ]
  },
  {
   "cell_type": "code",
   "execution_count": 71,
   "metadata": {
    "collapsed": false
   },
   "outputs": [
    {
     "data": {
      "text/plain": [
       "array(['AMERICAN INDIAN AND ALASKA NATIVE ALONE FOR SELECTED TRIBAL GROUPINGS',\n",
       "       'ASIAN ALONE BY SELECTED GROUPS',\n",
       "       'NATIVE HAWAIIAN AND OTHER PACIFIC ISLANDER ALONE BY SELECTED GROUPS'], dtype=object)"
      ]
     },
     "execution_count": 71,
     "metadata": {},
     "output_type": "execute_result"
    }
   ],
   "source": [
    "df2['Q'].unique()"
   ]
  },
  {
   "cell_type": "markdown",
   "metadata": {},
   "source": [
    "### inside but not in BLOCKS"
   ]
  },
  {
   "cell_type": "code",
   "execution_count": 77,
   "metadata": {
    "collapsed": false
   },
   "outputs": [
    {
     "data": {
      "text/html": [
       "<div>\n",
       "<table border=\"1\" class=\"dataframe\">\n",
       "  <thead>\n",
       "    <tr style=\"text-align: right;\">\n",
       "      <th></th>\n",
       "      <th>0</th>\n",
       "    </tr>\n",
       "  </thead>\n",
       "  <tbody>\n",
       "    <tr>\n",
       "      <th>0</th>\n",
       "      <td>SEX BY AGE (WHITE ALONE)</td>\n",
       "    </tr>\n",
       "    <tr>\n",
       "      <th>1</th>\n",
       "      <td>SEX BY AGE (BLACK OR AFRICAN AMERICAN ALONE)</td>\n",
       "    </tr>\n",
       "    <tr>\n",
       "      <th>2</th>\n",
       "      <td>SEX BY AGE (AMERICAN INDIAN AND ALASKA NATIVE ...</td>\n",
       "    </tr>\n",
       "    <tr>\n",
       "      <th>3</th>\n",
       "      <td>SEX BY AGE (ASIAN ALONE)</td>\n",
       "    </tr>\n",
       "    <tr>\n",
       "      <th>4</th>\n",
       "      <td>SEX BY AGE (NATIVE HAWAIIAN AND OTHER PACIFIC ...</td>\n",
       "    </tr>\n",
       "    <tr>\n",
       "      <th>5</th>\n",
       "      <td>SEX BY AGE (SOME OTHER RACE ALONE)</td>\n",
       "    </tr>\n",
       "    <tr>\n",
       "      <th>6</th>\n",
       "      <td>SEX BY AGE (TWO OR MORE RACES)</td>\n",
       "    </tr>\n",
       "    <tr>\n",
       "      <th>7</th>\n",
       "      <td>SEX BY AGE (WHITE ALONE, NOT HISPANIC OR LATINO)</td>\n",
       "    </tr>\n",
       "    <tr>\n",
       "      <th>8</th>\n",
       "      <td>SEX BY AGE (HISPANIC OR LATINO)</td>\n",
       "    </tr>\n",
       "    <tr>\n",
       "      <th>9</th>\n",
       "      <td>DETAILED RACE</td>\n",
       "    </tr>\n",
       "    <tr>\n",
       "      <th>10</th>\n",
       "      <td>AMERICAN INDIAN AND ALASKA NATIVE ALONE FOR SE...</td>\n",
       "    </tr>\n",
       "    <tr>\n",
       "      <th>11</th>\n",
       "      <td>ASIAN ALONE BY SELECTED GROUPS</td>\n",
       "    </tr>\n",
       "    <tr>\n",
       "      <th>12</th>\n",
       "      <td>NATIVE HAWAIIAN AND OTHER PACIFIC ISLANDER ALO...</td>\n",
       "    </tr>\n",
       "    <tr>\n",
       "      <th>13</th>\n",
       "      <td>AMERICAN INDIAN AND ALASKA NATIVE (AIAN) ALONE...</td>\n",
       "    </tr>\n",
       "    <tr>\n",
       "      <th>14</th>\n",
       "      <td>ASIAN ALONE OR IN ANY COMBINATION BY SELECTED ...</td>\n",
       "    </tr>\n",
       "    <tr>\n",
       "      <th>15</th>\n",
       "      <td>NATIVE HAWAIIAN AND OTHER PACIFIC ISLANDER ALO...</td>\n",
       "    </tr>\n",
       "    <tr>\n",
       "      <th>16</th>\n",
       "      <td>HISPANIC OR LATINO ORIGIN BY SPECIFIC ORIGIN</td>\n",
       "    </tr>\n",
       "    <tr>\n",
       "      <th>17</th>\n",
       "      <td>HISPANIC OR LATINO ORIGIN BY RACE</td>\n",
       "    </tr>\n",
       "    <tr>\n",
       "      <th>18</th>\n",
       "      <td>FIRST ANCESTRY REPORTED</td>\n",
       "    </tr>\n",
       "    <tr>\n",
       "      <th>19</th>\n",
       "      <td>SECOND ANCESTRY REPORTED</td>\n",
       "    </tr>\n",
       "    <tr>\n",
       "      <th>20</th>\n",
       "      <td>TOTAL ANCESTRY REPORTED</td>\n",
       "    </tr>\n",
       "    <tr>\n",
       "      <th>21</th>\n",
       "      <td>PEOPLE REPORTING SINGLE ANCESTRY</td>\n",
       "    </tr>\n",
       "    <tr>\n",
       "      <th>22</th>\n",
       "      <td>PEOPLE REPORTING MULTIPLE ANCESTRY</td>\n",
       "    </tr>\n",
       "    <tr>\n",
       "      <th>23</th>\n",
       "      <td>PEOPLE REPORTING ANCESTRY</td>\n",
       "    </tr>\n",
       "    <tr>\n",
       "      <th>24</th>\n",
       "      <td>ANCESTRY</td>\n",
       "    </tr>\n",
       "    <tr>\n",
       "      <th>25</th>\n",
       "      <td>NATIVITY AND CITIZENSHIP STATUS IN THE UNITED ...</td>\n",
       "    </tr>\n",
       "    <tr>\n",
       "      <th>26</th>\n",
       "      <td>PLACE OF BIRTH BY NATIVITY</td>\n",
       "    </tr>\n",
       "    <tr>\n",
       "      <th>27</th>\n",
       "      <td>SEX BY AGE BY NATIVITY</td>\n",
       "    </tr>\n",
       "    <tr>\n",
       "      <th>28</th>\n",
       "      <td>YEAR OF ENTRY BY NATIVITY IN THE UNITED STATES</td>\n",
       "    </tr>\n",
       "    <tr>\n",
       "      <th>29</th>\n",
       "      <td>PLACE OF BIRTH FOR THE FOREIGN-BORN POPULATION</td>\n",
       "    </tr>\n",
       "    <tr>\n",
       "      <th>...</th>\n",
       "      <td>...</td>\n",
       "    </tr>\n",
       "    <tr>\n",
       "      <th>296</th>\n",
       "      <td>HEALTH INSURANCE COVERAGE STATUS AND TYPE BY W...</td>\n",
       "    </tr>\n",
       "    <tr>\n",
       "      <th>297</th>\n",
       "      <td>PRIVATE HEALTH INSURANCE BY WORK EXPERIENCE BY...</td>\n",
       "    </tr>\n",
       "    <tr>\n",
       "      <th>298</th>\n",
       "      <td>PRIVATE HEALTH INSURANCE BY WORK EXPERIENCE BY...</td>\n",
       "    </tr>\n",
       "    <tr>\n",
       "      <th>299</th>\n",
       "      <td>PUBLIC HEALTH INSURANCE BY WORK EXPERIENCE BY ...</td>\n",
       "    </tr>\n",
       "    <tr>\n",
       "      <th>300</th>\n",
       "      <td>PUBLIC HEALTH INSURANCE BY WORK EXPERIENCE BY AGE</td>\n",
       "    </tr>\n",
       "    <tr>\n",
       "      <th>301</th>\n",
       "      <td>HEALTH INSURANCE COVERAGE STATUS AND TYPE BY R...</td>\n",
       "    </tr>\n",
       "    <tr>\n",
       "      <th>302</th>\n",
       "      <td>PRIVATE HEALTH INSURANCE  BY RATIO OF INCOME T...</td>\n",
       "    </tr>\n",
       "    <tr>\n",
       "      <th>303</th>\n",
       "      <td>PUBLIC HEALTH INSURANCE BY RATIO OF INCOME TO ...</td>\n",
       "    </tr>\n",
       "    <tr>\n",
       "      <th>304</th>\n",
       "      <td>PRIVATE HEALTH INSURANCE BY RATIO OF INCOME TO...</td>\n",
       "    </tr>\n",
       "    <tr>\n",
       "      <th>305</th>\n",
       "      <td>HEALTH INSURANCE COVERAGE STATUS AND TYPE BY L...</td>\n",
       "    </tr>\n",
       "    <tr>\n",
       "      <th>306</th>\n",
       "      <td>PRIVATE HEALTH INSURANCE BY SEX BY ENROLLMENT ...</td>\n",
       "    </tr>\n",
       "    <tr>\n",
       "      <th>307</th>\n",
       "      <td>TYPES OF COMPUTERS IN HOUSEHOLD</td>\n",
       "    </tr>\n",
       "    <tr>\n",
       "      <th>308</th>\n",
       "      <td>PRESENCE AND TYPES OF INTERNET SUBSCRIPTIONS I...</td>\n",
       "    </tr>\n",
       "    <tr>\n",
       "      <th>309</th>\n",
       "      <td>PRESENCE OF A COMPUTER AND TYPE OF INTERNET SU...</td>\n",
       "    </tr>\n",
       "    <tr>\n",
       "      <th>310</th>\n",
       "      <td>HOUSEHOLD INCOME IN THE LAST 12 MONTHS (IN 201...</td>\n",
       "    </tr>\n",
       "    <tr>\n",
       "      <th>311</th>\n",
       "      <td>AGE BY PRESENCE OF A COMPUTER AND TYPES OF INT...</td>\n",
       "    </tr>\n",
       "    <tr>\n",
       "      <th>312</th>\n",
       "      <td>EDUCATIONAL ATTAINMENT BY PRESENCE OF A COMPUT...</td>\n",
       "    </tr>\n",
       "    <tr>\n",
       "      <th>313</th>\n",
       "      <td>LABOR FORCE STATUS BY PRESENCE OF A COMPUTER A...</td>\n",
       "    </tr>\n",
       "    <tr>\n",
       "      <th>314</th>\n",
       "      <td>PRESENCE OF A COMPUTER AND TYPE OF INTERNET SU...</td>\n",
       "    </tr>\n",
       "    <tr>\n",
       "      <th>315</th>\n",
       "      <td>PRESENCE OF A COMPUTER AND TYPE OF INTERNET SU...</td>\n",
       "    </tr>\n",
       "    <tr>\n",
       "      <th>316</th>\n",
       "      <td>PRESENCE OF A COMPUTER AND TYPE OF INTERNET SU...</td>\n",
       "    </tr>\n",
       "    <tr>\n",
       "      <th>317</th>\n",
       "      <td>PRESENCE OF A COMPUTER AND TYPE OF INTERNET SU...</td>\n",
       "    </tr>\n",
       "    <tr>\n",
       "      <th>318</th>\n",
       "      <td>PRESENCE OF A COMPUTER AND TYPE OF INTERNET SU...</td>\n",
       "    </tr>\n",
       "    <tr>\n",
       "      <th>319</th>\n",
       "      <td>PRESENCE OF A COMPUTER AND TYPE OF INTERNET SU...</td>\n",
       "    </tr>\n",
       "    <tr>\n",
       "      <th>320</th>\n",
       "      <td>PRESENCE OF A COMPUTER AND TYPE OF INTERNET SU...</td>\n",
       "    </tr>\n",
       "    <tr>\n",
       "      <th>321</th>\n",
       "      <td>PRESENCE OF A COMPUTER AND TYPE OF INTERNET SU...</td>\n",
       "    </tr>\n",
       "    <tr>\n",
       "      <th>322</th>\n",
       "      <td>PRESENCE OF A COMPUTER AND TYPE OF INTERNET SU...</td>\n",
       "    </tr>\n",
       "    <tr>\n",
       "      <th>323</th>\n",
       "      <td>IMPUTATION OF HOUSEHOLD INTERNET ACCESS</td>\n",
       "    </tr>\n",
       "    <tr>\n",
       "      <th>324</th>\n",
       "      <td>IMPUTATION OF HOUSEHOLD COMPUTER TYPE</td>\n",
       "    </tr>\n",
       "    <tr>\n",
       "      <th>325</th>\n",
       "      <td>IMPUTATION OF HOUSEHOLD INTERNET SUBSCRIPTION ...</td>\n",
       "    </tr>\n",
       "  </tbody>\n",
       "</table>\n",
       "<p>326 rows × 1 columns</p>\n",
       "</div>"
      ],
      "text/plain": [
       "                                                     0\n",
       "0                             SEX BY AGE (WHITE ALONE)\n",
       "1         SEX BY AGE (BLACK OR AFRICAN AMERICAN ALONE)\n",
       "2    SEX BY AGE (AMERICAN INDIAN AND ALASKA NATIVE ...\n",
       "3                             SEX BY AGE (ASIAN ALONE)\n",
       "4    SEX BY AGE (NATIVE HAWAIIAN AND OTHER PACIFIC ...\n",
       "5                   SEX BY AGE (SOME OTHER RACE ALONE)\n",
       "6                       SEX BY AGE (TWO OR MORE RACES)\n",
       "7     SEX BY AGE (WHITE ALONE, NOT HISPANIC OR LATINO)\n",
       "8                      SEX BY AGE (HISPANIC OR LATINO)\n",
       "9                                        DETAILED RACE\n",
       "10   AMERICAN INDIAN AND ALASKA NATIVE ALONE FOR SE...\n",
       "11                      ASIAN ALONE BY SELECTED GROUPS\n",
       "12   NATIVE HAWAIIAN AND OTHER PACIFIC ISLANDER ALO...\n",
       "13   AMERICAN INDIAN AND ALASKA NATIVE (AIAN) ALONE...\n",
       "14   ASIAN ALONE OR IN ANY COMBINATION BY SELECTED ...\n",
       "15   NATIVE HAWAIIAN AND OTHER PACIFIC ISLANDER ALO...\n",
       "16        HISPANIC OR LATINO ORIGIN BY SPECIFIC ORIGIN\n",
       "17                   HISPANIC OR LATINO ORIGIN BY RACE\n",
       "18                             FIRST ANCESTRY REPORTED\n",
       "19                            SECOND ANCESTRY REPORTED\n",
       "20                             TOTAL ANCESTRY REPORTED\n",
       "21                    PEOPLE REPORTING SINGLE ANCESTRY\n",
       "22                  PEOPLE REPORTING MULTIPLE ANCESTRY\n",
       "23                           PEOPLE REPORTING ANCESTRY\n",
       "24                                            ANCESTRY\n",
       "25   NATIVITY AND CITIZENSHIP STATUS IN THE UNITED ...\n",
       "26                          PLACE OF BIRTH BY NATIVITY\n",
       "27                              SEX BY AGE BY NATIVITY\n",
       "28      YEAR OF ENTRY BY NATIVITY IN THE UNITED STATES\n",
       "29      PLACE OF BIRTH FOR THE FOREIGN-BORN POPULATION\n",
       "..                                                 ...\n",
       "296  HEALTH INSURANCE COVERAGE STATUS AND TYPE BY W...\n",
       "297  PRIVATE HEALTH INSURANCE BY WORK EXPERIENCE BY...\n",
       "298  PRIVATE HEALTH INSURANCE BY WORK EXPERIENCE BY...\n",
       "299  PUBLIC HEALTH INSURANCE BY WORK EXPERIENCE BY ...\n",
       "300  PUBLIC HEALTH INSURANCE BY WORK EXPERIENCE BY AGE\n",
       "301  HEALTH INSURANCE COVERAGE STATUS AND TYPE BY R...\n",
       "302  PRIVATE HEALTH INSURANCE  BY RATIO OF INCOME T...\n",
       "303  PUBLIC HEALTH INSURANCE BY RATIO OF INCOME TO ...\n",
       "304  PRIVATE HEALTH INSURANCE BY RATIO OF INCOME TO...\n",
       "305  HEALTH INSURANCE COVERAGE STATUS AND TYPE BY L...\n",
       "306  PRIVATE HEALTH INSURANCE BY SEX BY ENROLLMENT ...\n",
       "307                    TYPES OF COMPUTERS IN HOUSEHOLD\n",
       "308  PRESENCE AND TYPES OF INTERNET SUBSCRIPTIONS I...\n",
       "309  PRESENCE OF A COMPUTER AND TYPE OF INTERNET SU...\n",
       "310  HOUSEHOLD INCOME IN THE LAST 12 MONTHS (IN 201...\n",
       "311  AGE BY PRESENCE OF A COMPUTER AND TYPES OF INT...\n",
       "312  EDUCATIONAL ATTAINMENT BY PRESENCE OF A COMPUT...\n",
       "313  LABOR FORCE STATUS BY PRESENCE OF A COMPUTER A...\n",
       "314  PRESENCE OF A COMPUTER AND TYPE OF INTERNET SU...\n",
       "315  PRESENCE OF A COMPUTER AND TYPE OF INTERNET SU...\n",
       "316  PRESENCE OF A COMPUTER AND TYPE OF INTERNET SU...\n",
       "317  PRESENCE OF A COMPUTER AND TYPE OF INTERNET SU...\n",
       "318  PRESENCE OF A COMPUTER AND TYPE OF INTERNET SU...\n",
       "319  PRESENCE OF A COMPUTER AND TYPE OF INTERNET SU...\n",
       "320  PRESENCE OF A COMPUTER AND TYPE OF INTERNET SU...\n",
       "321  PRESENCE OF A COMPUTER AND TYPE OF INTERNET SU...\n",
       "322  PRESENCE OF A COMPUTER AND TYPE OF INTERNET SU...\n",
       "323            IMPUTATION OF HOUSEHOLD INTERNET ACCESS\n",
       "324              IMPUTATION OF HOUSEHOLD COMPUTER TYPE\n",
       "325  IMPUTATION OF HOUSEHOLD INTERNET SUBSCRIPTION ...\n",
       "\n",
       "[326 rows x 1 columns]"
      ]
     },
     "execution_count": 77,
     "metadata": {},
     "output_type": "execute_result"
    }
   ],
   "source": [
    "df3 = pa.merge(ba, how='left', on=['Table ID','Q', 'A', 'Table Title'])\n",
    "df3 = df3[pd.isnull(df3['dataCol_y'])]\n",
    "pd.DataFrame(df3['Q'].unique())"
   ]
  },
  {
   "cell_type": "code",
   "execution_count": 78,
   "metadata": {
    "collapsed": true
   },
   "outputs": [],
   "source": [
    "df3.to_csv('../../Data/raw_aggData/what_we_can_predict.csv')"
   ]
  },
  {
   "cell_type": "code",
   "execution_count": null,
   "metadata": {
    "collapsed": true
   },
   "outputs": [],
   "source": []
  }
 ],
 "metadata": {
  "kernelspec": {
   "display_name": "Python 2",
   "language": "python",
   "name": "python2"
  },
  "language_info": {
   "codemirror_mode": {
    "name": "ipython",
    "version": 2
   },
   "file_extension": ".py",
   "mimetype": "text/x-python",
   "name": "python",
   "nbconvert_exporter": "python",
   "pygments_lexer": "ipython2",
   "version": "2.7.11"
  }
 },
 "nbformat": 4,
 "nbformat_minor": 0
}
